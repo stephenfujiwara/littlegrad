{
 "cells": [
  {
   "cell_type": "code",
   "execution_count": 1,
   "metadata": {},
   "outputs": [],
   "source": [
    "import math\n",
    "import numpy as np\n",
    "import matplotlib.pyplot as plt\n",
    "%matplotlib inline"
   ]
  },
  {
   "cell_type": "code",
   "execution_count": 2,
   "metadata": {},
   "outputs": [],
   "source": [
    "def f(x):\n",
    "    return 3*x**2 - 4*x + 5"
   ]
  },
  {
   "cell_type": "code",
   "execution_count": 3,
   "metadata": {},
   "outputs": [
    {
     "data": {
      "text/plain": [
       "Text(0, 0.5, 'y')"
      ]
     },
     "execution_count": 3,
     "metadata": {},
     "output_type": "execute_result"
    },
    {
     "data": {
      "image/png": "[encoded data removed]",
      "text/plain": [
       "<Figure size 432x288 with 1 Axes>"
      ]
     },
     "metadata": {
      "needs_background": "light"
     },
     "output_type": "display_data"
    }
   ],
   "source": [
    "xs = np.arange(-5, 5, 0.25)\n",
    "ys = f(xs)\n",
    "plt.plot(xs, ys)\n",
    "plt.xlabel(xlabel='x')\n",
    "plt.ylabel(ylabel='y')"
   ]
  },
  {
   "cell_type": "code",
   "execution_count": 4,
   "metadata": {},
   "outputs": [
    {
     "name": "stdout",
     "output_type": "stream",
     "text": [
      "14.00300000000243\n",
      "14.000300000063248\n",
      "14.00003000000538\n",
      "14.000003002223592\n",
      "14.000000305713908\n",
      "14.000000092551085\n",
      "14.000001158365187\n",
      "14.000001158365187\n",
      "14.000178794049125\n",
      "14.001244608152765\n",
      "13.997691894473965\n",
      "14.210854715201993\n",
      "10.658141036401494\n",
      "0.0\n",
      "0.0\n",
      "0.0\n",
      "0.0\n",
      "0.0\n",
      "0.0\n",
      "0.0\n"
     ]
    }
   ],
   "source": [
    "# Let's try to get the derivative numerically (at x = 3)\n",
    "h = 0.01\n",
    "x = 3\n",
    "(f(x + h) - f(x)) / h\n",
    "for i in range(20):\n",
    "    h = h * 0.1\n",
    "    print((f(x + h) - f(x)) / h)\n",
    "# At some point, the answer is incorrect, because of floating point arithmetic \n",
    "# and the memory for the representation of these numbers is finite."
   ]
  },
  {
   "cell_type": "code",
   "execution_count": 5,
   "metadata": {},
   "outputs": [
    {
     "data": {
      "text/plain": [
       "2.9753977059954195e-07"
      ]
     },
     "execution_count": 5,
     "metadata": {},
     "output_type": "execute_result"
    }
   ],
   "source": [
    "# at x = 2/3\n",
    "h = 0.0000001\n",
    "x = 2/3\n",
    "(f(x + h) - f(x)) / h\n",
    "# the derivative approaches 0, so at x = 2/3 there is no response by the function to a change in x."
   ]
  },
  {
   "cell_type": "code",
   "execution_count": 6,
   "metadata": {},
   "outputs": [
    {
     "ename": "TypeError",
     "evalue": "unsupported operand type(s) for +: 'Value' and 'Value'",
     "output_type": "error",
     "traceback": [
      "\u001b[0;31m---------------------------------------------------------------------------\u001b[0m",
      "\u001b[0;31mTypeError\u001b[0m                                 Traceback (most recent call last)",
      "\u001b[1;32m/home/stephen/source/littlegrad/littlegrad.ipynb Cell 6\u001b[0m in \u001b[0;36m<cell line: 12>\u001b[0;34m()\u001b[0m\n\u001b[1;32m     <a href='vscode-notebook-cell://wsl%2Bubuntu/home/stephen/source/littlegrad/littlegrad.ipynb#W5sdnNjb2RlLXJlbW90ZQ%3D%3D?line=9'>10</a>\u001b[0m b \u001b[39m=\u001b[39m Value(\u001b[39m-\u001b[39m\u001b[39m3.0\u001b[39m)\n\u001b[1;32m     <a href='vscode-notebook-cell://wsl%2Bubuntu/home/stephen/source/littlegrad/littlegrad.ipynb#W5sdnNjb2RlLXJlbW90ZQ%3D%3D?line=10'>11</a>\u001b[0m \u001b[39m# a, b are Value objects, we need to define addition for these Value objects.\u001b[39;00m\n\u001b[0;32m---> <a href='vscode-notebook-cell://wsl%2Bubuntu/home/stephen/source/littlegrad/littlegrad.ipynb#W5sdnNjb2RlLXJlbW90ZQ%3D%3D?line=11'>12</a>\u001b[0m a \u001b[39m+\u001b[39;49m b\n",
      "\u001b[0;31mTypeError\u001b[0m: unsupported operand type(s) for +: 'Value' and 'Value'"
     ]
    }
   ],
   "source": [
    "# defining the skeleton of the autograd engine\n",
    "class Value:\n",
    "    def __init__(self, data) -> None:\n",
    "        self.data = data\n",
    "    \n",
    "    def __repr__(self) -> str:\n",
    "        return f\"Value(data={self.data})\"\n",
    "\n",
    "a = Value(2.0)\n",
    "b = Value(-3.0)\n",
    "# a, b are Value objects, we need to define addition for these Value objects.\n",
    "a + b"
   ]
  },
  {
   "cell_type": "code",
   "execution_count": 7,
   "metadata": {},
   "outputs": [
    {
     "data": {
      "text/plain": [
       "Value(data=-1.0)"
      ]
     },
     "execution_count": 7,
     "metadata": {},
     "output_type": "execute_result"
    }
   ],
   "source": [
    "# defining the skeleton of the autograd engine\n",
    "class Value:\n",
    "    def __init__(self, data) -> None:\n",
    "        self.data = data\n",
    "    \n",
    "    def __repr__(self) -> str:\n",
    "        return f\"Value(data={self.data})\"\n",
    "    \n",
    "    def __add__(self, other):\n",
    "        return Value(a.data + other.data)\n",
    "\n",
    "# Now addition should work.\n",
    "a = Value(2.0)\n",
    "b = Value(-3.0)\n",
    "a + b"
   ]
  },
  {
   "cell_type": "markdown",
   "metadata": {},
   "source": [
    "Now, let's add some more functionality to cover the basic arithmetical operations."
   ]
  },
  {
   "cell_type": "code",
   "execution_count": 8,
   "metadata": {},
   "outputs": [
    {
     "data": {
      "text/plain": [
       "Value(data=-6.0)"
      ]
     },
     "execution_count": 8,
     "metadata": {},
     "output_type": "execute_result"
    }
   ],
   "source": [
    "# defining the skeleton of the autograd engine\n",
    "class Value:\n",
    "    def __init__(self, data) -> None:\n",
    "        self.data = data\n",
    "    \n",
    "    def __repr__(self) -> str:\n",
    "        return f\"Value(data={self.data})\"\n",
    "    \n",
    "    def __add__(self, other):\n",
    "        return Value(self.data + other.data)\n",
    "    \n",
    "    def __mul__(self, other):\n",
    "        return Value(self.data * other.data)\n",
    "\n",
    "# Now addition should work.\n",
    "a = Value(2.0)\n",
    "b = Value(-3.0)\n",
    "a + b\n",
    "a * b\n"
   ]
  },
  {
   "cell_type": "markdown",
   "metadata": {},
   "source": [
    "Now, we need to create the connected tissue that allows us to know what values were used to create other values."
   ]
  },
  {
   "cell_type": "code",
   "execution_count": 9,
   "metadata": {},
   "outputs": [
    {
     "name": "stdout",
     "output_type": "stream",
     "text": [
      "Value(data=4.0) children =  {Value(data=-6.0), Value(data=10.0)}\n"
     ]
    }
   ],
   "source": [
    "# defining the skeleton of the autograd engine\n",
    "class Value:\n",
    "    def __init__(self, data, children=()) -> None:\n",
    "        self.data = data\n",
    "        self._prev = set(children)\n",
    "    \n",
    "    def __repr__(self) -> str:\n",
    "        return f\"Value(data={self.data})\"\n",
    "    \n",
    "    def __add__(self, other):\n",
    "        return Value(self.data + other.data, children=(self, other))\n",
    "    \n",
    "    def __mul__(self, other):\n",
    "        return Value(self.data * other.data, children=(self, other))\n",
    "\n",
    "# Now addition should work.\n",
    "a = Value(2.0)\n",
    "b = Value(-3.0)\n",
    "c = Value(10.0)\n",
    "d = a*b + c\n",
    "print(d, \"children = \", d._prev)"
   ]
  },
  {
   "cell_type": "markdown",
   "metadata": {},
   "source": [
    "We still don't have a way of tracking what operation was used to create a Value object, so \n",
    "let's do that. "
   ]
  },
  {
   "cell_type": "code",
   "execution_count": 10,
   "metadata": {},
   "outputs": [
    {
     "name": "stdout",
     "output_type": "stream",
     "text": [
      "Value(data=-6.0) chilren = {Value(data=2.0), Value(data=-3.0)} _op = *\n"
     ]
    }
   ],
   "source": [
    "# defining the skeleton of the autograd engine\n",
    "class Value:\n",
    "    def __init__(self, data, children=(), op=\"\", label='') -> None:\n",
    "        self.data = data\n",
    "        self._prev = set(children)\n",
    "        self._op = op\n",
    "        self.label = label\n",
    "    \n",
    "    def __repr__(self) -> str:\n",
    "        return f\"Value(data={self.data})\"\n",
    "    \n",
    "    def __add__(self, other):\n",
    "        return Value(self.data + other.data, children=(self, other), op='+')\n",
    "    \n",
    "    def __mul__(self, other):\n",
    "        return Value(self.data * other.data, children=(self, other), op='*')\n",
    "\n",
    "# Now addition should work.\n",
    "a = Value(2.0, label='a')\n",
    "b = Value(-3.0, label='b')\n",
    "c = Value(10.0, label = 'c')\n",
    "d = a*b; d.label = 'd'\n",
    "e = d + c; e.label = 'e'\n",
    "f = Value(-2.0, label='f')\n",
    "L = e*f; L.label = 'L'\n",
    "print(d, \"chilren =\", d._prev, \"_op =\", d._op)"
   ]
  },
  {
   "cell_type": "markdown",
   "metadata": {},
   "source": [
    "Now, let's create a way to visualize the graph of interconnected Value objects and their relationships\n",
    "with respect to each other."
   ]
  },
  {
   "cell_type": "code",
   "execution_count": 11,
   "metadata": {},
   "outputs": [
    {
     "data": {
      "text/plain": [
       "({Value(data=-3.0), Value(data=-6.0), Value(data=2.0)},\n",
       " {(Value(data=-3.0), Value(data=-6.0)), (Value(data=2.0), Value(data=-6.0))})"
      ]
     },
     "execution_count": 11,
     "metadata": {},
     "output_type": "execute_result"
    }
   ],
   "source": [
    "from graphviz import Digraph\n",
    "\n",
    "def trace(root):\n",
    "    # keep track of the nodes and edges to form a graph\n",
    "    nodes, edges = set(), set()\n",
    "    def build(v):\n",
    "        if v not in nodes:\n",
    "            nodes.add(v)\n",
    "            for child in v._prev:\n",
    "                edges.add((child, v))\n",
    "                build(child)\n",
    "    build(root)\n",
    "    return nodes, edges\n",
    "\n",
    "trace(d)"
   ]
  },
  {
   "cell_type": "code",
   "execution_count": 12,
   "metadata": {},
   "outputs": [
    {
     "ename": "AttributeError",
     "evalue": "'Value' object has no attribute 'grad'",
     "output_type": "error",
     "traceback": [
      "\u001b[0;31m---------------------------------------------------------------------------\u001b[0m",
      "\u001b[0;31mAttributeError\u001b[0m                            Traceback (most recent call last)",
      "\u001b[1;32m/home/stephen/source/littlegrad/littlegrad.ipynb Cell 16\u001b[0m in \u001b[0;36m<cell line: 19>\u001b[0;34m()\u001b[0m\n\u001b[1;32m     <a href='vscode-notebook-cell://wsl%2Bubuntu/home/stephen/source/littlegrad/littlegrad.ipynb#X21sdnNjb2RlLXJlbW90ZQ%3D%3D?line=15'>16</a>\u001b[0m         dot\u001b[39m.\u001b[39medge(\u001b[39mstr\u001b[39m(\u001b[39mid\u001b[39m(node1)), \u001b[39mstr\u001b[39m(\u001b[39mid\u001b[39m(node2)) \u001b[39m+\u001b[39m node2\u001b[39m.\u001b[39m_op)\n\u001b[1;32m     <a href='vscode-notebook-cell://wsl%2Bubuntu/home/stephen/source/littlegrad/littlegrad.ipynb#X21sdnNjb2RlLXJlbW90ZQ%3D%3D?line=17'>18</a>\u001b[0m     \u001b[39mreturn\u001b[39;00m dot\n\u001b[0;32m---> <a href='vscode-notebook-cell://wsl%2Bubuntu/home/stephen/source/littlegrad/littlegrad.ipynb#X21sdnNjb2RlLXJlbW90ZQ%3D%3D?line=18'>19</a>\u001b[0m draw_dot(L)\n",
      "\u001b[1;32m/home/stephen/source/littlegrad/littlegrad.ipynb Cell 16\u001b[0m in \u001b[0;36mdraw_dot\u001b[0;34m(root)\u001b[0m\n\u001b[1;32m      <a href='vscode-notebook-cell://wsl%2Bubuntu/home/stephen/source/littlegrad/littlegrad.ipynb#X21sdnNjb2RlLXJlbW90ZQ%3D%3D?line=4'>5</a>\u001b[0m \u001b[39mfor\u001b[39;00m node \u001b[39min\u001b[39;00m nodes:\n\u001b[1;32m      <a href='vscode-notebook-cell://wsl%2Bubuntu/home/stephen/source/littlegrad/littlegrad.ipynb#X21sdnNjb2RlLXJlbW90ZQ%3D%3D?line=5'>6</a>\u001b[0m     uid \u001b[39m=\u001b[39m \u001b[39mstr\u001b[39m(\u001b[39mid\u001b[39m(node)) \u001b[39m# retrieves unique id of each object\u001b[39;00m\n\u001b[0;32m----> <a href='vscode-notebook-cell://wsl%2Bubuntu/home/stephen/source/littlegrad/littlegrad.ipynb#X21sdnNjb2RlLXJlbW90ZQ%3D%3D?line=6'>7</a>\u001b[0m     dot\u001b[39m.\u001b[39mnode(name \u001b[39m=\u001b[39m uid, label \u001b[39m=\u001b[39m \u001b[39mf\u001b[39m\u001b[39m\"\u001b[39m\u001b[39m{\u001b[39;00mnode\u001b[39m.\u001b[39mlabel\u001b[39m}\u001b[39;00m\u001b[39m | data \u001b[39m\u001b[39m{\u001b[39;00mnode\u001b[39m.\u001b[39mdata\u001b[39m:\u001b[39;00m\u001b[39m.4f\u001b[39m\u001b[39m}\u001b[39;00m\u001b[39m | grad \u001b[39m\u001b[39m{\u001b[39;00mnode\u001b[39m.\u001b[39mgrad\u001b[39m:\u001b[39;00m\u001b[39m.4f\u001b[39m\u001b[39m}\u001b[39;00m\u001b[39m\"\u001b[39m, shape\u001b[39m=\u001b[39m\u001b[39m'\u001b[39m\u001b[39mrecord\u001b[39m\u001b[39m'\u001b[39m)\n\u001b[1;32m      <a href='vscode-notebook-cell://wsl%2Bubuntu/home/stephen/source/littlegrad/littlegrad.ipynb#X21sdnNjb2RlLXJlbW90ZQ%3D%3D?line=7'>8</a>\u001b[0m     \u001b[39mif\u001b[39;00m node\u001b[39m.\u001b[39m_op:\n\u001b[1;32m      <a href='vscode-notebook-cell://wsl%2Bubuntu/home/stephen/source/littlegrad/littlegrad.ipynb#X21sdnNjb2RlLXJlbW90ZQ%3D%3D?line=8'>9</a>\u001b[0m         \u001b[39m# if the value is a result of an operation, create a node for the operation\u001b[39;00m\n\u001b[1;32m     <a href='vscode-notebook-cell://wsl%2Bubuntu/home/stephen/source/littlegrad/littlegrad.ipynb#X21sdnNjb2RlLXJlbW90ZQ%3D%3D?line=9'>10</a>\u001b[0m         dot\u001b[39m.\u001b[39mnode(name \u001b[39m=\u001b[39m uid \u001b[39m+\u001b[39m node\u001b[39m.\u001b[39m_op, label\u001b[39m=\u001b[39mnode\u001b[39m.\u001b[39m_op)\n",
      "\u001b[0;31mAttributeError\u001b[0m: 'Value' object has no attribute 'grad'"
     ]
    }
   ],
   "source": [
    "def draw_dot(root):\n",
    "    dot = Digraph(format='svg', graph_attr={'rankdir' : 'LR'}) # graph will be layed out from left to right\n",
    "\n",
    "    nodes, edges = trace(root)\n",
    "    for node in nodes:\n",
    "        uid = str(id(node)) # retrieves unique id of each object\n",
    "        dot.node(name = uid, label = f\"{node.label} | data {node.data:.4f} | grad {node.grad:.4f}\", shape='record')\n",
    "        if node._op:\n",
    "            # if the value is a result of an operation, create a node for the operation\n",
    "            dot.node(name = uid + node._op, label=node._op)\n",
    "            # connect the op node to the resulting value\n",
    "            dot.edge(uid + node._op, uid)\n",
    "    \n",
    "    for node1, node2 in edges:\n",
    "        # connect node1 to the op node of op2\n",
    "        dot.edge(str(id(node1)), str(id(node2)) + node2._op)\n",
    "\n",
    "    return dot\n",
    "draw_dot(L)"
   ]
  },
  {
   "cell_type": "markdown",
   "metadata": {},
   "source": [
    "Now, we still don't have a way of tracking the gradient. So, we introduce a new variable called `grad` in the Value object to keep the derivative with respect\n",
    "to its child nodes."
   ]
  },
  {
   "cell_type": "code",
   "execution_count": 13,
   "metadata": {},
   "outputs": [
    {
     "name": "stdout",
     "output_type": "stream",
     "text": [
      "Value(data=-6.0) chilren = {Value(data=2.0), Value(data=-3.0)} _op = *\n"
     ]
    }
   ],
   "source": [
    "# defining the skeleton of the autograd engine\n",
    "class Value:\n",
    "    def __init__(self, data, children=(), op=\"\", label='') -> None:\n",
    "        self.data = data\n",
    "        self.grad = 0\n",
    "        self._prev = set(children)\n",
    "        self._op = op\n",
    "        self.label = label\n",
    "    \n",
    "    def __repr__(self) -> str:\n",
    "        return f\"Value(data={self.data})\"\n",
    "    \n",
    "    def __add__(self, other):\n",
    "        return Value(self.data + other.data, children=(self, other), op='+')\n",
    "    \n",
    "    def __mul__(self, other):\n",
    "        return Value(self.data * other.data, children=(self, other), op='*')\n",
    "\n",
    "# Now addition should work.\n",
    "a = Value(2.0, label='a')\n",
    "b = Value(-3.0, label='b')\n",
    "c = Value(10.0, label = 'c')\n",
    "d = a*b; d.label = 'd'\n",
    "e = d + c; e.label = 'e'\n",
    "f = Value(-2.0, label='f')\n",
    "L = e*f; L.label = 'L'\n",
    "print(d, \"chilren =\", d._prev, \"_op =\", d._op)"
   ]
  },
  {
   "cell_type": "markdown",
   "metadata": {},
   "source": [
    "We can first try to do backpropogation manually and see how each of the inputs affect the final output.\n",
    "\n",
    "The key here is to abide by the chain rule where the rate of change of a variable $z$ with respect to $x$, through\n",
    "an intermediate variable $y$ is:\n",
    "\n",
    "$ \\frac{dz}{dx} = \\frac{dz}{dy}\\cdot\\frac{dy}{dz}$"
   ]
  },
  {
   "cell_type": "code",
   "execution_count": 14,
   "metadata": {},
   "outputs": [],
   "source": [
    "# dL/dL = 1\n",
    "L.grad = 1\n",
    "# dL/df = e\n",
    "f.grad = 4.0\n",
    "#dL/de = f\n",
    "e.grad = -2.0\n",
    "# dL/dd = dL/de * de/dd (Chain Rule is important here)\n",
    "d.grad = -2.0 * 1.0\n",
    "# dL/dc = dL/de * de/dc\n",
    "c.grad = -2.0 * 1.0\n",
    "# dL/db = dL/dd * dd/db\n",
    "b.grad = -2.0 * 2.0\n",
    "# dL/da = dL/dd * dd/da\n",
    "a.grad = -2.0 * -3.0"
   ]
  },
  {
   "cell_type": "markdown",
   "metadata": {},
   "source": [
    "Now, we can plot our graph and see how each variable affects the final output.\n",
    "\n",
    "Take notice of the addition operation/node; it simply routes the derivative backwards, since it's local gradient is 1."
   ]
  },
  {
   "cell_type": "code",
   "execution_count": 15,
   "metadata": {},
   "outputs": [
    {
     "data": {
      "image/svg+xml": "<?xml version=\"1.0\" encoding=\"UTF-8\" standalone=\"no\"?>\n<!DOCTYPE svg PUBLIC \"-//W3C//DTD SVG 1.1//EN\"\n \"http://www.w3.org/Graphics/SVG/1.1/DTD/svg11.dtd\">\n<!-- Generated by graphviz version 2.43.0 (0)\n -->\n<!-- Title: %3 Pages: 1 -->\n<svg width=\"820pt\" height=\"210pt\"\n viewBox=\"0.00 0.00 820.00 210.00\" xmlns=\"http://www.w3.org/2000/svg\" xmlns:xlink=\"http://www.w3.org/1999/xlink\">\n<g id=\"graph0\" class=\"graph\" transform=\"scale(1 1) rotate(0) translate(4 206)\">\n<title>%3</title>\n<polygon fill=\"white\" stroke=\"transparent\" points=\"-4,4 -4,-206 816,-206 816,4 -4,4\"/>\n<!-- 140372246333184 -->\n<g id=\"node1\" class=\"node\">\n<title>140372246333184</title>\n<polygon fill=\"none\" stroke=\"black\" points=\"705,-88.5 705,-157.5 812,-157.5 812,-88.5 705,-88.5\"/>\n<text text-anchor=\"middle\" x=\"758.5\" y=\"-142.3\" font-family=\"Times,serif\" font-size=\"14.00\">L</text>\n<polyline fill=\"none\" stroke=\"black\" points=\"705,-134.5 812,-134.5 \"/>\n<text text-anchor=\"middle\" x=\"758.5\" y=\"-119.3\" font-family=\"Times,serif\" font-size=\"14.00\">data &#45;8.0000</text>\n<polyline fill=\"none\" stroke=\"black\" points=\"705,-111.5 812,-111.5 \"/>\n<text text-anchor=\"middle\" x=\"758.5\" y=\"-96.3\" font-family=\"Times,serif\" font-size=\"14.00\">grad 1.0000</text>\n</g>\n<!-- 140372246333184* -->\n<g id=\"node2\" class=\"node\">\n<title>140372246333184*</title>\n<ellipse fill=\"none\" stroke=\"black\" cx=\"642\" cy=\"-123\" rx=\"27\" ry=\"18\"/>\n<text text-anchor=\"middle\" x=\"642\" y=\"-119.3\" font-family=\"Times,serif\" font-size=\"14.00\">*</text>\n</g>\n<!-- 140372246333184*&#45;&gt;140372246333184 -->\n<g id=\"edge1\" class=\"edge\">\n<title>140372246333184*&#45;&gt;140372246333184</title>\n<path fill=\"none\" stroke=\"black\" d=\"M669.27,-123C676.94,-123 685.68,-123 694.61,-123\"/>\n<polygon fill=\"black\" stroke=\"black\" points=\"694.71,-126.5 704.71,-123 694.71,-119.5 694.71,-126.5\"/>\n</g>\n<!-- 140372246409472 -->\n<g id=\"node3\" class=\"node\">\n<title>140372246409472</title>\n<polygon fill=\"none\" stroke=\"black\" points=\"235.5,-88.5 235.5,-157.5 343.5,-157.5 343.5,-88.5 235.5,-88.5\"/>\n<text text-anchor=\"middle\" x=\"289.5\" y=\"-142.3\" font-family=\"Times,serif\" font-size=\"14.00\">d</text>\n<polyline fill=\"none\" stroke=\"black\" points=\"235.5,-134.5 343.5,-134.5 \"/>\n<text text-anchor=\"middle\" x=\"289.5\" y=\"-119.3\" font-family=\"Times,serif\" font-size=\"14.00\">data &#45;6.0000</text>\n<polyline fill=\"none\" stroke=\"black\" points=\"235.5,-111.5 343.5,-111.5 \"/>\n<text text-anchor=\"middle\" x=\"289.5\" y=\"-96.3\" font-family=\"Times,serif\" font-size=\"14.00\">grad &#45;2.0000</text>\n</g>\n<!-- 140372246334384+ -->\n<g id=\"node9\" class=\"node\">\n<title>140372246334384+</title>\n<ellipse fill=\"none\" stroke=\"black\" cx=\"408\" cy=\"-79\" rx=\"27\" ry=\"18\"/>\n<text text-anchor=\"middle\" x=\"408\" y=\"-75.3\" font-family=\"Times,serif\" font-size=\"14.00\">+</text>\n</g>\n<!-- 140372246409472&#45;&gt;140372246334384+ -->\n<g id=\"edge5\" class=\"edge\">\n<title>140372246409472&#45;&gt;140372246334384+</title>\n<path fill=\"none\" stroke=\"black\" d=\"M343.64,-102.93C354.24,-98.93 365.06,-94.84 374.7,-91.2\"/>\n<polygon fill=\"black\" stroke=\"black\" points=\"376.14,-94.4 384.25,-87.59 373.66,-87.85 376.14,-94.4\"/>\n</g>\n<!-- 140372246409472* -->\n<g id=\"node4\" class=\"node\">\n<title>140372246409472*</title>\n<ellipse fill=\"none\" stroke=\"black\" cx=\"171\" cy=\"-123\" rx=\"27\" ry=\"18\"/>\n<text text-anchor=\"middle\" x=\"171\" y=\"-119.3\" font-family=\"Times,serif\" font-size=\"14.00\">*</text>\n</g>\n<!-- 140372246409472*&#45;&gt;140372246409472 -->\n<g id=\"edge2\" class=\"edge\">\n<title>140372246409472*&#45;&gt;140372246409472</title>\n<path fill=\"none\" stroke=\"black\" d=\"M198.14,-123C206.22,-123 215.5,-123 224.97,-123\"/>\n<polygon fill=\"black\" stroke=\"black\" points=\"225.27,-126.5 235.27,-123 225.27,-119.5 225.27,-126.5\"/>\n</g>\n<!-- 140373303103936 -->\n<g id=\"node5\" class=\"node\">\n<title>140373303103936</title>\n<polygon fill=\"none\" stroke=\"black\" points=\"0,-132.5 0,-201.5 108,-201.5 108,-132.5 0,-132.5\"/>\n<text text-anchor=\"middle\" x=\"54\" y=\"-186.3\" font-family=\"Times,serif\" font-size=\"14.00\">b</text>\n<polyline fill=\"none\" stroke=\"black\" points=\"0,-178.5 108,-178.5 \"/>\n<text text-anchor=\"middle\" x=\"54\" y=\"-163.3\" font-family=\"Times,serif\" font-size=\"14.00\">data &#45;3.0000</text>\n<polyline fill=\"none\" stroke=\"black\" points=\"0,-155.5 108,-155.5 \"/>\n<text text-anchor=\"middle\" x=\"54\" y=\"-140.3\" font-family=\"Times,serif\" font-size=\"14.00\">grad &#45;4.0000</text>\n</g>\n<!-- 140373303103936&#45;&gt;140372246409472* -->\n<g id=\"edge4\" class=\"edge\">\n<title>140373303103936&#45;&gt;140372246409472*</title>\n<path fill=\"none\" stroke=\"black\" d=\"M108.12,-146.67C118.24,-142.8 128.53,-138.87 137.75,-135.34\"/>\n<polygon fill=\"black\" stroke=\"black\" points=\"139.17,-138.54 147.26,-131.7 136.67,-132 139.17,-138.54\"/>\n</g>\n<!-- 140372246412112 -->\n<g id=\"node6\" class=\"node\">\n<title>140372246412112</title>\n<polygon fill=\"none\" stroke=\"black\" points=\"234,-0.5 234,-69.5 345,-69.5 345,-0.5 234,-0.5\"/>\n<text text-anchor=\"middle\" x=\"289.5\" y=\"-54.3\" font-family=\"Times,serif\" font-size=\"14.00\">c</text>\n<polyline fill=\"none\" stroke=\"black\" points=\"234,-46.5 345,-46.5 \"/>\n<text text-anchor=\"middle\" x=\"289.5\" y=\"-31.3\" font-family=\"Times,serif\" font-size=\"14.00\">data 10.0000</text>\n<polyline fill=\"none\" stroke=\"black\" points=\"234,-23.5 345,-23.5 \"/>\n<text text-anchor=\"middle\" x=\"289.5\" y=\"-8.3\" font-family=\"Times,serif\" font-size=\"14.00\">grad &#45;2.0000</text>\n</g>\n<!-- 140372246412112&#45;&gt;140372246334384+ -->\n<g id=\"edge8\" class=\"edge\">\n<title>140372246412112&#45;&gt;140372246334384+</title>\n<path fill=\"none\" stroke=\"black\" d=\"M345.34,-55.71C355.39,-59.51 365.58,-63.36 374.71,-66.8\"/>\n<polygon fill=\"black\" stroke=\"black\" points=\"373.54,-70.1 384.13,-70.36 376.01,-63.56 373.54,-70.1\"/>\n</g>\n<!-- 140372246334864 -->\n<g id=\"node7\" class=\"node\">\n<title>140372246334864</title>\n<polygon fill=\"none\" stroke=\"black\" points=\"471.5,-132.5 471.5,-201.5 578.5,-201.5 578.5,-132.5 471.5,-132.5\"/>\n<text text-anchor=\"middle\" x=\"525\" y=\"-186.3\" font-family=\"Times,serif\" font-size=\"14.00\">f</text>\n<polyline fill=\"none\" stroke=\"black\" points=\"471.5,-178.5 578.5,-178.5 \"/>\n<text text-anchor=\"middle\" x=\"525\" y=\"-163.3\" font-family=\"Times,serif\" font-size=\"14.00\">data &#45;2.0000</text>\n<polyline fill=\"none\" stroke=\"black\" points=\"471.5,-155.5 578.5,-155.5 \"/>\n<text text-anchor=\"middle\" x=\"525\" y=\"-140.3\" font-family=\"Times,serif\" font-size=\"14.00\">grad 4.0000</text>\n</g>\n<!-- 140372246334864&#45;&gt;140372246333184* -->\n<g id=\"edge9\" class=\"edge\">\n<title>140372246334864&#45;&gt;140372246333184*</title>\n<path fill=\"none\" stroke=\"black\" d=\"M578.79,-146.8C588.93,-142.92 599.28,-138.96 608.54,-135.42\"/>\n<polygon fill=\"black\" stroke=\"black\" points=\"610.03,-138.6 618.11,-131.76 607.52,-132.06 610.03,-138.6\"/>\n</g>\n<!-- 140372246334384 -->\n<g id=\"node8\" class=\"node\">\n<title>140372246334384</title>\n<polygon fill=\"none\" stroke=\"black\" points=\"471,-44.5 471,-113.5 579,-113.5 579,-44.5 471,-44.5\"/>\n<text text-anchor=\"middle\" x=\"525\" y=\"-98.3\" font-family=\"Times,serif\" font-size=\"14.00\">e</text>\n<polyline fill=\"none\" stroke=\"black\" points=\"471,-90.5 579,-90.5 \"/>\n<text text-anchor=\"middle\" x=\"525\" y=\"-75.3\" font-family=\"Times,serif\" font-size=\"14.00\">data 4.0000</text>\n<polyline fill=\"none\" stroke=\"black\" points=\"471,-67.5 579,-67.5 \"/>\n<text text-anchor=\"middle\" x=\"525\" y=\"-52.3\" font-family=\"Times,serif\" font-size=\"14.00\">grad &#45;2.0000</text>\n</g>\n<!-- 140372246334384&#45;&gt;140372246333184* -->\n<g id=\"edge6\" class=\"edge\">\n<title>140372246334384&#45;&gt;140372246333184*</title>\n<path fill=\"none\" stroke=\"black\" d=\"M579.12,-99.33C589.24,-103.2 599.53,-107.13 608.75,-110.66\"/>\n<polygon fill=\"black\" stroke=\"black\" points=\"607.67,-114 618.26,-114.3 610.17,-107.46 607.67,-114\"/>\n</g>\n<!-- 140372246334384+&#45;&gt;140372246334384 -->\n<g id=\"edge3\" class=\"edge\">\n<title>140372246334384+&#45;&gt;140372246334384</title>\n<path fill=\"none\" stroke=\"black\" d=\"M435.1,-79C442.8,-79 451.59,-79 460.57,-79\"/>\n<polygon fill=\"black\" stroke=\"black\" points=\"460.75,-82.5 470.75,-79 460.75,-75.5 460.75,-82.5\"/>\n</g>\n<!-- 140372246412736 -->\n<g id=\"node10\" class=\"node\">\n<title>140372246412736</title>\n<polygon fill=\"none\" stroke=\"black\" points=\"2,-44.5 2,-113.5 106,-113.5 106,-44.5 2,-44.5\"/>\n<text text-anchor=\"middle\" x=\"54\" y=\"-98.3\" font-family=\"Times,serif\" font-size=\"14.00\">a</text>\n<polyline fill=\"none\" stroke=\"black\" points=\"2,-90.5 106,-90.5 \"/>\n<text text-anchor=\"middle\" x=\"54\" y=\"-75.3\" font-family=\"Times,serif\" font-size=\"14.00\">data 2.0000</text>\n<polyline fill=\"none\" stroke=\"black\" points=\"2,-67.5 106,-67.5 \"/>\n<text text-anchor=\"middle\" x=\"54\" y=\"-52.3\" font-family=\"Times,serif\" font-size=\"14.00\">grad 6.0000</text>\n</g>\n<!-- 140372246412736&#45;&gt;140372246409472* -->\n<g id=\"edge7\" class=\"edge\">\n<title>140372246412736&#45;&gt;140372246409472*</title>\n<path fill=\"none\" stroke=\"black\" d=\"M106.11,-98.56C116.91,-102.69 128.01,-106.93 137.87,-110.71\"/>\n<polygon fill=\"black\" stroke=\"black\" points=\"136.66,-113.99 147.25,-114.3 139.16,-107.45 136.66,-113.99\"/>\n</g>\n</g>\n</svg>\n",
      "text/plain": [
       "<graphviz.graphs.Digraph at 0x7faaf696a5b0>"
      ]
     },
     "execution_count": 15,
     "metadata": {},
     "output_type": "execute_result"
    }
   ],
   "source": [
    "draw_dot(L)"
   ]
  },
  {
   "cell_type": "markdown",
   "metadata": {},
   "source": [
    "Now, manually backpropogating is a bit cumbersome. \n",
    "\n",
    "So, we can implement a function to do these derivative calculations and do the backpropogation for us, for each operation we perform.\n",
    "\n",
    "This function is the `_backward` function, this function will be called when we are going backwards through the graph and help us basically \n",
    "apply the chain rule.\n",
    "\n",
    "For each operation, the `_backward` function will leave a \"fingerprint\" of the operation in the resulting output.\n",
    "\n",
    "We can then call this \"fingerprint\" function on the output of the operation to see the gradients of the inputs with respect to the output."
   ]
  },
  {
   "cell_type": "code",
   "execution_count": 16,
   "metadata": {},
   "outputs": [],
   "source": [
    "# defining the skeleton of the autograd engine\n",
    "class Value:\n",
    "    def __init__(self, data, children=(), op=\"\", label='') -> None:\n",
    "        self.data = data\n",
    "        self.grad = 0\n",
    "        self._backward = lambda:None\n",
    "        self._prev = set(children)\n",
    "        self._op = op\n",
    "        self.label = label\n",
    "    \n",
    "    def __repr__(self) -> str:\n",
    "        return f\"Value(data={self.data})\"\n",
    "    \n",
    "    def __add__(self, other):\n",
    "        out = Value(self.data + other.data, children=(self, other), op='+')\n",
    "\n",
    "        def _backward():\n",
    "            self.grad = 1.0 * out.grad\n",
    "            other.grad = 1.0 * out.grad\n",
    "        out._backward = _backward         # we are not calling _backward, they return None, we are storing the function itself.\n",
    "\n",
    "        return out\n",
    "    \n",
    "    def __mul__(self, other):\n",
    "        out = Value(self.data * other.data, children=(self, other), op='*')\n",
    "\n",
    "        def _backward():\n",
    "            self.grad = other.data * out.grad\n",
    "            other.grad = self.data * out.grad\n",
    "        out._backward =_backward\n",
    "\n",
    "        return out\n",
    "    \n",
    "    def tanh(self):\n",
    "        x = self.data\n",
    "        t = (math.exp(2*x) - 1) / (math.exp(2*x) + 1)\n",
    "        out = Value(t, children=(self, ), op='tanh')\n",
    "\n",
    "        def _backward():\n",
    "            self.grad = (1 - t**2) * out.grad\n",
    "        out._backward = _backward\n",
    "        \n",
    "        return out\n"
   ]
  },
  {
   "cell_type": "code",
   "execution_count": 17,
   "metadata": {},
   "outputs": [
    {
     "data": {
      "image/svg+xml": "<?xml version=\"1.0\" encoding=\"UTF-8\" standalone=\"no\"?>\n<!DOCTYPE svg PUBLIC \"-//W3C//DTD SVG 1.1//EN\"\n \"http://www.w3.org/Graphics/SVG/1.1/DTD/svg11.dtd\">\n<!-- Generated by graphviz version 2.43.0 (0)\n -->\n<!-- Title: %3 Pages: 1 -->\n<svg width=\"342pt\" height=\"166pt\"\n viewBox=\"0.00 0.00 342.00 166.00\" xmlns=\"http://www.w3.org/2000/svg\" xmlns:xlink=\"http://www.w3.org/1999/xlink\">\n<g id=\"graph0\" class=\"graph\" transform=\"scale(1 1) rotate(0) translate(4 162)\">\n<title>%3</title>\n<polygon fill=\"white\" stroke=\"transparent\" points=\"-4,4 -4,-162 338,-162 338,4 -4,4\"/>\n<!-- 140372257055408 -->\n<g id=\"node1\" class=\"node\">\n<title>140372257055408</title>\n<polygon fill=\"none\" stroke=\"black\" points=\"0,-88.5 0,-157.5 104,-157.5 104,-88.5 0,-88.5\"/>\n<text text-anchor=\"middle\" x=\"52\" y=\"-142.3\" font-family=\"Times,serif\" font-size=\"14.00\">a</text>\n<polyline fill=\"none\" stroke=\"black\" points=\"0,-134.5 104,-134.5 \"/>\n<text text-anchor=\"middle\" x=\"52\" y=\"-119.3\" font-family=\"Times,serif\" font-size=\"14.00\">data 2.0000</text>\n<polyline fill=\"none\" stroke=\"black\" points=\"0,-111.5 104,-111.5 \"/>\n<text text-anchor=\"middle\" x=\"52\" y=\"-96.3\" font-family=\"Times,serif\" font-size=\"14.00\">grad 3.0000</text>\n</g>\n<!-- 140372246461360* -->\n<g id=\"node4\" class=\"node\">\n<title>140372246461360*</title>\n<ellipse fill=\"none\" stroke=\"black\" cx=\"167\" cy=\"-79\" rx=\"27\" ry=\"18\"/>\n<text text-anchor=\"middle\" x=\"167\" y=\"-75.3\" font-family=\"Times,serif\" font-size=\"14.00\">*</text>\n</g>\n<!-- 140372257055408&#45;&gt;140372246461360* -->\n<g id=\"edge2\" class=\"edge\">\n<title>140372257055408&#45;&gt;140372246461360*</title>\n<path fill=\"none\" stroke=\"black\" d=\"M104.21,-103.06C114.24,-99.15 124.5,-95.16 133.71,-91.57\"/>\n<polygon fill=\"black\" stroke=\"black\" points=\"135.17,-94.76 143.22,-87.87 132.63,-88.24 135.17,-94.76\"/>\n</g>\n<!-- 140372259519264 -->\n<g id=\"node2\" class=\"node\">\n<title>140372259519264</title>\n<polygon fill=\"none\" stroke=\"black\" points=\"0,-0.5 0,-69.5 104,-69.5 104,-0.5 0,-0.5\"/>\n<text text-anchor=\"middle\" x=\"52\" y=\"-54.3\" font-family=\"Times,serif\" font-size=\"14.00\">b</text>\n<polyline fill=\"none\" stroke=\"black\" points=\"0,-46.5 104,-46.5 \"/>\n<text text-anchor=\"middle\" x=\"52\" y=\"-31.3\" font-family=\"Times,serif\" font-size=\"14.00\">data 3.0000</text>\n<polyline fill=\"none\" stroke=\"black\" points=\"0,-23.5 104,-23.5 \"/>\n<text text-anchor=\"middle\" x=\"52\" y=\"-8.3\" font-family=\"Times,serif\" font-size=\"14.00\">grad 2.0000</text>\n</g>\n<!-- 140372259519264&#45;&gt;140372246461360* -->\n<g id=\"edge3\" class=\"edge\">\n<title>140372259519264&#45;&gt;140372246461360*</title>\n<path fill=\"none\" stroke=\"black\" d=\"M104.21,-54.94C114.24,-58.85 124.5,-62.84 133.71,-66.43\"/>\n<polygon fill=\"black\" stroke=\"black\" points=\"132.63,-69.76 143.22,-70.13 135.17,-63.24 132.63,-69.76\"/>\n</g>\n<!-- 140372246461360 -->\n<g id=\"node3\" class=\"node\">\n<title>140372246461360</title>\n<polygon fill=\"none\" stroke=\"black\" points=\"230,-44.5 230,-113.5 334,-113.5 334,-44.5 230,-44.5\"/>\n<text text-anchor=\"middle\" x=\"282\" y=\"-98.3\" font-family=\"Times,serif\" font-size=\"14.00\">c</text>\n<polyline fill=\"none\" stroke=\"black\" points=\"230,-90.5 334,-90.5 \"/>\n<text text-anchor=\"middle\" x=\"282\" y=\"-75.3\" font-family=\"Times,serif\" font-size=\"14.00\">data 6.0000</text>\n<polyline fill=\"none\" stroke=\"black\" points=\"230,-67.5 334,-67.5 \"/>\n<text text-anchor=\"middle\" x=\"282\" y=\"-52.3\" font-family=\"Times,serif\" font-size=\"14.00\">grad 1.0000</text>\n</g>\n<!-- 140372246461360*&#45;&gt;140372246461360 -->\n<g id=\"edge1\" class=\"edge\">\n<title>140372246461360*&#45;&gt;140372246461360</title>\n<path fill=\"none\" stroke=\"black\" d=\"M194.21,-79C201.88,-79 210.62,-79 219.51,-79\"/>\n<polygon fill=\"black\" stroke=\"black\" points=\"219.58,-82.5 229.58,-79 219.58,-75.5 219.58,-82.5\"/>\n</g>\n</g>\n</svg>\n",
      "text/plain": [
       "<graphviz.graphs.Digraph at 0x7faaf5e2fdc0>"
      ]
     },
     "execution_count": 17,
     "metadata": {},
     "output_type": "execute_result"
    }
   ],
   "source": [
    "a = Value(2.0, label='a')\n",
    "b = Value(3.0, label='b')\n",
    "c = a*b; c.label = 'c'\n",
    "c.grad = 1.0\n",
    "c._backward()\n",
    "draw_dot(c)"
   ]
  },
  {
   "cell_type": "markdown",
   "metadata": {},
   "source": [
    "With this help, we can try to backpropogate on a slightly different set of operations: the mathematical model of the Neuron."
   ]
  },
  {
   "cell_type": "code",
   "execution_count": 18,
   "metadata": {},
   "outputs": [],
   "source": [
    "# simple neuron with two inputs, and thus 2 weights, and a bias\n",
    "# inputs x1, x2\n",
    "x1 = Value(2.0, label='x1')\n",
    "x2 = Value(0.0, label='x2')\n",
    "# weights w1, w2\n",
    "w1 = Value(-3.0, label='w1')\n",
    "w2 = Value(1.0, label='w2')\n",
    "# bias value of the neuron\n",
    "b = Value(6.881373, label='b')\n",
    "#x1*w1 + x2*w2 + b = n\n",
    "x1w1 = x1*w1; x1w1.label='x1w1'\n",
    "x2w2 = x2*w2; x2w2.label='x2w2'\n",
    "x1w1x2w2 = x1w1 + x2w2; x1w1x2w2.label='x1w1 + x2w2'\n",
    "n = x1w1x2w2 + b; n.label = 'n'\n",
    "# output = tanh(n)\n",
    "o = n.tanh(); o.label ='o'"
   ]
  },
  {
   "cell_type": "code",
   "execution_count": 19,
   "metadata": {},
   "outputs": [
    {
     "data": {
      "image/svg+xml": "<?xml version=\"1.0\" encoding=\"UTF-8\" standalone=\"no\"?>\n<!DOCTYPE svg PUBLIC \"-//W3C//DTD SVG 1.1//EN\"\n \"http://www.w3.org/Graphics/SVG/1.1/DTD/svg11.dtd\">\n<!-- Generated by graphviz version 2.43.0 (0)\n -->\n<!-- Title: %3 Pages: 1 -->\n<svg width=\"1058pt\" height=\"342pt\"\n viewBox=\"0.00 0.00 1057.69 342.00\" xmlns=\"http://www.w3.org/2000/svg\" xmlns:xlink=\"http://www.w3.org/1999/xlink\">\n<g id=\"graph0\" class=\"graph\" transform=\"scale(1 1) rotate(0) translate(4 338)\">\n<title>%3</title>\n<polygon fill=\"white\" stroke=\"transparent\" points=\"-4,4 -4,-338 1053.69,-338 1053.69,4 -4,4\"/>\n<!-- 140372246748800 -->\n<g id=\"node1\" class=\"node\">\n<title>140372246748800</title>\n<polygon fill=\"none\" stroke=\"black\" points=\"706,-176.5 706,-245.5 810,-245.5 810,-176.5 706,-176.5\"/>\n<text text-anchor=\"middle\" x=\"758\" y=\"-230.3\" font-family=\"Times,serif\" font-size=\"14.00\">n</text>\n<polyline fill=\"none\" stroke=\"black\" points=\"706,-222.5 810,-222.5 \"/>\n<text text-anchor=\"middle\" x=\"758\" y=\"-207.3\" font-family=\"Times,serif\" font-size=\"14.00\">data 0.8814</text>\n<polyline fill=\"none\" stroke=\"black\" points=\"706,-199.5 810,-199.5 \"/>\n<text text-anchor=\"middle\" x=\"758\" y=\"-184.3\" font-family=\"Times,serif\" font-size=\"14.00\">grad 0.0000</text>\n</g>\n<!-- 140372246748416tanh -->\n<g id=\"node8\" class=\"node\">\n<title>140372246748416tanh</title>\n<ellipse fill=\"none\" stroke=\"black\" cx=\"877.85\" cy=\"-211\" rx=\"31.7\" ry=\"18\"/>\n<text text-anchor=\"middle\" x=\"877.85\" y=\"-207.3\" font-family=\"Times,serif\" font-size=\"14.00\">tanh</text>\n</g>\n<!-- 140372246748800&#45;&gt;140372246748416tanh -->\n<g id=\"edge10\" class=\"edge\">\n<title>140372246748800&#45;&gt;140372246748416tanh</title>\n<path fill=\"none\" stroke=\"black\" d=\"M810,-211C818.58,-211 827.38,-211 835.66,-211\"/>\n<polygon fill=\"black\" stroke=\"black\" points=\"835.82,-214.5 845.82,-211 835.82,-207.5 835.82,-214.5\"/>\n</g>\n<!-- 140372246748800+ -->\n<g id=\"node2\" class=\"node\">\n<title>140372246748800+</title>\n<ellipse fill=\"none\" stroke=\"black\" cx=\"643\" cy=\"-211\" rx=\"27\" ry=\"18\"/>\n<text text-anchor=\"middle\" x=\"643\" y=\"-207.3\" font-family=\"Times,serif\" font-size=\"14.00\">+</text>\n</g>\n<!-- 140372246748800+&#45;&gt;140372246748800 -->\n<g id=\"edge1\" class=\"edge\">\n<title>140372246748800+&#45;&gt;140372246748800</title>\n<path fill=\"none\" stroke=\"black\" d=\"M670.21,-211C677.88,-211 686.62,-211 695.51,-211\"/>\n<polygon fill=\"black\" stroke=\"black\" points=\"695.58,-214.5 705.58,-211 695.58,-207.5 695.58,-214.5\"/>\n</g>\n<!-- 140373223942320 -->\n<g id=\"node3\" class=\"node\">\n<title>140373223942320</title>\n<polygon fill=\"none\" stroke=\"black\" points=\"233,-176.5 233,-245.5 340,-245.5 340,-176.5 233,-176.5\"/>\n<text text-anchor=\"middle\" x=\"286.5\" y=\"-230.3\" font-family=\"Times,serif\" font-size=\"14.00\">x1w1</text>\n<polyline fill=\"none\" stroke=\"black\" points=\"233,-222.5 340,-222.5 \"/>\n<text text-anchor=\"middle\" x=\"286.5\" y=\"-207.3\" font-family=\"Times,serif\" font-size=\"14.00\">data &#45;6.0000</text>\n<polyline fill=\"none\" stroke=\"black\" points=\"233,-199.5 340,-199.5 \"/>\n<text text-anchor=\"middle\" x=\"286.5\" y=\"-184.3\" font-family=\"Times,serif\" font-size=\"14.00\">grad 0.0000</text>\n</g>\n<!-- 140372246748608+ -->\n<g id=\"node15\" class=\"node\">\n<title>140372246748608+</title>\n<ellipse fill=\"none\" stroke=\"black\" cx=\"403\" cy=\"-167\" rx=\"27\" ry=\"18\"/>\n<text text-anchor=\"middle\" x=\"403\" y=\"-163.3\" font-family=\"Times,serif\" font-size=\"14.00\">+</text>\n</g>\n<!-- 140373223942320&#45;&gt;140372246748608+ -->\n<g id=\"edge13\" class=\"edge\">\n<title>140373223942320&#45;&gt;140372246748608+</title>\n<path fill=\"none\" stroke=\"black\" d=\"M340.06,-190.8C350.16,-186.92 360.46,-182.96 369.68,-179.42\"/>\n<polygon fill=\"black\" stroke=\"black\" points=\"371.13,-182.61 379.21,-175.76 368.62,-176.08 371.13,-182.61\"/>\n</g>\n<!-- 140373223942320* -->\n<g id=\"node4\" class=\"node\">\n<title>140373223942320*</title>\n<ellipse fill=\"none\" stroke=\"black\" cx=\"170\" cy=\"-211\" rx=\"27\" ry=\"18\"/>\n<text text-anchor=\"middle\" x=\"170\" y=\"-207.3\" font-family=\"Times,serif\" font-size=\"14.00\">*</text>\n</g>\n<!-- 140373223942320*&#45;&gt;140373223942320 -->\n<g id=\"edge2\" class=\"edge\">\n<title>140373223942320*&#45;&gt;140373223942320</title>\n<path fill=\"none\" stroke=\"black\" d=\"M197.27,-211C204.94,-211 213.68,-211 222.61,-211\"/>\n<polygon fill=\"black\" stroke=\"black\" points=\"222.71,-214.5 232.71,-211 222.71,-207.5 222.71,-214.5\"/>\n</g>\n<!-- 140372257706192 -->\n<g id=\"node5\" class=\"node\">\n<title>140372257706192</title>\n<polygon fill=\"none\" stroke=\"black\" points=\"234.5,-88.5 234.5,-157.5 338.5,-157.5 338.5,-88.5 234.5,-88.5\"/>\n<text text-anchor=\"middle\" x=\"286.5\" y=\"-142.3\" font-family=\"Times,serif\" font-size=\"14.00\">x2w2</text>\n<polyline fill=\"none\" stroke=\"black\" points=\"234.5,-134.5 338.5,-134.5 \"/>\n<text text-anchor=\"middle\" x=\"286.5\" y=\"-119.3\" font-family=\"Times,serif\" font-size=\"14.00\">data 0.0000</text>\n<polyline fill=\"none\" stroke=\"black\" points=\"234.5,-111.5 338.5,-111.5 \"/>\n<text text-anchor=\"middle\" x=\"286.5\" y=\"-96.3\" font-family=\"Times,serif\" font-size=\"14.00\">grad 0.0000</text>\n</g>\n<!-- 140372257706192&#45;&gt;140372246748608+ -->\n<g id=\"edge6\" class=\"edge\">\n<title>140372257706192&#45;&gt;140372246748608+</title>\n<path fill=\"none\" stroke=\"black\" d=\"M338.72,-142.68C349.24,-146.73 360.03,-150.87 369.66,-154.57\"/>\n<polygon fill=\"black\" stroke=\"black\" points=\"368.62,-157.92 379.21,-158.24 371.13,-151.39 368.62,-157.92\"/>\n</g>\n<!-- 140372257706192* -->\n<g id=\"node6\" class=\"node\">\n<title>140372257706192*</title>\n<ellipse fill=\"none\" stroke=\"black\" cx=\"170\" cy=\"-123\" rx=\"27\" ry=\"18\"/>\n<text text-anchor=\"middle\" x=\"170\" y=\"-119.3\" font-family=\"Times,serif\" font-size=\"14.00\">*</text>\n</g>\n<!-- 140372257706192*&#45;&gt;140372257706192 -->\n<g id=\"edge3\" class=\"edge\">\n<title>140372257706192*&#45;&gt;140372257706192</title>\n<path fill=\"none\" stroke=\"black\" d=\"M197.27,-123C205.32,-123 214.54,-123 223.91,-123\"/>\n<polygon fill=\"black\" stroke=\"black\" points=\"224.09,-126.5 234.09,-123 224.09,-119.5 224.09,-126.5\"/>\n</g>\n<!-- 140372246748416 -->\n<g id=\"node7\" class=\"node\">\n<title>140372246748416</title>\n<polygon fill=\"none\" stroke=\"black\" points=\"945.69,-176.5 945.69,-245.5 1049.69,-245.5 1049.69,-176.5 945.69,-176.5\"/>\n<text text-anchor=\"middle\" x=\"997.69\" y=\"-230.3\" font-family=\"Times,serif\" font-size=\"14.00\">o</text>\n<polyline fill=\"none\" stroke=\"black\" points=\"945.69,-222.5 1049.69,-222.5 \"/>\n<text text-anchor=\"middle\" x=\"997.69\" y=\"-207.3\" font-family=\"Times,serif\" font-size=\"14.00\">data 0.7071</text>\n<polyline fill=\"none\" stroke=\"black\" points=\"945.69,-199.5 1049.69,-199.5 \"/>\n<text text-anchor=\"middle\" x=\"997.69\" y=\"-184.3\" font-family=\"Times,serif\" font-size=\"14.00\">grad 0.0000</text>\n</g>\n<!-- 140372246748416tanh&#45;&gt;140372246748416 -->\n<g id=\"edge4\" class=\"edge\">\n<title>140372246748416tanh&#45;&gt;140372246748416</title>\n<path fill=\"none\" stroke=\"black\" d=\"M909.81,-211C917.74,-211 926.54,-211 935.42,-211\"/>\n<polygon fill=\"black\" stroke=\"black\" points=\"935.43,-214.5 945.43,-211 935.43,-207.5 935.43,-214.5\"/>\n</g>\n<!-- 140372246332704 -->\n<g id=\"node9\" class=\"node\">\n<title>140372246332704</title>\n<polygon fill=\"none\" stroke=\"black\" points=\"471,-220.5 471,-289.5 575,-289.5 575,-220.5 471,-220.5\"/>\n<text text-anchor=\"middle\" x=\"523\" y=\"-274.3\" font-family=\"Times,serif\" font-size=\"14.00\">b</text>\n<polyline fill=\"none\" stroke=\"black\" points=\"471,-266.5 575,-266.5 \"/>\n<text text-anchor=\"middle\" x=\"523\" y=\"-251.3\" font-family=\"Times,serif\" font-size=\"14.00\">data 6.8814</text>\n<polyline fill=\"none\" stroke=\"black\" points=\"471,-243.5 575,-243.5 \"/>\n<text text-anchor=\"middle\" x=\"523\" y=\"-228.3\" font-family=\"Times,serif\" font-size=\"14.00\">grad 0.0000</text>\n</g>\n<!-- 140372246332704&#45;&gt;140372246748800+ -->\n<g id=\"edge9\" class=\"edge\">\n<title>140372246332704&#45;&gt;140372246748800+</title>\n<path fill=\"none\" stroke=\"black\" d=\"M575.07,-235.96C586.68,-231.63 598.71,-227.14 609.31,-223.19\"/>\n<polygon fill=\"black\" stroke=\"black\" points=\"610.84,-226.36 618.98,-219.58 608.39,-219.8 610.84,-226.36\"/>\n</g>\n<!-- 140372246334912 -->\n<g id=\"node10\" class=\"node\">\n<title>140372246334912</title>\n<polygon fill=\"none\" stroke=\"black\" points=\"0,-264.5 0,-333.5 107,-333.5 107,-264.5 0,-264.5\"/>\n<text text-anchor=\"middle\" x=\"53.5\" y=\"-318.3\" font-family=\"Times,serif\" font-size=\"14.00\">w1</text>\n<polyline fill=\"none\" stroke=\"black\" points=\"0,-310.5 107,-310.5 \"/>\n<text text-anchor=\"middle\" x=\"53.5\" y=\"-295.3\" font-family=\"Times,serif\" font-size=\"14.00\">data &#45;3.0000</text>\n<polyline fill=\"none\" stroke=\"black\" points=\"0,-287.5 107,-287.5 \"/>\n<text text-anchor=\"middle\" x=\"53.5\" y=\"-272.3\" font-family=\"Times,serif\" font-size=\"14.00\">grad 0.0000</text>\n</g>\n<!-- 140372246334912&#45;&gt;140373223942320* -->\n<g id=\"edge14\" class=\"edge\">\n<title>140372246334912&#45;&gt;140373223942320*</title>\n<path fill=\"none\" stroke=\"black\" d=\"M99.42,-264.47C114.43,-252.94 130.63,-240.49 143.61,-230.51\"/>\n<polygon fill=\"black\" stroke=\"black\" points=\"145.84,-233.21 151.64,-224.35 141.57,-227.66 145.84,-233.21\"/>\n</g>\n<!-- 140372246333760 -->\n<g id=\"node11\" class=\"node\">\n<title>140372246333760</title>\n<polygon fill=\"none\" stroke=\"black\" points=\"1.5,-88.5 1.5,-157.5 105.5,-157.5 105.5,-88.5 1.5,-88.5\"/>\n<text text-anchor=\"middle\" x=\"53.5\" y=\"-142.3\" font-family=\"Times,serif\" font-size=\"14.00\">w2</text>\n<polyline fill=\"none\" stroke=\"black\" points=\"1.5,-134.5 105.5,-134.5 \"/>\n<text text-anchor=\"middle\" x=\"53.5\" y=\"-119.3\" font-family=\"Times,serif\" font-size=\"14.00\">data 1.0000</text>\n<polyline fill=\"none\" stroke=\"black\" points=\"1.5,-111.5 105.5,-111.5 \"/>\n<text text-anchor=\"middle\" x=\"53.5\" y=\"-96.3\" font-family=\"Times,serif\" font-size=\"14.00\">grad 0.0000</text>\n</g>\n<!-- 140372246333760&#45;&gt;140372257706192* -->\n<g id=\"edge12\" class=\"edge\">\n<title>140372246333760&#45;&gt;140372257706192*</title>\n<path fill=\"none\" stroke=\"black\" d=\"M105.72,-123C114.87,-123 124.22,-123 132.83,-123\"/>\n<polygon fill=\"black\" stroke=\"black\" points=\"132.9,-126.5 142.9,-123 132.9,-119.5 132.9,-126.5\"/>\n</g>\n<!-- 140372246332272 -->\n<g id=\"node12\" class=\"node\">\n<title>140372246332272</title>\n<polygon fill=\"none\" stroke=\"black\" points=\"1.5,-0.5 1.5,-69.5 105.5,-69.5 105.5,-0.5 1.5,-0.5\"/>\n<text text-anchor=\"middle\" x=\"53.5\" y=\"-54.3\" font-family=\"Times,serif\" font-size=\"14.00\">x2</text>\n<polyline fill=\"none\" stroke=\"black\" points=\"1.5,-46.5 105.5,-46.5 \"/>\n<text text-anchor=\"middle\" x=\"53.5\" y=\"-31.3\" font-family=\"Times,serif\" font-size=\"14.00\">data 0.0000</text>\n<polyline fill=\"none\" stroke=\"black\" points=\"1.5,-23.5 105.5,-23.5 \"/>\n<text text-anchor=\"middle\" x=\"53.5\" y=\"-8.3\" font-family=\"Times,serif\" font-size=\"14.00\">grad 0.0000</text>\n</g>\n<!-- 140372246332272&#45;&gt;140372257706192* -->\n<g id=\"edge11\" class=\"edge\">\n<title>140372246332272&#45;&gt;140372257706192*</title>\n<path fill=\"none\" stroke=\"black\" d=\"M99.42,-69.53C114.43,-81.06 130.63,-93.51 143.61,-103.49\"/>\n<polygon fill=\"black\" stroke=\"black\" points=\"141.57,-106.34 151.64,-109.65 145.84,-100.79 141.57,-106.34\"/>\n</g>\n<!-- 140372246335392 -->\n<g id=\"node13\" class=\"node\">\n<title>140372246335392</title>\n<polygon fill=\"none\" stroke=\"black\" points=\"1.5,-176.5 1.5,-245.5 105.5,-245.5 105.5,-176.5 1.5,-176.5\"/>\n<text text-anchor=\"middle\" x=\"53.5\" y=\"-230.3\" font-family=\"Times,serif\" font-size=\"14.00\">x1</text>\n<polyline fill=\"none\" stroke=\"black\" points=\"1.5,-222.5 105.5,-222.5 \"/>\n<text text-anchor=\"middle\" x=\"53.5\" y=\"-207.3\" font-family=\"Times,serif\" font-size=\"14.00\">data 2.0000</text>\n<polyline fill=\"none\" stroke=\"black\" points=\"1.5,-199.5 105.5,-199.5 \"/>\n<text text-anchor=\"middle\" x=\"53.5\" y=\"-184.3\" font-family=\"Times,serif\" font-size=\"14.00\">grad 0.0000</text>\n</g>\n<!-- 140372246335392&#45;&gt;140373223942320* -->\n<g id=\"edge8\" class=\"edge\">\n<title>140372246335392&#45;&gt;140373223942320*</title>\n<path fill=\"none\" stroke=\"black\" d=\"M105.72,-211C114.87,-211 124.22,-211 132.83,-211\"/>\n<polygon fill=\"black\" stroke=\"black\" points=\"132.9,-214.5 142.9,-211 132.9,-207.5 132.9,-214.5\"/>\n</g>\n<!-- 140372246748608 -->\n<g id=\"node14\" class=\"node\">\n<title>140372246748608</title>\n<polygon fill=\"none\" stroke=\"black\" points=\"466,-132.5 466,-201.5 580,-201.5 580,-132.5 466,-132.5\"/>\n<text text-anchor=\"middle\" x=\"523\" y=\"-186.3\" font-family=\"Times,serif\" font-size=\"14.00\">x1w1 + x2w2</text>\n<polyline fill=\"none\" stroke=\"black\" points=\"466,-178.5 580,-178.5 \"/>\n<text text-anchor=\"middle\" x=\"523\" y=\"-163.3\" font-family=\"Times,serif\" font-size=\"14.00\">data &#45;6.0000</text>\n<polyline fill=\"none\" stroke=\"black\" points=\"466,-155.5 580,-155.5 \"/>\n<text text-anchor=\"middle\" x=\"523\" y=\"-140.3\" font-family=\"Times,serif\" font-size=\"14.00\">grad 0.0000</text>\n</g>\n<!-- 140372246748608&#45;&gt;140372246748800+ -->\n<g id=\"edge7\" class=\"edge\">\n<title>140372246748608&#45;&gt;140372246748800+</title>\n<path fill=\"none\" stroke=\"black\" d=\"M580.24,-187.97C590.35,-191.74 600.57,-195.55 609.71,-198.96\"/>\n<polygon fill=\"black\" stroke=\"black\" points=\"608.55,-202.26 619.14,-202.48 611,-195.7 608.55,-202.26\"/>\n</g>\n<!-- 140372246748608+&#45;&gt;140372246748608 -->\n<g id=\"edge5\" class=\"edge\">\n<title>140372246748608+&#45;&gt;140372246748608</title>\n<path fill=\"none\" stroke=\"black\" d=\"M430.19,-167C437.88,-167 446.67,-167 455.69,-167\"/>\n<polygon fill=\"black\" stroke=\"black\" points=\"455.93,-170.5 465.93,-167 455.93,-163.5 455.93,-170.5\"/>\n</g>\n</g>\n</svg>\n",
      "text/plain": [
       "<graphviz.graphs.Digraph at 0x7faaf6aa3580>"
      ]
     },
     "execution_count": 19,
     "metadata": {},
     "output_type": "execute_result"
    }
   ],
   "source": [
    "draw_dot(o)"
   ]
  },
  {
   "cell_type": "code",
   "execution_count": 20,
   "metadata": {},
   "outputs": [],
   "source": [
    "o.grad = 1.0 # since the gradient of o w.r.t o is just 1.\n",
    "o._backward()\n",
    "n._backward()"
   ]
  },
  {
   "cell_type": "code",
   "execution_count": 21,
   "metadata": {},
   "outputs": [],
   "source": [
    "b._backward() # won't return anything since it is not the result of an operation\n",
    "x1w1x2w2._backward()"
   ]
  },
  {
   "cell_type": "code",
   "execution_count": 22,
   "metadata": {},
   "outputs": [],
   "source": [
    "x2w2._backward()\n",
    "x1w1._backward()"
   ]
  },
  {
   "cell_type": "markdown",
   "metadata": {},
   "source": [
    "Even still, calling _backward() manually is a bit cumbersome as well, although less cumbersome than the manual differentiation.\n",
    "\n",
    "We can instead, organize the nodes in a particular order, so that the leaf nodes ( inputs that aren't the result of an operation ) are last and the root node is first. \n",
    "\n",
    "This is to make sure that when we are calling backward() on a node, we are calling it after running backward() on the nodes that\n",
    "came after it. \n",
    "\n",
    "Then, recursively apply the _backward function from the root node to the leaf nodes. \n",
    "\n",
    "We can do this by doing a topological sort, then reversing the result. \n",
    "From my understanding, a topological sort makes sure that every node is ordered such that for every edge between nodes A and B, A comes before B."
   ]
  },
  {
   "cell_type": "code",
   "execution_count": 23,
   "metadata": {},
   "outputs": [
    {
     "name": "stdout",
     "output_type": "stream",
     "text": [
      "This is the ordering of nodes after the topological sort:  [Value(data=6.881373), Value(data=2.0), Value(data=-3.0), Value(data=-6.0), Value(data=1.0), Value(data=0.0), Value(data=0.0), Value(data=-6.0), Value(data=0.881373), Value(data=0.7071064876766542)]\n",
      "\n",
      "This is the reversed output: [Value(data=0.7071064876766542), Value(data=0.881373), Value(data=-6.0), Value(data=0.0), Value(data=0.0), Value(data=1.0), Value(data=-6.0), Value(data=-3.0), Value(data=2.0), Value(data=6.881373)]\n"
     ]
    }
   ],
   "source": [
    "# topological sort\n",
    "topo = []\n",
    "visited = set()\n",
    "def topological_sort(v):\n",
    "    if v not in visited:\n",
    "        visited.add(v)\n",
    "        for child in v._prev:\n",
    "            topological_sort(child)\n",
    "        topo.append(v)\n",
    "\n",
    "topological_sort(o)\n",
    "print(\"This is the ordering of nodes after the topological sort: \", topo,)\n",
    "print(\"\\nThis is the reversed output:\", list(reversed(topo)))\n"
   ]
  },
  {
   "cell_type": "markdown",
   "metadata": {},
   "source": [
    "The next thing would be to call the \\_backward() function for each node in the reversed topological sort.\n",
    "\n",
    "Let's see this in action. (Scroll up, reinitialize and draw the graph)"
   ]
  },
  {
   "cell_type": "code",
   "execution_count": 24,
   "metadata": {},
   "outputs": [],
   "source": [
    "o.grad = 1.0\n",
    "for node in reversed(topo):\n",
    "    node._backward()"
   ]
  },
  {
   "cell_type": "markdown",
   "metadata": {},
   "source": [
    "It works.\n",
    "\n",
    "Next, it's time to coalesce this into a single function that can be called from a Value object.\n",
    "\n",
    "This function will defined as the official `backward()` function, not `_backward()`."
   ]
  },
  {
   "cell_type": "code",
   "execution_count": 25,
   "metadata": {},
   "outputs": [],
   "source": [
    "# defining the skeleton of the autograd engine\n",
    "class Value:\n",
    "    def __init__(self, data, children=(), op=\"\", label='') -> None:\n",
    "        self.data = data\n",
    "        self.grad = 0\n",
    "        self._backward = lambda:None\n",
    "        self._prev = set(children)\n",
    "        self._op = op\n",
    "        self.label = label\n",
    "    \n",
    "    def __repr__(self) -> str:\n",
    "        return f\"Value(data={self.data})\"\n",
    "    \n",
    "    def __add__(self, other):\n",
    "        out = Value(self.data + other.data, children=(self, other), op='+')\n",
    "\n",
    "        def _backward():\n",
    "            self.grad = 1.0 * out.grad\n",
    "            other.grad = 1.0 * out.grad\n",
    "        out._backward = _backward         # we are not calling _backward, they return None, we are storing the function itself.\n",
    "\n",
    "        return out\n",
    "    \n",
    "    def __mul__(self, other):\n",
    "        out = Value(self.data * other.data, children=(self, other), op='*')\n",
    "\n",
    "        def _backward():\n",
    "            self.grad = other.data * out.grad\n",
    "            other.grad = self.data * out.grad\n",
    "        out._backward =_backward\n",
    "\n",
    "        return out\n",
    "    \n",
    "    def tanh(self):\n",
    "        x = self.data\n",
    "        t = (math.exp(2*x) - 1) / (math.exp(2*x) + 1)\n",
    "        out = Value(t, children=(self, ), op='tanh')\n",
    "\n",
    "        def _backward():\n",
    "            self.grad = (1 - t**2) * out.grad\n",
    "        out._backward = _backward\n",
    "        \n",
    "        return out\n",
    "    \n",
    "    def backward(self):\n",
    "        # topological sort\n",
    "        topo = []\n",
    "        visited = set()\n",
    "        def topological_sort(v):\n",
    "            if v not in visited:\n",
    "                visited.add(v)\n",
    "                for child in v._prev:\n",
    "                    topological_sort(child)\n",
    "                topo.append(v)\n",
    "        topological_sort(self)\n",
    "\n",
    "        # set the gradient of self w.r.t self as 1\n",
    "        self.grad = 1.0\n",
    "        for node in reversed(topo):\n",
    "            node._backward()\n"
   ]
  },
  {
   "cell_type": "markdown",
   "metadata": {},
   "source": [
    "Now we can just call the backward() function from the root node and watch the gradients backpropogate w.r.t\n",
    "the root node.\n",
    "\n",
    "Scroll up, reinitialize, call backward(), and draw."
   ]
  },
  {
   "cell_type": "code",
   "execution_count": 26,
   "metadata": {},
   "outputs": [
    {
     "ename": "AttributeError",
     "evalue": "'Value' object has no attribute 'backward'",
     "output_type": "error",
     "traceback": [
      "\u001b[0;31m---------------------------------------------------------------------------\u001b[0m",
      "\u001b[0;31mAttributeError\u001b[0m                            Traceback (most recent call last)",
      "\u001b[1;32m/home/stephen/source/littlegrad/littlegrad.ipynb Cell 39\u001b[0m in \u001b[0;36m<cell line: 1>\u001b[0;34m()\u001b[0m\n\u001b[0;32m----> <a href='vscode-notebook-cell://wsl%2Bubuntu/home/stephen/source/littlegrad/littlegrad.ipynb#X53sdnNjb2RlLXJlbW90ZQ%3D%3D?line=0'>1</a>\u001b[0m o\u001b[39m.\u001b[39;49mbackward()\n",
      "\u001b[0;31mAttributeError\u001b[0m: 'Value' object has no attribute 'backward'"
     ]
    }
   ],
   "source": [
    "o.backward()"
   ]
  },
  {
   "cell_type": "markdown",
   "metadata": {},
   "source": [
    "Another slight fix needs to be made:\n",
    "\n",
    "When the gradients are being computed, in the case of multiple nodes taking input from a single node, the global gradient\n",
    "w.r.t the single node gets constantly updated instead of being added.\n",
    "\n",
    "Here's a simple example:"
   ]
  },
  {
   "cell_type": "code",
   "execution_count": 27,
   "metadata": {},
   "outputs": [
    {
     "data": {
      "image/svg+xml": "<?xml version=\"1.0\" encoding=\"UTF-8\" standalone=\"no\"?>\n<!DOCTYPE svg PUBLIC \"-//W3C//DTD SVG 1.1//EN\"\n \"http://www.w3.org/Graphics/SVG/1.1/DTD/svg11.dtd\">\n<!-- Generated by graphviz version 2.43.0 (0)\n -->\n<!-- Title: %3 Pages: 1 -->\n<svg width=\"579pt\" height=\"166pt\"\n viewBox=\"0.00 0.00 579.00 166.00\" xmlns=\"http://www.w3.org/2000/svg\" xmlns:xlink=\"http://www.w3.org/1999/xlink\">\n<g id=\"graph0\" class=\"graph\" transform=\"scale(1 1) rotate(0) translate(4 162)\">\n<title>%3</title>\n<polygon fill=\"white\" stroke=\"transparent\" points=\"-4,4 -4,-162 575,-162 575,4 -4,4\"/>\n<!-- 140372246458624 -->\n<g id=\"node1\" class=\"node\">\n<title>140372246458624</title>\n<polygon fill=\"none\" stroke=\"black\" points=\"0,-88.5 0,-157.5 104,-157.5 104,-88.5 0,-88.5\"/>\n<text text-anchor=\"middle\" x=\"52\" y=\"-142.3\" font-family=\"Times,serif\" font-size=\"14.00\">a</text>\n<polyline fill=\"none\" stroke=\"black\" points=\"0,-134.5 104,-134.5 \"/>\n<text text-anchor=\"middle\" x=\"52\" y=\"-119.3\" font-family=\"Times,serif\" font-size=\"14.00\">data 2.0000</text>\n<polyline fill=\"none\" stroke=\"black\" points=\"0,-111.5 104,-111.5 \"/>\n<text text-anchor=\"middle\" x=\"52\" y=\"-96.3\" font-family=\"Times,serif\" font-size=\"14.00\">grad 3.0000</text>\n</g>\n<!-- 140372258270992* -->\n<g id=\"node3\" class=\"node\">\n<title>140372258270992*</title>\n<ellipse fill=\"none\" stroke=\"black\" cx=\"167\" cy=\"-123\" rx=\"27\" ry=\"18\"/>\n<text text-anchor=\"middle\" x=\"167\" y=\"-119.3\" font-family=\"Times,serif\" font-size=\"14.00\">*</text>\n</g>\n<!-- 140372246458624&#45;&gt;140372258270992* -->\n<g id=\"edge5\" class=\"edge\">\n<title>140372246458624&#45;&gt;140372258270992*</title>\n<path fill=\"none\" stroke=\"black\" d=\"M104.21,-123C112.82,-123 121.59,-123 129.72,-123\"/>\n<polygon fill=\"black\" stroke=\"black\" points=\"129.97,-126.5 139.97,-123 129.97,-119.5 129.97,-126.5\"/>\n</g>\n<!-- 140372246304704* -->\n<g id=\"node8\" class=\"node\">\n<title>140372246304704*</title>\n<ellipse fill=\"none\" stroke=\"black\" cx=\"167\" cy=\"-35\" rx=\"27\" ry=\"18\"/>\n<text text-anchor=\"middle\" x=\"167\" y=\"-31.3\" font-family=\"Times,serif\" font-size=\"14.00\">*</text>\n</g>\n<!-- 140372246458624&#45;&gt;140372246304704* -->\n<g id=\"edge6\" class=\"edge\">\n<title>140372246458624&#45;&gt;140372246304704*</title>\n<path fill=\"none\" stroke=\"black\" d=\"M97.34,-88.47C112.15,-76.94 128.13,-64.49 140.94,-54.51\"/>\n<polygon fill=\"black\" stroke=\"black\" points=\"143.12,-57.25 148.86,-48.35 138.82,-51.73 143.12,-57.25\"/>\n</g>\n<!-- 140372258270992 -->\n<g id=\"node2\" class=\"node\">\n<title>140372258270992</title>\n<polygon fill=\"none\" stroke=\"black\" points=\"230,-88.5 230,-157.5 334,-157.5 334,-88.5 230,-88.5\"/>\n<text text-anchor=\"middle\" x=\"282\" y=\"-142.3\" font-family=\"Times,serif\" font-size=\"14.00\">c</text>\n<polyline fill=\"none\" stroke=\"black\" points=\"230,-134.5 334,-134.5 \"/>\n<text text-anchor=\"middle\" x=\"282\" y=\"-119.3\" font-family=\"Times,serif\" font-size=\"14.00\">data 6.0000</text>\n<polyline fill=\"none\" stroke=\"black\" points=\"230,-111.5 334,-111.5 \"/>\n<text text-anchor=\"middle\" x=\"282\" y=\"-96.3\" font-family=\"Times,serif\" font-size=\"14.00\">grad 1.0000</text>\n</g>\n<!-- 140372246304080+ -->\n<g id=\"node5\" class=\"node\">\n<title>140372246304080+</title>\n<ellipse fill=\"none\" stroke=\"black\" cx=\"397\" cy=\"-79\" rx=\"27\" ry=\"18\"/>\n<text text-anchor=\"middle\" x=\"397\" y=\"-75.3\" font-family=\"Times,serif\" font-size=\"14.00\">+</text>\n</g>\n<!-- 140372258270992&#45;&gt;140372246304080+ -->\n<g id=\"edge4\" class=\"edge\">\n<title>140372258270992&#45;&gt;140372246304080+</title>\n<path fill=\"none\" stroke=\"black\" d=\"M334.21,-103.06C344.24,-99.15 354.5,-95.16 363.71,-91.57\"/>\n<polygon fill=\"black\" stroke=\"black\" points=\"365.17,-94.76 373.22,-87.87 362.63,-88.24 365.17,-94.76\"/>\n</g>\n<!-- 140372258270992*&#45;&gt;140372258270992 -->\n<g id=\"edge1\" class=\"edge\">\n<title>140372258270992*&#45;&gt;140372258270992</title>\n<path fill=\"none\" stroke=\"black\" d=\"M194.21,-123C201.88,-123 210.62,-123 219.51,-123\"/>\n<polygon fill=\"black\" stroke=\"black\" points=\"219.58,-126.5 229.58,-123 219.58,-119.5 219.58,-126.5\"/>\n</g>\n<!-- 140372246304080 -->\n<g id=\"node4\" class=\"node\">\n<title>140372246304080</title>\n<polygon fill=\"none\" stroke=\"black\" points=\"460,-44.5 460,-113.5 571,-113.5 571,-44.5 460,-44.5\"/>\n<text text-anchor=\"middle\" x=\"515.5\" y=\"-98.3\" font-family=\"Times,serif\" font-size=\"14.00\">f</text>\n<polyline fill=\"none\" stroke=\"black\" points=\"460,-90.5 571,-90.5 \"/>\n<text text-anchor=\"middle\" x=\"515.5\" y=\"-75.3\" font-family=\"Times,serif\" font-size=\"14.00\">data 12.0000</text>\n<polyline fill=\"none\" stroke=\"black\" points=\"460,-67.5 571,-67.5 \"/>\n<text text-anchor=\"middle\" x=\"515.5\" y=\"-52.3\" font-family=\"Times,serif\" font-size=\"14.00\">grad 1.0000</text>\n</g>\n<!-- 140372246304080+&#45;&gt;140372246304080 -->\n<g id=\"edge2\" class=\"edge\">\n<title>140372246304080+&#45;&gt;140372246304080</title>\n<path fill=\"none\" stroke=\"black\" d=\"M424.14,-79C431.85,-79 440.64,-79 449.64,-79\"/>\n<polygon fill=\"black\" stroke=\"black\" points=\"449.85,-82.5 459.85,-79 449.85,-75.5 449.85,-82.5\"/>\n</g>\n<!-- 140372246462320 -->\n<g id=\"node6\" class=\"node\">\n<title>140372246462320</title>\n<polygon fill=\"none\" stroke=\"black\" points=\"0,-0.5 0,-69.5 104,-69.5 104,-0.5 0,-0.5\"/>\n<text text-anchor=\"middle\" x=\"52\" y=\"-54.3\" font-family=\"Times,serif\" font-size=\"14.00\">b</text>\n<polyline fill=\"none\" stroke=\"black\" points=\"0,-46.5 104,-46.5 \"/>\n<text text-anchor=\"middle\" x=\"52\" y=\"-31.3\" font-family=\"Times,serif\" font-size=\"14.00\">data 3.0000</text>\n<polyline fill=\"none\" stroke=\"black\" points=\"0,-23.5 104,-23.5 \"/>\n<text text-anchor=\"middle\" x=\"52\" y=\"-8.3\" font-family=\"Times,serif\" font-size=\"14.00\">grad 2.0000</text>\n</g>\n<!-- 140372246462320&#45;&gt;140372258270992* -->\n<g id=\"edge8\" class=\"edge\">\n<title>140372246462320&#45;&gt;140372258270992*</title>\n<path fill=\"none\" stroke=\"black\" d=\"M97.34,-69.53C112.15,-81.06 128.13,-93.51 140.94,-103.49\"/>\n<polygon fill=\"black\" stroke=\"black\" points=\"138.82,-106.27 148.86,-109.65 143.12,-100.75 138.82,-106.27\"/>\n</g>\n<!-- 140372246462320&#45;&gt;140372246304704* -->\n<g id=\"edge7\" class=\"edge\">\n<title>140372246462320&#45;&gt;140372246304704*</title>\n<path fill=\"none\" stroke=\"black\" d=\"M104.21,-35C112.82,-35 121.59,-35 129.72,-35\"/>\n<polygon fill=\"black\" stroke=\"black\" points=\"129.97,-38.5 139.97,-35 129.97,-31.5 129.97,-38.5\"/>\n</g>\n<!-- 140372246304704 -->\n<g id=\"node7\" class=\"node\">\n<title>140372246304704</title>\n<polygon fill=\"none\" stroke=\"black\" points=\"230,-0.5 230,-69.5 334,-69.5 334,-0.5 230,-0.5\"/>\n<text text-anchor=\"middle\" x=\"282\" y=\"-54.3\" font-family=\"Times,serif\" font-size=\"14.00\">d</text>\n<polyline fill=\"none\" stroke=\"black\" points=\"230,-46.5 334,-46.5 \"/>\n<text text-anchor=\"middle\" x=\"282\" y=\"-31.3\" font-family=\"Times,serif\" font-size=\"14.00\">data 6.0000</text>\n<polyline fill=\"none\" stroke=\"black\" points=\"230,-23.5 334,-23.5 \"/>\n<text text-anchor=\"middle\" x=\"282\" y=\"-8.3\" font-family=\"Times,serif\" font-size=\"14.00\">grad 1.0000</text>\n</g>\n<!-- 140372246304704&#45;&gt;140372246304080+ -->\n<g id=\"edge9\" class=\"edge\">\n<title>140372246304704&#45;&gt;140372246304080+</title>\n<path fill=\"none\" stroke=\"black\" d=\"M334.21,-54.94C344.24,-58.85 354.5,-62.84 363.71,-66.43\"/>\n<polygon fill=\"black\" stroke=\"black\" points=\"362.63,-69.76 373.22,-70.13 365.17,-63.24 362.63,-69.76\"/>\n</g>\n<!-- 140372246304704*&#45;&gt;140372246304704 -->\n<g id=\"edge3\" class=\"edge\">\n<title>140372246304704*&#45;&gt;140372246304704</title>\n<path fill=\"none\" stroke=\"black\" d=\"M194.21,-35C201.88,-35 210.62,-35 219.51,-35\"/>\n<polygon fill=\"black\" stroke=\"black\" points=\"219.58,-38.5 229.58,-35 219.58,-31.5 219.58,-38.5\"/>\n</g>\n</g>\n</svg>\n",
      "text/plain": [
       "<graphviz.graphs.Digraph at 0x7faaf5e2fc70>"
      ]
     },
     "execution_count": 27,
     "metadata": {},
     "output_type": "execute_result"
    }
   ],
   "source": [
    "a = Value(2.0, label='a')\n",
    "b = Value(3.0, label='b')\n",
    "c = a * b; c.label = 'c'\n",
    "d = a * b; d.label = 'd'\n",
    "f = c + d; f.label = 'f'\n",
    "f.backward()\n",
    "draw_dot(f)"
   ]
  },
  {
   "cell_type": "markdown",
   "metadata": {},
   "source": [
    "The global gradient w.r. to a should be 6, while the gradient w.r. to b should be 4.\n",
    "\n",
    "This error exists because the _backward function that is called for each operation done overwrites the gradient value.\n",
    "\n",
    "So, when we go backwards to a from c, the gradient is 3, and when we go backwards to a from d the gradient gets overwritten\n",
    "to 3 again, but these gradients should add/accumulate.\n",
    "\n",
    "In order to fix this, we replace `self.grad =` and `other.grad =` with `self.grad +=` and `other.grad+=`\n",
    "\n",
    "This should make sense for those somewhat familiar with the multivariable chain rule from calculus.\n",
    "\n",
    "If $z = f(u, v)$ and $u = g(x, y), v = h(x, y)$:\n",
    "\n",
    "$\n",
    "\\frac{\\partial z}{\\partial x} = \\frac{\\partial z}{\\partial u} \\frac{\\partial u}{\\partial x} + \\frac{\\partial z}{\\partial v} \\frac{\\partial v}{\\partial x}\n",
    "$"
   ]
  },
  {
   "cell_type": "code",
   "execution_count": 28,
   "metadata": {},
   "outputs": [],
   "source": [
    "# defining the skeleton of the autograd engine\n",
    "class Value:\n",
    "    def __init__(self, data, children=(), op=\"\", label='') -> None:\n",
    "        self.data = data\n",
    "        self.grad = 0\n",
    "        self._backward = lambda:None\n",
    "        self._prev = set(children)\n",
    "        self._op = op\n",
    "        self.label = label\n",
    "    \n",
    "    def __repr__(self) -> str:\n",
    "        return f\"Value(data={self.data})\"\n",
    "    \n",
    "    def __add__(self, other):\n",
    "        out = Value(self.data + other.data, children=(self, other), op='+')\n",
    "\n",
    "        def _backward():\n",
    "            self.grad += 1.0 * out.grad\n",
    "            other.grad += 1.0 * out.grad\n",
    "        out._backward = _backward         # we are not calling _backward, they return None, we are storing the function itself.\n",
    "\n",
    "        return out\n",
    "    \n",
    "    def __mul__(self, other):\n",
    "        out = Value(self.data * other.data, children=(self, other), op='*')\n",
    "\n",
    "        def _backward():\n",
    "            self.grad += other.data * out.grad\n",
    "            other.grad += self.data * out.grad\n",
    "        out._backward =_backward\n",
    "\n",
    "        return out\n",
    "    \n",
    "    def tanh(self):\n",
    "        x = self.data\n",
    "        t = (math.exp(2*x) - 1) / (math.exp(2*x) + 1)\n",
    "        out = Value(t, children=(self, ), op='tanh')\n",
    "\n",
    "        def _backward():\n",
    "            self.grad += (1 - t**2) * out.grad\n",
    "        out._backward = _backward\n",
    "        \n",
    "        return out\n",
    "    \n",
    "    def backward(self):\n",
    "        # topological sort\n",
    "        topo = []\n",
    "        visited = set()\n",
    "        def topological_sort(v):\n",
    "            if v not in visited:\n",
    "                visited.add(v)\n",
    "                for child in v._prev:\n",
    "                    topological_sort(child)\n",
    "                topo.append(v)\n",
    "        topological_sort(self)\n",
    "\n",
    "        # set the gradient of self w.r.t self as 1\n",
    "        self.grad = 1.0\n",
    "        for node in reversed(topo):\n",
    "            node._backward()\n"
   ]
  },
  {
   "cell_type": "markdown",
   "metadata": {},
   "source": [
    "Now, if we go back to the error example, it should work, since the gradients can accumulate."
   ]
  },
  {
   "cell_type": "markdown",
   "metadata": {},
   "source": [
    "There are still minor improvements that can be made to our operations functions.\n",
    "\n",
    "We can allow for our `Value` objects to be added / multiplied with non-`Value` objects."
   ]
  },
  {
   "cell_type": "code",
   "execution_count": 29,
   "metadata": {},
   "outputs": [],
   "source": [
    "# defining the skeleton of the autograd engine\n",
    "class Value:\n",
    "    def __init__(self, data, children=(), op=\"\", label='') -> None:\n",
    "        self.data = data\n",
    "        self.grad = 0\n",
    "        self._backward = lambda:None\n",
    "        self._prev = set(children)\n",
    "        self._op = op\n",
    "        self.label = label\n",
    "    \n",
    "    def __repr__(self) -> str:\n",
    "        return f\"Value(data={self.data})\"\n",
    "    \n",
    "    def __add__(self, other):\n",
    "        # if other is not Value object, wrap it to be a Value object.\n",
    "        other = other if isinstance(other, Value) else Value(other)\n",
    "        out = Value(self.data + other.data, children=(self, other), op='+')\n",
    "\n",
    "        def _backward():\n",
    "            self.grad += 1.0 * out.grad\n",
    "            other.grad += 1.0 * out.grad\n",
    "        out._backward = _backward         # we are not calling _backward, they return None, we are storing the function itself.\n",
    "\n",
    "        return out\n",
    "    \n",
    "    def __mul__(self, other):\n",
    "        other = other if isinstance(other, Value) else Value(other)\n",
    "        out = Value(self.data * other.data, children=(self, other), op='*')\n",
    "\n",
    "        def _backward():\n",
    "            self.grad += other.data * out.grad\n",
    "            other.grad += self.data * out.grad\n",
    "        out._backward =_backward\n",
    "\n",
    "        return out\n",
    "    \n",
    "    def __rmul__(self, other): # will be called when something tries to multipy with a Value object\n",
    "        return self * other\n",
    "    \n",
    "    def tanh(self):\n",
    "        x = self.data\n",
    "        t = (math.exp(2*x) - 1) / (math.exp(2*x) + 1)\n",
    "        out = Value(t, children=(self, ), op='tanh')\n",
    "\n",
    "        def _backward():\n",
    "            self.grad += (1 - t**2) * out.grad\n",
    "        out._backward = _backward\n",
    "        \n",
    "        return out\n",
    "    \n",
    "    def backward(self):\n",
    "        # topological sort\n",
    "        topo = []\n",
    "        visited = set()\n",
    "        def topological_sort(v):\n",
    "            if v not in visited:\n",
    "                visited.add(v)\n",
    "                for child in v._prev:\n",
    "                    topological_sort(child)\n",
    "                topo.append(v)\n",
    "        topological_sort(self)\n",
    "\n",
    "        # set the gradient of self w.r.t self as 1\n",
    "        self.grad = 1.0\n",
    "        for node in reversed(topo):\n",
    "            node._backward()\n",
    "\n"
   ]
  },
  {
   "cell_type": "markdown",
   "metadata": {},
   "source": [
    "Next, we should add more fundamental operations like: $e^{x}$ and divison to be able to backpropogate through more \n",
    "complex functions."
   ]
  },
  {
   "cell_type": "code",
   "execution_count": 30,
   "metadata": {},
   "outputs": [],
   "source": [
    "# defining the skeleton of the autograd engine\n",
    "class Value:\n",
    "    def __init__(self, data, children=(), op=\"\", label='') -> None:\n",
    "        self.data = data\n",
    "        self.grad = 0\n",
    "        self._backward = lambda:None\n",
    "        self._prev = set(children)\n",
    "        self._op = op\n",
    "        self.label = label\n",
    "    \n",
    "    def __repr__(self) -> str:\n",
    "        return f\"Value(data={self.data})\"\n",
    "    \n",
    "    def __add__(self, other):\n",
    "        # if other is not Value object, wrap it to be a Value object.\n",
    "        other = other if isinstance(other, Value) else Value(other)\n",
    "        out = Value(self.data + other.data, children=(self, other), op='+')\n",
    "\n",
    "        def _backward():\n",
    "            self.grad += 1.0 * out.grad\n",
    "            other.grad += 1.0 * out.grad\n",
    "        out._backward = _backward         # we are not calling _backward, they return None, we are storing the function itself.\n",
    "\n",
    "        return out\n",
    "    \n",
    "    def __mul__(self, other):\n",
    "        other = other if isinstance(other, Value) else Value(other)\n",
    "        out = Value(self.data * other.data, children=(self, other), op='*')\n",
    "\n",
    "        def _backward():\n",
    "            self.grad += other.data * out.grad\n",
    "            other.grad += self.data * out.grad\n",
    "        out._backward =_backward\n",
    "\n",
    "        return out\n",
    "    \n",
    "    def __rmul__(self, other): # will be called when something tries to multipy with a Value object\n",
    "        return self * other\n",
    "    \n",
    "    def tanh(self):\n",
    "        x = self.data\n",
    "        t = (math.exp(2*x) - 1) / (math.exp(2*x) + 1)\n",
    "        out = Value(t, children=(self, ), op='tanh')\n",
    "\n",
    "        def _backward():\n",
    "            self.grad += (1 - t**2) * out.grad\n",
    "        out._backward = _backward\n",
    "        \n",
    "        return out\n",
    "    \n",
    "    def exp(self):\n",
    "        x = self.data\n",
    "        out = Value(math.exp(x), children=(self, ), op='exp')\n",
    "\n",
    "        def _backward():\n",
    "            # the local gradient of e^x is just e^x\n",
    "            local_grad = out.data\n",
    "            # remember, self.grad is the global gradient w.r. to self,\n",
    "            # local_grad is the gradient w.r.t to the operation performed\n",
    "            # out.grad is the global gradient w.r. to the result node of the operation. \n",
    "            self.grad = local_grad * out.grad\n",
    "        out._backward = _backward\n",
    "\n",
    "        return out\n",
    "    \n",
    "    def backward(self):\n",
    "        # topological sort\n",
    "        topo = []\n",
    "        visited = set()\n",
    "        def topological_sort(v):\n",
    "            if v not in visited:\n",
    "                visited.add(v)\n",
    "                for child in v._prev:\n",
    "                    topological_sort(child)\n",
    "                topo.append(v)\n",
    "        topological_sort(self)\n",
    "\n",
    "        # set the gradient of self w.r.t self as 1\n",
    "        self.grad = 1.0\n",
    "        for node in reversed(topo):\n",
    "            node._backward()\n"
   ]
  },
  {
   "cell_type": "code",
   "execution_count": 31,
   "metadata": {},
   "outputs": [
    {
     "data": {
      "text/plain": [
       "Value(data=7.38905609893065)"
      ]
     },
     "execution_count": 31,
     "metadata": {},
     "output_type": "execute_result"
    }
   ],
   "source": [
    "a = Value(2.0)\n",
    "# e^2\n",
    "a.exp()"
   ]
  },
  {
   "cell_type": "markdown",
   "metadata": {},
   "source": [
    "Division can be represented as $\\frac{a}{b}$, but it can also be represented by $a\\cdot \\frac{1}{b}$\n",
    "\n",
    "Building upon that, division can be thought of as a special case of the power function, so the expression\n",
    "$a \\cdot b^{-1}$ is the same as the expression above.\n",
    "\n",
    "With that in mind, let's implement the `__truediv__` and  `__pow__` function."
   ]
  },
  {
   "cell_type": "code",
   "execution_count": 113,
   "metadata": {},
   "outputs": [],
   "source": [
    "# defining the skeleton of the autograd engine\n",
    "class Value:\n",
    "    def __init__(self, data, children=(), op=\"\", label='') -> None:\n",
    "        self.data = data\n",
    "        self.grad = 0\n",
    "        self._backward = lambda:None\n",
    "        self._prev = set(children)\n",
    "        self._op = op\n",
    "        self.label = label\n",
    "    \n",
    "    def __repr__(self) -> str:\n",
    "        return f\"Value(data={self.data})\"\n",
    "    \n",
    "    def __add__(self, other):\n",
    "        # if other is not Value object, wrap it to be a Value object.\n",
    "        other = other if isinstance(other, Value) else Value(other)\n",
    "        out = Value(self.data + other.data, children=(self, other), op='+')\n",
    "\n",
    "        def _backward():\n",
    "            self.grad += 1.0 * out.grad\n",
    "            other.grad += 1.0 * out.grad\n",
    "        out._backward = _backward         # we are not calling _backward, they return None, we are storing the function itself.\n",
    "\n",
    "        return out\n",
    "    \n",
    "    def __mul__(self, other):\n",
    "        other = other if isinstance(other, Value) else Value(other)\n",
    "        out = Value(self.data * other.data, children=(self, other), op='*')\n",
    "\n",
    "        def _backward():\n",
    "            self.grad += other.data * out.grad\n",
    "            other.grad += self.data * out.grad\n",
    "        out._backward =_backward\n",
    "\n",
    "        return out\n",
    "    \n",
    "    def __rmul__(self, other): # will be called when something tries to multipy with a Value object\n",
    "        return self * other\n",
    "    \n",
    "    def __pow__(self, other): # pow function that only allows raising to a constant. x^k\n",
    "        assert(isinstance(other, (int, float)))\n",
    "        out = Value(self.data ** other, children=(self, ), op=f'**{other}')\n",
    "\n",
    "        def _backward():\n",
    "            self.grad += (other * self.data ** (other - 1)) * out.grad\n",
    "        out._backward = _backward\n",
    "\n",
    "        return out\n",
    "        \n",
    "    def __truediv__(self, other):\n",
    "        return self * other ** -1\n",
    "    \n",
    "    def __neg__(self):\n",
    "        return self * -1\n",
    "    \n",
    "    def __sub__(self, other):\n",
    "        return self + (-other)\n",
    "\n",
    "    def tanh(self):\n",
    "        x = self.data\n",
    "        t = (math.exp(2*x) - 1) / (math.exp(2*x) + 1)\n",
    "        out = Value(t, children=(self, ), op='tanh')\n",
    "\n",
    "        def _backward():\n",
    "            self.grad += (1 - t**2) * out.grad\n",
    "        out._backward = _backward\n",
    "        \n",
    "        return out\n",
    "    \n",
    "    def exp(self):\n",
    "        x = self.data\n",
    "        out = Value(math.exp(x), children=(self, ), op='exp')\n",
    "\n",
    "        def _backward():\n",
    "            # the local gradient of e^x is just e^x\n",
    "            local_grad = out.data\n",
    "            # remember, self.grad is the global gradient w.r. to self,\n",
    "            # local_grad is the gradient w.r.t to the operation performed\n",
    "            # out.grad is the global gradient w.r. to the result node of the operation. \n",
    "            self.grad = local_grad * out.grad\n",
    "        out._backward = _backward\n",
    "\n",
    "        return out\n",
    "    \n",
    "    def backward(self):\n",
    "        # topological sort\n",
    "        topo = []\n",
    "        visited = set()\n",
    "        def topological_sort(v):\n",
    "            if v not in visited:\n",
    "                visited.add(v)\n",
    "                for child in v._prev:\n",
    "                    topological_sort(child)\n",
    "                topo.append(v)\n",
    "        topological_sort(self)\n",
    "\n",
    "        # set the gradient of self w.r.t self as 1\n",
    "        self.grad = 1.0\n",
    "        for node in reversed(topo):\n",
    "            node._backward()\n",
    "    \n",
    "    def __radd__(self, other): # other + self\n",
    "        return self + other\n",
    "    \n",
    "    def __rsub__(self, other): # other - self\n",
    "        return other + (-self)\n",
    "\n",
    "    def __rtruediv__(self, other): # other / self\n",
    "        return other * self**-1    "
   ]
  },
  {
   "cell_type": "code",
   "execution_count": 38,
   "metadata": {},
   "outputs": [
    {
     "data": {
      "text/plain": [
       "Value(data=-2.0)"
      ]
     },
     "execution_count": 38,
     "metadata": {},
     "output_type": "execute_result"
    }
   ],
   "source": [
    "a = Value(2.0, label='a')\n",
    "b = Value(4.0, label='b')\n",
    "a - b"
   ]
  },
  {
   "cell_type": "markdown",
   "metadata": {},
   "source": [
    "With these newly implemented operations, we can break up the tanh function we called earlier into smaller, simpler operations\n",
    "and still get the same result."
   ]
  },
  {
   "cell_type": "code",
   "execution_count": 40,
   "metadata": {},
   "outputs": [
    {
     "data": {
      "image/svg+xml": "<?xml version=\"1.0\" encoding=\"UTF-8\" standalone=\"no\"?>\n<!DOCTYPE svg PUBLIC \"-//W3C//DTD SVG 1.1//EN\"\n \"http://www.w3.org/Graphics/SVG/1.1/DTD/svg11.dtd\">\n<!-- Generated by graphviz version 2.43.0 (0)\n -->\n<!-- Title: %3 Pages: 1 -->\n<svg width=\"2028pt\" height=\"342pt\"\n viewBox=\"0.00 0.00 2027.60 342.00\" xmlns=\"http://www.w3.org/2000/svg\" xmlns:xlink=\"http://www.w3.org/1999/xlink\">\n<g id=\"graph0\" class=\"graph\" transform=\"scale(1 1) rotate(0) translate(4 338)\">\n<title>%3</title>\n<polygon fill=\"white\" stroke=\"transparent\" points=\"-4,4 -4,-338 2023.6,-338 2023.6,4 -4,4\"/>\n<!-- 140372617113664 -->\n<g id=\"node1\" class=\"node\">\n<title>140372617113664</title>\n<polygon fill=\"none\" stroke=\"black\" points=\"1545.6,-96.5 1545.6,-165.5 1649.6,-165.5 1649.6,-96.5 1545.6,-96.5\"/>\n<text text-anchor=\"middle\" x=\"1597.6\" y=\"-150.3\" font-family=\"Times,serif\" font-size=\"14.00\"> </text>\n<polyline fill=\"none\" stroke=\"black\" points=\"1545.6,-142.5 1649.6,-142.5 \"/>\n<text text-anchor=\"middle\" x=\"1597.6\" y=\"-127.3\" font-family=\"Times,serif\" font-size=\"14.00\">data 4.8284</text>\n<polyline fill=\"none\" stroke=\"black\" points=\"1545.6,-119.5 1649.6,-119.5 \"/>\n<text text-anchor=\"middle\" x=\"1597.6\" y=\"-104.3\" font-family=\"Times,serif\" font-size=\"14.00\">grad 0.1464</text>\n</g>\n<!-- 140372617116832* -->\n<g id=\"node9\" class=\"node\">\n<title>140372617116832*</title>\n<ellipse fill=\"none\" stroke=\"black\" cx=\"1852.6\" cy=\"-166\" rx=\"27\" ry=\"18\"/>\n<text text-anchor=\"middle\" x=\"1852.6\" y=\"-162.3\" font-family=\"Times,serif\" font-size=\"14.00\">*</text>\n</g>\n<!-- 140372617113664&#45;&gt;140372617116832* -->\n<g id=\"edge24\" class=\"edge\">\n<title>140372617113664&#45;&gt;140372617116832*</title>\n<path fill=\"none\" stroke=\"black\" d=\"M1649.73,-137.27C1688.22,-142.1 1742.27,-149.09 1789.6,-156 1798.28,-157.27 1807.63,-158.73 1816.38,-160.13\"/>\n<polygon fill=\"black\" stroke=\"black\" points=\"1815.85,-163.59 1826.28,-161.74 1816.97,-156.68 1815.85,-163.59\"/>\n</g>\n<!-- 140372617113664+ -->\n<g id=\"node2\" class=\"node\">\n<title>140372617113664+</title>\n<ellipse fill=\"none\" stroke=\"black\" cx=\"1338.6\" cy=\"-131\" rx=\"27\" ry=\"18\"/>\n<text text-anchor=\"middle\" x=\"1338.6\" y=\"-127.3\" font-family=\"Times,serif\" font-size=\"14.00\">+</text>\n</g>\n<!-- 140372617113664+&#45;&gt;140372617113664 -->\n<g id=\"edge1\" class=\"edge\">\n<title>140372617113664+&#45;&gt;140372617113664</title>\n<path fill=\"none\" stroke=\"black\" d=\"M1365.65,-131C1405.09,-131 1481.08,-131 1535.11,-131\"/>\n<polygon fill=\"black\" stroke=\"black\" points=\"1535.27,-134.5 1545.27,-131 1535.27,-127.5 1535.27,-134.5\"/>\n</g>\n<!-- 140372617115248 -->\n<g id=\"node3\" class=\"node\">\n<title>140372617115248</title>\n<polygon fill=\"none\" stroke=\"black\" points=\"937,-132.5 937,-201.5 1041,-201.5 1041,-132.5 937,-132.5\"/>\n<text text-anchor=\"middle\" x=\"989\" y=\"-186.3\" font-family=\"Times,serif\" font-size=\"14.00\"> </text>\n<polyline fill=\"none\" stroke=\"black\" points=\"937,-178.5 1041,-178.5 \"/>\n<text text-anchor=\"middle\" x=\"989\" y=\"-163.3\" font-family=\"Times,serif\" font-size=\"14.00\">data 1.7627</text>\n<polyline fill=\"none\" stroke=\"black\" points=\"937,-155.5 1041,-155.5 \"/>\n<text text-anchor=\"middle\" x=\"989\" y=\"-140.3\" font-family=\"Times,serif\" font-size=\"14.00\">grad 0.2500</text>\n</g>\n<!-- 140372617116496exp -->\n<g id=\"node22\" class=\"node\">\n<title>140372617116496exp</title>\n<ellipse fill=\"none\" stroke=\"black\" cx=\"1104.3\" cy=\"-167\" rx=\"27.1\" ry=\"18\"/>\n<text text-anchor=\"middle\" x=\"1104.3\" y=\"-163.3\" font-family=\"Times,serif\" font-size=\"14.00\">exp</text>\n</g>\n<!-- 140372617115248&#45;&gt;140372617116496exp -->\n<g id=\"edge12\" class=\"edge\">\n<title>140372617115248&#45;&gt;140372617116496exp</title>\n<path fill=\"none\" stroke=\"black\" d=\"M1041.01,-167C1049.59,-167 1058.34,-167 1066.47,-167\"/>\n<polygon fill=\"black\" stroke=\"black\" points=\"1066.73,-170.5 1076.73,-167 1066.73,-163.5 1066.73,-170.5\"/>\n</g>\n<!-- 140372617115248* -->\n<g id=\"node4\" class=\"node\">\n<title>140372617115248*</title>\n<ellipse fill=\"none\" stroke=\"black\" cx=\"874\" cy=\"-167\" rx=\"27\" ry=\"18\"/>\n<text text-anchor=\"middle\" x=\"874\" y=\"-163.3\" font-family=\"Times,serif\" font-size=\"14.00\">*</text>\n</g>\n<!-- 140372617115248*&#45;&gt;140372617115248 -->\n<g id=\"edge2\" class=\"edge\">\n<title>140372617115248*&#45;&gt;140372617115248</title>\n<path fill=\"none\" stroke=\"black\" d=\"M901.21,-167C908.88,-167 917.62,-167 926.51,-167\"/>\n<polygon fill=\"black\" stroke=\"black\" points=\"926.58,-170.5 936.58,-167 926.58,-163.5 926.58,-170.5\"/>\n</g>\n<!-- 140372617115776 -->\n<g id=\"node5\" class=\"node\">\n<title>140372617115776</title>\n<polygon fill=\"none\" stroke=\"black\" points=\"234,-176.5 234,-245.5 341,-245.5 341,-176.5 234,-176.5\"/>\n<text text-anchor=\"middle\" x=\"287.5\" y=\"-230.3\" font-family=\"Times,serif\" font-size=\"14.00\">x1w1</text>\n<polyline fill=\"none\" stroke=\"black\" points=\"234,-222.5 341,-222.5 \"/>\n<text text-anchor=\"middle\" x=\"287.5\" y=\"-207.3\" font-family=\"Times,serif\" font-size=\"14.00\">data &#45;6.0000</text>\n<polyline fill=\"none\" stroke=\"black\" points=\"234,-199.5 341,-199.5 \"/>\n<text text-anchor=\"middle\" x=\"287.5\" y=\"-184.3\" font-family=\"Times,serif\" font-size=\"14.00\">grad 0.5000</text>\n</g>\n<!-- 140372617114912+ -->\n<g id=\"node18\" class=\"node\">\n<title>140372617114912+</title>\n<ellipse fill=\"none\" stroke=\"black\" cx=\"404\" cy=\"-167\" rx=\"27\" ry=\"18\"/>\n<text text-anchor=\"middle\" x=\"404\" y=\"-163.3\" font-family=\"Times,serif\" font-size=\"14.00\">+</text>\n</g>\n<!-- 140372617115776&#45;&gt;140372617114912+ -->\n<g id=\"edge28\" class=\"edge\">\n<title>140372617115776&#45;&gt;140372617114912+</title>\n<path fill=\"none\" stroke=\"black\" d=\"M341.06,-190.8C351.16,-186.92 361.46,-182.96 370.68,-179.42\"/>\n<polygon fill=\"black\" stroke=\"black\" points=\"372.13,-182.61 380.21,-175.76 369.62,-176.08 372.13,-182.61\"/>\n</g>\n<!-- 140372617115776* -->\n<g id=\"node6\" class=\"node\">\n<title>140372617115776*</title>\n<ellipse fill=\"none\" stroke=\"black\" cx=\"171\" cy=\"-211\" rx=\"27\" ry=\"18\"/>\n<text text-anchor=\"middle\" x=\"171\" y=\"-207.3\" font-family=\"Times,serif\" font-size=\"14.00\">*</text>\n</g>\n<!-- 140372617115776*&#45;&gt;140372617115776 -->\n<g id=\"edge3\" class=\"edge\">\n<title>140372617115776*&#45;&gt;140372617115776</title>\n<path fill=\"none\" stroke=\"black\" d=\"M198.27,-211C205.94,-211 214.68,-211 223.61,-211\"/>\n<polygon fill=\"black\" stroke=\"black\" points=\"223.71,-214.5 233.71,-211 223.71,-207.5 223.71,-214.5\"/>\n</g>\n<!-- 140372617116784 -->\n<g id=\"node7\" class=\"node\">\n<title>140372617116784</title>\n<polygon fill=\"none\" stroke=\"black\" points=\"1168.1,-44.5 1168.1,-113.5 1275.1,-113.5 1275.1,-44.5 1168.1,-44.5\"/>\n<text text-anchor=\"middle\" x=\"1221.6\" y=\"-98.3\" font-family=\"Times,serif\" font-size=\"14.00\"> </text>\n<polyline fill=\"none\" stroke=\"black\" points=\"1168.1,-90.5 1275.1,-90.5 \"/>\n<text text-anchor=\"middle\" x=\"1221.6\" y=\"-75.3\" font-family=\"Times,serif\" font-size=\"14.00\">data &#45;1.0000</text>\n<polyline fill=\"none\" stroke=\"black\" points=\"1168.1,-67.5 1275.1,-67.5 \"/>\n<text text-anchor=\"middle\" x=\"1221.6\" y=\"-52.3\" font-family=\"Times,serif\" font-size=\"14.00\">grad 0.1464</text>\n</g>\n<!-- 140372617116784&#45;&gt;140372617113664+ -->\n<g id=\"edge15\" class=\"edge\">\n<title>140372617116784&#45;&gt;140372617113664+</title>\n<path fill=\"none\" stroke=\"black\" d=\"M1275.38,-102.87C1286.1,-107.72 1297.04,-112.66 1306.69,-117.03\"/>\n<polygon fill=\"black\" stroke=\"black\" points=\"1305.31,-120.24 1315.86,-121.17 1308.19,-113.86 1305.31,-120.24\"/>\n</g>\n<!-- 140372617116832 -->\n<g id=\"node8\" class=\"node\">\n<title>140372617116832</title>\n<polygon fill=\"none\" stroke=\"black\" points=\"1915.6,-131.5 1915.6,-200.5 2019.6,-200.5 2019.6,-131.5 1915.6,-131.5\"/>\n<text text-anchor=\"middle\" x=\"1967.6\" y=\"-185.3\" font-family=\"Times,serif\" font-size=\"14.00\"> </text>\n<polyline fill=\"none\" stroke=\"black\" points=\"1915.6,-177.5 2019.6,-177.5 \"/>\n<text text-anchor=\"middle\" x=\"1967.6\" y=\"-162.3\" font-family=\"Times,serif\" font-size=\"14.00\">data 0.7071</text>\n<polyline fill=\"none\" stroke=\"black\" points=\"1915.6,-154.5 2019.6,-154.5 \"/>\n<text text-anchor=\"middle\" x=\"1967.6\" y=\"-139.3\" font-family=\"Times,serif\" font-size=\"14.00\">grad 1.0000</text>\n</g>\n<!-- 140372617116832*&#45;&gt;140372617116832 -->\n<g id=\"edge4\" class=\"edge\">\n<title>140372617116832*&#45;&gt;140372617116832</title>\n<path fill=\"none\" stroke=\"black\" d=\"M1879.8,-166C1887.48,-166 1896.21,-166 1905.11,-166\"/>\n<polygon fill=\"black\" stroke=\"black\" points=\"1905.18,-169.5 1915.18,-166 1905.18,-162.5 1905.18,-169.5\"/>\n</g>\n<!-- 140372617113760 -->\n<g id=\"node10\" class=\"node\">\n<title>140372617113760</title>\n<polygon fill=\"none\" stroke=\"black\" points=\"2,-88.5 2,-157.5 106,-157.5 106,-88.5 2,-88.5\"/>\n<text text-anchor=\"middle\" x=\"54\" y=\"-142.3\" font-family=\"Times,serif\" font-size=\"14.00\">w2</text>\n<polyline fill=\"none\" stroke=\"black\" points=\"2,-134.5 106,-134.5 \"/>\n<text text-anchor=\"middle\" x=\"54\" y=\"-119.3\" font-family=\"Times,serif\" font-size=\"14.00\">data 1.0000</text>\n<polyline fill=\"none\" stroke=\"black\" points=\"2,-111.5 106,-111.5 \"/>\n<text text-anchor=\"middle\" x=\"54\" y=\"-96.3\" font-family=\"Times,serif\" font-size=\"14.00\">grad 0.0000</text>\n</g>\n<!-- 140372617114816* -->\n<g id=\"node13\" class=\"node\">\n<title>140372617114816*</title>\n<ellipse fill=\"none\" stroke=\"black\" cx=\"171\" cy=\"-123\" rx=\"27\" ry=\"18\"/>\n<text text-anchor=\"middle\" x=\"171\" y=\"-119.3\" font-family=\"Times,serif\" font-size=\"14.00\">*</text>\n</g>\n<!-- 140372617113760&#45;&gt;140372617114816* -->\n<g id=\"edge18\" class=\"edge\">\n<title>140372617113760&#45;&gt;140372617114816*</title>\n<path fill=\"none\" stroke=\"black\" d=\"M106.11,-123C115.41,-123 124.93,-123 133.69,-123\"/>\n<polygon fill=\"black\" stroke=\"black\" points=\"133.93,-126.5 143.93,-123 133.93,-119.5 133.93,-126.5\"/>\n</g>\n<!-- 140372617116352 -->\n<g id=\"node11\" class=\"node\">\n<title>140372617116352</title>\n<polygon fill=\"none\" stroke=\"black\" points=\"707,-176.5 707,-245.5 811,-245.5 811,-176.5 707,-176.5\"/>\n<text text-anchor=\"middle\" x=\"759\" y=\"-230.3\" font-family=\"Times,serif\" font-size=\"14.00\"> </text>\n<polyline fill=\"none\" stroke=\"black\" points=\"707,-222.5 811,-222.5 \"/>\n<text text-anchor=\"middle\" x=\"759\" y=\"-207.3\" font-family=\"Times,serif\" font-size=\"14.00\">data 2.0000</text>\n<polyline fill=\"none\" stroke=\"black\" points=\"707,-199.5 811,-199.5 \"/>\n<text text-anchor=\"middle\" x=\"759\" y=\"-184.3\" font-family=\"Times,serif\" font-size=\"14.00\">grad 0.2203</text>\n</g>\n<!-- 140372617116352&#45;&gt;140372617115248* -->\n<g id=\"edge13\" class=\"edge\">\n<title>140372617116352&#45;&gt;140372617115248*</title>\n<path fill=\"none\" stroke=\"black\" d=\"M811.21,-191.06C821.24,-187.15 831.5,-183.16 840.71,-179.57\"/>\n<polygon fill=\"black\" stroke=\"black\" points=\"842.17,-182.76 850.22,-175.87 839.63,-176.24 842.17,-182.76\"/>\n</g>\n<!-- 140372617114816 -->\n<g id=\"node12\" class=\"node\">\n<title>140372617114816</title>\n<polygon fill=\"none\" stroke=\"black\" points=\"235.5,-88.5 235.5,-157.5 339.5,-157.5 339.5,-88.5 235.5,-88.5\"/>\n<text text-anchor=\"middle\" x=\"287.5\" y=\"-142.3\" font-family=\"Times,serif\" font-size=\"14.00\">x2w2</text>\n<polyline fill=\"none\" stroke=\"black\" points=\"235.5,-134.5 339.5,-134.5 \"/>\n<text text-anchor=\"middle\" x=\"287.5\" y=\"-119.3\" font-family=\"Times,serif\" font-size=\"14.00\">data 0.0000</text>\n<polyline fill=\"none\" stroke=\"black\" points=\"235.5,-111.5 339.5,-111.5 \"/>\n<text text-anchor=\"middle\" x=\"287.5\" y=\"-96.3\" font-family=\"Times,serif\" font-size=\"14.00\">grad 0.5000</text>\n</g>\n<!-- 140372617114816&#45;&gt;140372617114912+ -->\n<g id=\"edge26\" class=\"edge\">\n<title>140372617114816&#45;&gt;140372617114912+</title>\n<path fill=\"none\" stroke=\"black\" d=\"M339.72,-142.68C350.24,-146.73 361.03,-150.87 370.66,-154.57\"/>\n<polygon fill=\"black\" stroke=\"black\" points=\"369.62,-157.92 380.21,-158.24 372.13,-151.39 369.62,-157.92\"/>\n</g>\n<!-- 140372617114816*&#45;&gt;140372617114816 -->\n<g id=\"edge5\" class=\"edge\">\n<title>140372617114816*&#45;&gt;140372617114816</title>\n<path fill=\"none\" stroke=\"black\" d=\"M198.27,-123C206.32,-123 215.54,-123 224.91,-123\"/>\n<polygon fill=\"black\" stroke=\"black\" points=\"225.09,-126.5 235.09,-123 225.09,-119.5 225.09,-126.5\"/>\n</g>\n<!-- 140372617113808 -->\n<g id=\"node14\" class=\"node\">\n<title>140372617113808</title>\n<polygon fill=\"none\" stroke=\"black\" points=\"2,-0.5 2,-69.5 106,-69.5 106,-0.5 2,-0.5\"/>\n<text text-anchor=\"middle\" x=\"54\" y=\"-54.3\" font-family=\"Times,serif\" font-size=\"14.00\">x2</text>\n<polyline fill=\"none\" stroke=\"black\" points=\"2,-46.5 106,-46.5 \"/>\n<text text-anchor=\"middle\" x=\"54\" y=\"-31.3\" font-family=\"Times,serif\" font-size=\"14.00\">data 0.0000</text>\n<polyline fill=\"none\" stroke=\"black\" points=\"2,-23.5 106,-23.5 \"/>\n<text text-anchor=\"middle\" x=\"54\" y=\"-8.3\" font-family=\"Times,serif\" font-size=\"14.00\">grad 0.5000</text>\n</g>\n<!-- 140372617113808&#45;&gt;140372617114816* -->\n<g id=\"edge21\" class=\"edge\">\n<title>140372617113808&#45;&gt;140372617114816*</title>\n<path fill=\"none\" stroke=\"black\" d=\"M100.12,-69.53C115.19,-81.06 131.46,-93.51 144.5,-103.49\"/>\n<polygon fill=\"black\" stroke=\"black\" points=\"142.49,-106.36 152.56,-109.65 146.74,-100.8 142.49,-106.36\"/>\n</g>\n<!-- 140372617116928 -->\n<g id=\"node15\" class=\"node\">\n<title>140372617116928</title>\n<polygon fill=\"none\" stroke=\"black\" points=\"1685.6,-165.5 1685.6,-234.5 1789.6,-234.5 1789.6,-165.5 1685.6,-165.5\"/>\n<text text-anchor=\"middle\" x=\"1737.6\" y=\"-219.3\" font-family=\"Times,serif\" font-size=\"14.00\"> </text>\n<polyline fill=\"none\" stroke=\"black\" points=\"1685.6,-211.5 1789.6,-211.5 \"/>\n<text text-anchor=\"middle\" x=\"1737.6\" y=\"-196.3\" font-family=\"Times,serif\" font-size=\"14.00\">data 0.1464</text>\n<polyline fill=\"none\" stroke=\"black\" points=\"1685.6,-188.5 1789.6,-188.5 \"/>\n<text text-anchor=\"middle\" x=\"1737.6\" y=\"-173.3\" font-family=\"Times,serif\" font-size=\"14.00\">grad 4.8284</text>\n</g>\n<!-- 140372617116928&#45;&gt;140372617116832* -->\n<g id=\"edge22\" class=\"edge\">\n<title>140372617116928&#45;&gt;140372617116832*</title>\n<path fill=\"none\" stroke=\"black\" d=\"M1789.81,-184.59C1799.39,-181.71 1809.19,-178.76 1818.07,-176.09\"/>\n<polygon fill=\"black\" stroke=\"black\" points=\"1819.08,-179.44 1827.65,-173.21 1817.06,-172.74 1819.08,-179.44\"/>\n</g>\n<!-- 140372617116928**&#45;1 -->\n<g id=\"node16\" class=\"node\">\n<title>140372617116928**&#45;1</title>\n<ellipse fill=\"none\" stroke=\"black\" cx=\"1597.6\" cy=\"-202\" rx=\"28.7\" ry=\"18\"/>\n<text text-anchor=\"middle\" x=\"1597.6\" y=\"-198.3\" font-family=\"Times,serif\" font-size=\"14.00\">**&#45;1</text>\n</g>\n<!-- 140372617116928**&#45;1&#45;&gt;140372617116928 -->\n<g id=\"edge6\" class=\"edge\">\n<title>140372617116928**&#45;1&#45;&gt;140372617116928</title>\n<path fill=\"none\" stroke=\"black\" d=\"M1626.19,-201.6C1640.39,-201.39 1658.31,-201.13 1675.55,-200.88\"/>\n<polygon fill=\"black\" stroke=\"black\" points=\"1675.65,-204.38 1685.6,-200.74 1675.55,-197.38 1675.65,-204.38\"/>\n</g>\n<!-- 140372617114912 -->\n<g id=\"node17\" class=\"node\">\n<title>140372617114912</title>\n<polygon fill=\"none\" stroke=\"black\" points=\"467,-132.5 467,-201.5 581,-201.5 581,-132.5 467,-132.5\"/>\n<text text-anchor=\"middle\" x=\"524\" y=\"-186.3\" font-family=\"Times,serif\" font-size=\"14.00\">x1w1 + x2w2</text>\n<polyline fill=\"none\" stroke=\"black\" points=\"467,-178.5 581,-178.5 \"/>\n<text text-anchor=\"middle\" x=\"524\" y=\"-163.3\" font-family=\"Times,serif\" font-size=\"14.00\">data &#45;6.0000</text>\n<polyline fill=\"none\" stroke=\"black\" points=\"467,-155.5 581,-155.5 \"/>\n<text text-anchor=\"middle\" x=\"524\" y=\"-140.3\" font-family=\"Times,serif\" font-size=\"14.00\">grad 0.5000</text>\n</g>\n<!-- 140372617116112+ -->\n<g id=\"node28\" class=\"node\">\n<title>140372617116112+</title>\n<ellipse fill=\"none\" stroke=\"black\" cx=\"644\" cy=\"-123\" rx=\"27\" ry=\"18\"/>\n<text text-anchor=\"middle\" x=\"644\" y=\"-119.3\" font-family=\"Times,serif\" font-size=\"14.00\">+</text>\n</g>\n<!-- 140372617114912&#45;&gt;140372617116112+ -->\n<g id=\"edge20\" class=\"edge\">\n<title>140372617114912&#45;&gt;140372617116112+</title>\n<path fill=\"none\" stroke=\"black\" d=\"M581.24,-146.03C591.35,-142.26 601.57,-138.45 610.71,-135.04\"/>\n<polygon fill=\"black\" stroke=\"black\" points=\"612,-138.3 620.14,-131.52 609.55,-131.74 612,-138.3\"/>\n</g>\n<!-- 140372617114912+&#45;&gt;140372617114912 -->\n<g id=\"edge7\" class=\"edge\">\n<title>140372617114912+&#45;&gt;140372617114912</title>\n<path fill=\"none\" stroke=\"black\" d=\"M431.19,-167C438.88,-167 447.67,-167 456.69,-167\"/>\n<polygon fill=\"black\" stroke=\"black\" points=\"456.93,-170.5 466.93,-167 456.93,-163.5 456.93,-170.5\"/>\n</g>\n<!-- 140372617116976 -->\n<g id=\"node19\" class=\"node\">\n<title>140372617116976</title>\n<polygon fill=\"none\" stroke=\"black\" points=\"1167.6,-220.5 1167.6,-289.5 1275.6,-289.5 1275.6,-220.5 1167.6,-220.5\"/>\n<text text-anchor=\"middle\" x=\"1221.6\" y=\"-274.3\" font-family=\"Times,serif\" font-size=\"14.00\"> </text>\n<polyline fill=\"none\" stroke=\"black\" points=\"1167.6,-266.5 1275.6,-266.5 \"/>\n<text text-anchor=\"middle\" x=\"1221.6\" y=\"-251.3\" font-family=\"Times,serif\" font-size=\"14.00\">data 1.0000</text>\n<polyline fill=\"none\" stroke=\"black\" points=\"1167.6,-243.5 1275.6,-243.5 \"/>\n<text text-anchor=\"middle\" x=\"1221.6\" y=\"-228.3\" font-family=\"Times,serif\" font-size=\"14.00\">grad &#45;0.1036</text>\n</g>\n<!-- 140372617117600+ -->\n<g id=\"node25\" class=\"node\">\n<title>140372617117600+</title>\n<ellipse fill=\"none\" stroke=\"black\" cx=\"1338.6\" cy=\"-202\" rx=\"27\" ry=\"18\"/>\n<text text-anchor=\"middle\" x=\"1338.6\" y=\"-198.3\" font-family=\"Times,serif\" font-size=\"14.00\">+</text>\n</g>\n<!-- 140372617116976&#45;&gt;140372617117600+ -->\n<g id=\"edge11\" class=\"edge\">\n<title>140372617116976&#45;&gt;140372617117600+</title>\n<path fill=\"none\" stroke=\"black\" d=\"M1275.72,-230.52C1286.4,-225.59 1297.28,-220.58 1306.89,-216.15\"/>\n<polygon fill=\"black\" stroke=\"black\" points=\"1308.39,-219.32 1316,-211.95 1305.46,-212.96 1308.39,-219.32\"/>\n</g>\n<!-- 140372617114432 -->\n<g id=\"node20\" class=\"node\">\n<title>140372617114432</title>\n<polygon fill=\"none\" stroke=\"black\" points=\"472,-44.5 472,-113.5 576,-113.5 576,-44.5 472,-44.5\"/>\n<text text-anchor=\"middle\" x=\"524\" y=\"-98.3\" font-family=\"Times,serif\" font-size=\"14.00\">b</text>\n<polyline fill=\"none\" stroke=\"black\" points=\"472,-90.5 576,-90.5 \"/>\n<text text-anchor=\"middle\" x=\"524\" y=\"-75.3\" font-family=\"Times,serif\" font-size=\"14.00\">data 6.8814</text>\n<polyline fill=\"none\" stroke=\"black\" points=\"472,-67.5 576,-67.5 \"/>\n<text text-anchor=\"middle\" x=\"524\" y=\"-52.3\" font-family=\"Times,serif\" font-size=\"14.00\">grad 0.5000</text>\n</g>\n<!-- 140372617114432&#45;&gt;140372617116112+ -->\n<g id=\"edge23\" class=\"edge\">\n<title>140372617114432&#45;&gt;140372617116112+</title>\n<path fill=\"none\" stroke=\"black\" d=\"M576.07,-98.04C587.68,-102.37 599.71,-106.86 610.31,-110.81\"/>\n<polygon fill=\"black\" stroke=\"black\" points=\"609.39,-114.2 619.98,-114.42 611.84,-107.64 609.39,-114.2\"/>\n</g>\n<!-- 140372617116496 -->\n<g id=\"node21\" class=\"node\">\n<title>140372617116496</title>\n<polygon fill=\"none\" stroke=\"black\" points=\"1169.6,-132.5 1169.6,-201.5 1273.6,-201.5 1273.6,-132.5 1169.6,-132.5\"/>\n<text text-anchor=\"middle\" x=\"1221.6\" y=\"-186.3\" font-family=\"Times,serif\" font-size=\"14.00\"> </text>\n<polyline fill=\"none\" stroke=\"black\" points=\"1169.6,-178.5 1273.6,-178.5 \"/>\n<text text-anchor=\"middle\" x=\"1221.6\" y=\"-163.3\" font-family=\"Times,serif\" font-size=\"14.00\">data 5.8284</text>\n<polyline fill=\"none\" stroke=\"black\" points=\"1169.6,-155.5 1273.6,-155.5 \"/>\n<text text-anchor=\"middle\" x=\"1221.6\" y=\"-140.3\" font-family=\"Times,serif\" font-size=\"14.00\">grad 0.0429</text>\n</g>\n<!-- 140372617116496&#45;&gt;140372617113664+ -->\n<g id=\"edge17\" class=\"edge\">\n<title>140372617116496&#45;&gt;140372617113664+</title>\n<path fill=\"none\" stroke=\"black\" d=\"M1273.71,-151C1284.01,-147.77 1294.6,-144.46 1304.12,-141.48\"/>\n<polygon fill=\"black\" stroke=\"black\" points=\"1305.46,-144.73 1313.96,-138.4 1303.37,-138.05 1305.46,-144.73\"/>\n</g>\n<!-- 140372617116496&#45;&gt;140372617117600+ -->\n<g id=\"edge25\" class=\"edge\">\n<title>140372617116496&#45;&gt;140372617117600+</title>\n<path fill=\"none\" stroke=\"black\" d=\"M1273.71,-182.56C1283.93,-185.67 1294.42,-188.86 1303.87,-191.74\"/>\n<polygon fill=\"black\" stroke=\"black\" points=\"1303.07,-195.15 1313.66,-194.71 1305.11,-188.45 1303.07,-195.15\"/>\n</g>\n<!-- 140372617116496exp&#45;&gt;140372617116496 -->\n<g id=\"edge8\" class=\"edge\">\n<title>140372617116496exp&#45;&gt;140372617116496</title>\n<path fill=\"none\" stroke=\"black\" d=\"M1131.75,-167C1140.04,-167 1149.56,-167 1159.22,-167\"/>\n<polygon fill=\"black\" stroke=\"black\" points=\"1159.29,-170.5 1169.29,-167 1159.29,-163.5 1159.29,-170.5\"/>\n</g>\n<!-- 140372617114480 -->\n<g id=\"node23\" class=\"node\">\n<title>140372617114480</title>\n<polygon fill=\"none\" stroke=\"black\" points=\"0.5,-264.5 0.5,-333.5 107.5,-333.5 107.5,-264.5 0.5,-264.5\"/>\n<text text-anchor=\"middle\" x=\"54\" y=\"-318.3\" font-family=\"Times,serif\" font-size=\"14.00\">w1</text>\n<polyline fill=\"none\" stroke=\"black\" points=\"0.5,-310.5 107.5,-310.5 \"/>\n<text text-anchor=\"middle\" x=\"54\" y=\"-295.3\" font-family=\"Times,serif\" font-size=\"14.00\">data &#45;3.0000</text>\n<polyline fill=\"none\" stroke=\"black\" points=\"0.5,-287.5 107.5,-287.5 \"/>\n<text text-anchor=\"middle\" x=\"54\" y=\"-272.3\" font-family=\"Times,serif\" font-size=\"14.00\">grad 1.0000</text>\n</g>\n<!-- 140372617114480&#45;&gt;140372617115776* -->\n<g id=\"edge27\" class=\"edge\">\n<title>140372617114480&#45;&gt;140372617115776*</title>\n<path fill=\"none\" stroke=\"black\" d=\"M100.12,-264.47C115.19,-252.94 131.46,-240.49 144.5,-230.51\"/>\n<polygon fill=\"black\" stroke=\"black\" points=\"146.74,-233.2 152.56,-224.35 142.49,-227.64 146.74,-233.2\"/>\n</g>\n<!-- 140372617117600 -->\n<g id=\"node24\" class=\"node\">\n<title>140372617117600</title>\n<polygon fill=\"none\" stroke=\"black\" points=\"1401.6,-167.5 1401.6,-236.5 1509.6,-236.5 1509.6,-167.5 1401.6,-167.5\"/>\n<text text-anchor=\"middle\" x=\"1455.6\" y=\"-221.3\" font-family=\"Times,serif\" font-size=\"14.00\"> </text>\n<polyline fill=\"none\" stroke=\"black\" points=\"1401.6,-213.5 1509.6,-213.5 \"/>\n<text text-anchor=\"middle\" x=\"1455.6\" y=\"-198.3\" font-family=\"Times,serif\" font-size=\"14.00\">data 6.8284</text>\n<polyline fill=\"none\" stroke=\"black\" points=\"1401.6,-190.5 1509.6,-190.5 \"/>\n<text text-anchor=\"middle\" x=\"1455.6\" y=\"-175.3\" font-family=\"Times,serif\" font-size=\"14.00\">grad &#45;0.1036</text>\n</g>\n<!-- 140372617117600&#45;&gt;140372617116928**&#45;1 -->\n<g id=\"edge19\" class=\"edge\">\n<title>140372617117600&#45;&gt;140372617116928**&#45;1</title>\n<path fill=\"none\" stroke=\"black\" d=\"M1509.92,-202C1526.09,-202 1543.52,-202 1558.47,-202\"/>\n<polygon fill=\"black\" stroke=\"black\" points=\"1558.88,-205.5 1568.88,-202 1558.88,-198.5 1558.88,-205.5\"/>\n</g>\n<!-- 140372617117600+&#45;&gt;140372617117600 -->\n<g id=\"edge9\" class=\"edge\">\n<title>140372617117600+&#45;&gt;140372617117600</title>\n<path fill=\"none\" stroke=\"black\" d=\"M1365.69,-202C1373.39,-202 1382.18,-202 1391.17,-202\"/>\n<polygon fill=\"black\" stroke=\"black\" points=\"1391.35,-205.5 1401.35,-202 1391.35,-198.5 1391.35,-205.5\"/>\n</g>\n<!-- 140372617114528 -->\n<g id=\"node26\" class=\"node\">\n<title>140372617114528</title>\n<polygon fill=\"none\" stroke=\"black\" points=\"0,-176.5 0,-245.5 108,-245.5 108,-176.5 0,-176.5\"/>\n<text text-anchor=\"middle\" x=\"54\" y=\"-230.3\" font-family=\"Times,serif\" font-size=\"14.00\">x1</text>\n<polyline fill=\"none\" stroke=\"black\" points=\"0,-222.5 108,-222.5 \"/>\n<text text-anchor=\"middle\" x=\"54\" y=\"-207.3\" font-family=\"Times,serif\" font-size=\"14.00\">data 2.0000</text>\n<polyline fill=\"none\" stroke=\"black\" points=\"0,-199.5 108,-199.5 \"/>\n<text text-anchor=\"middle\" x=\"54\" y=\"-184.3\" font-family=\"Times,serif\" font-size=\"14.00\">grad &#45;1.5000</text>\n</g>\n<!-- 140372617114528&#45;&gt;140372617115776* -->\n<g id=\"edge14\" class=\"edge\">\n<title>140372617114528&#45;&gt;140372617115776*</title>\n<path fill=\"none\" stroke=\"black\" d=\"M108.12,-211C116.72,-211 125.44,-211 133.52,-211\"/>\n<polygon fill=\"black\" stroke=\"black\" points=\"133.71,-214.5 143.71,-211 133.71,-207.5 133.71,-214.5\"/>\n</g>\n<!-- 140372617116112 -->\n<g id=\"node27\" class=\"node\">\n<title>140372617116112</title>\n<polygon fill=\"none\" stroke=\"black\" points=\"707,-88.5 707,-157.5 811,-157.5 811,-88.5 707,-88.5\"/>\n<text text-anchor=\"middle\" x=\"759\" y=\"-142.3\" font-family=\"Times,serif\" font-size=\"14.00\">n</text>\n<polyline fill=\"none\" stroke=\"black\" points=\"707,-134.5 811,-134.5 \"/>\n<text text-anchor=\"middle\" x=\"759\" y=\"-119.3\" font-family=\"Times,serif\" font-size=\"14.00\">data 0.8814</text>\n<polyline fill=\"none\" stroke=\"black\" points=\"707,-111.5 811,-111.5 \"/>\n<text text-anchor=\"middle\" x=\"759\" y=\"-96.3\" font-family=\"Times,serif\" font-size=\"14.00\">grad 0.5000</text>\n</g>\n<!-- 140372617116112&#45;&gt;140372617115248* -->\n<g id=\"edge16\" class=\"edge\">\n<title>140372617116112&#45;&gt;140372617115248*</title>\n<path fill=\"none\" stroke=\"black\" d=\"M811.21,-142.94C821.24,-146.85 831.5,-150.84 840.71,-154.43\"/>\n<polygon fill=\"black\" stroke=\"black\" points=\"839.63,-157.76 850.22,-158.13 842.17,-151.24 839.63,-157.76\"/>\n</g>\n<!-- 140372617116112+&#45;&gt;140372617116112 -->\n<g id=\"edge10\" class=\"edge\">\n<title>140372617116112+&#45;&gt;140372617116112</title>\n<path fill=\"none\" stroke=\"black\" d=\"M671.21,-123C678.88,-123 687.62,-123 696.51,-123\"/>\n<polygon fill=\"black\" stroke=\"black\" points=\"696.58,-126.5 706.58,-123 696.58,-119.5 696.58,-126.5\"/>\n</g>\n</g>\n</svg>\n",
      "text/plain": [
       "<graphviz.graphs.Digraph at 0x7fab0bfabe80>"
      ]
     },
     "execution_count": 40,
     "metadata": {},
     "output_type": "execute_result"
    }
   ],
   "source": [
    "# simple neuron with two inputs, and thus 2 weights, and a bias\n",
    "# inputs x1, x2\n",
    "x1 = Value(2.0, label='x1')\n",
    "x2 = Value(0.0, label='x2')\n",
    "# weights w1, w2\n",
    "w1 = Value(-3.0, label='w1')\n",
    "w2 = Value(1.0, label='w2')\n",
    "# bias value of the neuron\n",
    "b = Value(6.881373, label='b')\n",
    "#x1*w1 + x2*w2 + b = n\n",
    "x1w1 = x1*w1; x1w1.label='x1w1'\n",
    "x2w2 = x2*w2; x2w2.label='x2w2'\n",
    "x1w1x2w2 = x1w1 + x2w2; x1w1x2w2.label='x1w1 + x2w2'\n",
    "n = x1w1x2w2 + b; n.label = 'n'\n",
    "#-------\n",
    "e = (2*n).exp()\n",
    "o = (e - 1) / (e + 1)\n",
    "#-------\n",
    "o.backward()\n",
    "draw_dot(o)"
   ]
  },
  {
   "cell_type": "markdown",
   "metadata": {},
   "source": [
    "Now, we can break down any \"composite operation\" into smaller constituents, that we are able to do a backward pass through.\n",
    "\n",
    "Let's try and see how a production-level deep learning library does the same thing."
   ]
  },
  {
   "cell_type": "code",
   "execution_count": 41,
   "metadata": {},
   "outputs": [],
   "source": [
    "import torch"
   ]
  },
  {
   "cell_type": "markdown",
   "metadata": {},
   "source": [
    "Pytorch works with tensors, which are n-dimensional matrices/arrays, instead of our little library that works with scalar values.\n",
    "\n",
    "This enables for highly efficient parallelized computation done on arrays of values, instead of just single, scalar values."
   ]
  },
  {
   "cell_type": "code",
   "execution_count": 44,
   "metadata": {},
   "outputs": [
    {
     "name": "stdout",
     "output_type": "stream",
     "text": [
      "tensor([[1., 2., 3.],\n",
      "        [4., 5., 6.]])\n"
     ]
    }
   ],
   "source": [
    "# Tensors are n-dimensional arrays\n",
    "torch.Tensor([[1, 2, 3], [4, 5, 6]])"
   ]
  },
  {
   "cell_type": "code",
   "execution_count": 46,
   "metadata": {},
   "outputs": [
    {
     "data": {
      "text/plain": [
       "torch.Size([2, 3])"
      ]
     },
     "execution_count": 46,
     "metadata": {},
     "output_type": "execute_result"
    }
   ],
   "source": [
    "# This tensor is a 2 x 3 array; 2 rows x 3 columns\n",
    "torch.Tensor([[1, 2, 3], [4, 5, 6]]).shape"
   ]
  },
  {
   "cell_type": "code",
   "execution_count": 55,
   "metadata": {},
   "outputs": [
    {
     "name": "stdout",
     "output_type": "stream",
     "text": [
      "-1.500007465833125\n",
      "1.0000049772220834\n",
      "0.5000024886110417\n",
      "0.0\n"
     ]
    }
   ],
   "source": [
    "x1 = torch.Tensor([2.0]).double(); x1.requires_grad = True\n",
    "w1 = torch.Tensor([-3.0]).double(); w1.requires_grad = True\n",
    "x2 = torch.Tensor([0.0]).double(); x2.requires_grad = True\n",
    "w2 = torch.Tensor([1.0]).double(); w2.requires_grad = True\n",
    "b = torch.Tensor([6.88137]).double(); b.requires_grad = True\n",
    "\n",
    "n = x1*w1 + x2*w2 + b\n",
    "o = torch.tanh(n)\n",
    "o.backward()\n",
    "\n",
    "print(x1.grad.item())\n",
    "print(w1.grad.item())\n",
    "print(x2.grad.item())\n",
    "print(w2.grad.item())"
   ]
  },
  {
   "cell_type": "markdown",
   "metadata": {},
   "source": [
    "Okay, now that we've seen a little as to how production-level libraries do it, let's go back to our library and try to build\n",
    "some models off of it.\n",
    "\n",
    "Let's define a neuron:\n",
    "\n",
    "![](https://cs231n.github.io/assets/nn1/neuron_model.jpeg)"
   ]
  },
  {
   "cell_type": "code",
   "execution_count": 89,
   "metadata": {},
   "outputs": [
    {
     "data": {
      "text/plain": [
       "Value(data=0.4850844939748809)"
      ]
     },
     "execution_count": 89,
     "metadata": {},
     "output_type": "execute_result"
    }
   ],
   "source": [
    "import random\n",
    "class Neuron:\n",
    "    def __init__(self, n_in):\n",
    "        self.w = [Value(random.uniform(-1, 1)) for _ in range(n_in)]\n",
    "        self.b = Value(random.uniform(-1, 1))\n",
    "    \n",
    "    def __call__(self, x):\n",
    "        activation = sum((wi * xi for wi, xi in zip(self.w, x)), self.b)\n",
    "        out = activation.tanh()\n",
    "        return out\n",
    "\n",
    "n = Neuron(2)\n",
    "x = [1.0, 2.0]\n",
    "n(x)"
   ]
  },
  {
   "cell_type": "markdown",
   "metadata": {},
   "source": [
    "Next, to build a neural net (or Multi-Layer Perceptron), we need layers of these neurons.\n",
    "\n",
    "![](https://cs231n.github.io/assets/nn1/neural_net2.jpeg)"
   ]
  },
  {
   "cell_type": "code",
   "execution_count": 108,
   "metadata": {},
   "outputs": [
    {
     "data": {
      "text/plain": [
       "[Value(data=-0.02172675083591104),\n",
       " Value(data=-0.1689399786893467),\n",
       " Value(data=0.6050586243667776)]"
      ]
     },
     "execution_count": 108,
     "metadata": {},
     "output_type": "execute_result"
    }
   ],
   "source": [
    "class Layer:\n",
    "    def __init__(self, n_in, n_out):\n",
    "        # create n_out nuerons that take the same n_in inputs\n",
    "        self.neurons = [Neuron(n_in) for _ in range(n_out)]\n",
    "    \n",
    "    def __call__(self, x):\n",
    "        outs = [n(x) for n in self.neurons]\n",
    "        return outs[0] if len(outs) == 1 else outs\n",
    "\n",
    "l = Layer(2, 3)\n",
    "x = [2.0, 3.0]\n",
    "l(x)"
   ]
  },
  {
   "cell_type": "code",
   "execution_count": 115,
   "metadata": {},
   "outputs": [
    {
     "data": {
      "text/plain": [
       "Value(data=0.9244704091294622)"
      ]
     },
     "execution_count": 115,
     "metadata": {},
     "output_type": "execute_result"
    }
   ],
   "source": [
    "class MLP:\n",
    "    def __init__(self, n_in, n_outs):\n",
    "        # creates a list of the size of all layers, including the input layer\n",
    "        size = [n_in] + n_outs\n",
    "        self.layers = [Layer(size[i], size[i + 1]) for i in range(len(n_outs))]\n",
    "    \n",
    "    def __call__(self, x):\n",
    "        for layer in self.layers:\n",
    "            x = layer(x)\n",
    "        return x\n",
    "\n",
    "m = MLP(3, [4, 4, 1])\n",
    "x = [2.0, 3.0, -1.0]\n",
    "m(x)"
   ]
  },
  {
   "cell_type": "markdown",
   "metadata": {},
   "source": [
    "Now, let's try to test our MLP on a small dataset."
   ]
  },
  {
   "cell_type": "code",
   "execution_count": 137,
   "metadata": {},
   "outputs": [
    {
     "data": {
      "text/plain": [
       "[Value(data=-0.34498944668650444),\n",
       " Value(data=0.6673238510036007),\n",
       " Value(data=0.928589334668487),\n",
       " Value(data=0.12883681840735195)]"
      ]
     },
     "execution_count": 137,
     "metadata": {},
     "output_type": "execute_result"
    }
   ],
   "source": [
    "xs = [\n",
    "    [2.0, 3.0, -1.0],\n",
    "    [3.0, -1.0, 0.5],\n",
    "    [0.5, 1.0, 1.0],\n",
    "    [1.0, 1.0, -1.0]\n",
    "]\n",
    "ys = [1.0, -1.0, -1.0, 1.0]"
   ]
  },
  {
   "cell_type": "markdown",
   "metadata": {},
   "source": [
    "We can use a single value to measure how wrong our neural network is, called a **loss**"
   ]
  },
  {
   "cell_type": "code",
   "execution_count": null,
   "metadata": {},
   "outputs": [],
   "source": [
    "y_pred = [m(x) for x in xs]"
   ]
  },
  {
   "cell_type": "code",
   "execution_count": 124,
   "metadata": {},
   "outputs": [
    {
     "data": {
      "text/plain": [
       "[Value(data=0.07552959087053779),\n",
       " Value(data=-1.9036249092975241),\n",
       " Value(data=-1.2275275973008137),\n",
       " Value(data=0.2542185212244833)]"
      ]
     },
     "execution_count": 124,
     "metadata": {},
     "output_type": "execute_result"
    }
   ],
   "source": [
    "# calculate the error for each prediction in relation to the ground truth label\n",
    "errors = [(y_out - y_gt) for y_out, y_gt in zip(ys, y_pred)]\n",
    "errors"
   ]
  },
  {
   "cell_type": "code",
   "execution_count": 118,
   "metadata": {},
   "outputs": [
    {
     "data": {
      "text/plain": [
       "Value(data=5.20094357306375)"
      ]
     },
     "execution_count": 118,
     "metadata": {},
     "output_type": "execute_result"
    }
   ],
   "source": [
    "# sum of squared errors, to give us a single measure\n",
    "loss = sum((y_out - y_gt) ** 2 for y_out, y_gt in zip(ys, y_pred))\n",
    "loss"
   ]
  },
  {
   "cell_type": "markdown",
   "metadata": {},
   "source": [
    "Let's try to backpropogate after calculating our loss and see how each weight contributes to the overall loss of the MLP.\n",
    "\n",
    "It's crazy to see how large an expression it becomes for just a small neural net."
   ]
  },
  {
   "cell_type": "code",
   "execution_count": null,
   "metadata": {},
   "outputs": [],
   "source": [
    "loss.backward()\n",
    "draw_dot(loss)"
   ]
  },
  {
   "cell_type": "markdown",
   "metadata": {},
   "source": [
    "It's important to be able to see what are parameters and be able to access their gradients all in one place, so let's create a function to get all the parameters from a particular neuron, layer, neural net, etc."
   ]
  },
  {
   "cell_type": "code",
   "execution_count": 127,
   "metadata": {},
   "outputs": [],
   "source": [
    "class Neuron:\n",
    "    def __init__(self, n_in):\n",
    "        self.w = [Value(random.uniform(-1, 1)) for _ in range(n_in)]\n",
    "        self.b = Value(random.uniform(-1, 1))\n",
    "    \n",
    "    def __call__(self, x):\n",
    "        activation = sum((wi * xi for wi, xi in zip(self.w, x)), self.b)\n",
    "        out = activation.tanh()\n",
    "        return out\n",
    "    \n",
    "    def parameters(self):\n",
    "        return self.w + [self.b]\n",
    "\n",
    "class Layer:\n",
    "    def __init__(self, n_in, n_out):\n",
    "        # create n_out nuerons that take the same n_in inputs\n",
    "        self.neurons = [Neuron(n_in) for _ in range(n_out)]\n",
    "    \n",
    "    def __call__(self, x):\n",
    "        outs = [n(x) for n in self.neurons]\n",
    "        return outs[0] if len(outs) == 1 else outs\n",
    "    \n",
    "    def parameters(self):\n",
    "        return [parameter for neuron in self.neurons for parameter in neuron.parameters()]\n",
    "\n",
    "class MLP:\n",
    "    def __init__(self, n_in, n_outs):\n",
    "        # creates a list of the size of all layers, including the input layer\n",
    "        size = [n_in] + n_outs\n",
    "        self.layers = [Layer(size[i], size[i + 1]) for i in range(len(n_outs))]\n",
    "    \n",
    "    def __call__(self, x):\n",
    "        for layer in self.layers:\n",
    "            x = layer(x)\n",
    "        return x\n",
    "    \n",
    "    def parameters(self):\n",
    "        return [parameter for layer in self.layers for parameter in layer.parameters()]"
   ]
  },
  {
   "cell_type": "markdown",
   "metadata": {},
   "source": [
    "If we take a look and see, our small neural net has 41 parameters in total.\n",
    "\n",
    "Now, going back a little bit, in reference to our loss, what can we do to our parameters such that we can make the loss smaller the next time around?"
   ]
  },
  {
   "cell_type": "code",
   "execution_count": 187,
   "metadata": {},
   "outputs": [
    {
     "name": "stdout",
     "output_type": "stream",
     "text": [
      "[Value(data=-0.46082505061507106), Value(data=-0.6651617438079214), Value(data=-0.8431281210412138), Value(data=0.5886204834435127), Value(data=-0.7590016941466968), Value(data=-0.6486270059325965), Value(data=-0.4999201954861119), Value(data=-0.4101828576452131), Value(data=-0.25363059398781296), Value(data=0.05224295598520179), Value(data=0.6887269909951117), Value(data=0.9834167242177876), Value(data=0.9215868473147597), Value(data=0.7256028589482784), Value(data=0.1835025197203206), Value(data=-0.26080070468859273), Value(data=-0.023780554930281195), Value(data=0.7702066871608144), Value(data=-0.7653723643851817), Value(data=-0.16233617184987303), Value(data=-0.12850494047545835), Value(data=0.3078345574420722), Value(data=0.8717179041480332), Value(data=0.525416905479033), Value(data=0.05668974233954516), Value(data=0.6619390830464063), Value(data=-0.9856886237890838), Value(data=0.556133778358282), Value(data=-0.11289977303063448), Value(data=0.8749557944825193), Value(data=0.4737209937325464), Value(data=-0.048097392425549224), Value(data=0.006418309559773849), Value(data=0.891805137088806), Value(data=-0.49074990552198483), Value(data=-0.7074921678623398), Value(data=-0.5176048067449284), Value(data=0.8528527816106029), Value(data=0.8713539201028528), Value(data=-0.15020028383019857), Value(data=-0.26539881437978696)]\n"
     ]
    },
    {
     "data": {
      "text/plain": [
       "41"
      ]
     },
     "execution_count": 187,
     "metadata": {},
     "output_type": "execute_result"
    }
   ],
   "source": [
    "m = MLP(3, [4, 4, 1])\n",
    "print(m.parameters())\n",
    "len(m.parameters())"
   ]
  },
  {
   "cell_type": "code",
   "execution_count": 227,
   "metadata": {},
   "outputs": [
    {
     "data": {
      "text/plain": [
       "Value(data=0.04966003306732808)"
      ]
     },
     "execution_count": 227,
     "metadata": {},
     "output_type": "execute_result"
    }
   ],
   "source": [
    "y_pred = [m(x) for x in xs]\n",
    "loss = sum((y_out - y_gt) ** 2 for y_out, y_gt in zip(ys, y_pred))\n",
    "loss"
   ]
  },
  {
   "cell_type": "markdown",
   "metadata": {},
   "source": [
    "We can use our knowledge of a parameter's gradient w.r. to the loss to be able to nudge the parameter's value in such a way that we decrease the overall loss.\n",
    "\n",
    "The gradient is a vector that points in the direction of maximum increase of the loss, so if a parameter has a positive gradient, then the corresponding nudge should be in the other direction and vice versa. "
   ]
  },
  {
   "cell_type": "code",
   "execution_count": 226,
   "metadata": {},
   "outputs": [],
   "source": [
    "# manual gradient descent\n",
    "step_size = 0.01\n",
    "loss.backward()\n",
    "for p in m.parameters():\n",
    "    p.data += step_size * -(p.grad)"
   ]
  },
  {
   "cell_type": "markdown",
   "metadata": {},
   "source": [
    "If we keep nudging, calculating the loss, backpropogate to calculate the gradients, and repeat the process over and over again, \n",
    "the loss would continue to get smaller and smaller which is good. (but up to a certain point)"
   ]
  },
  {
   "cell_type": "markdown",
   "metadata": {},
   "source": [
    "Be careful with the `step_size` or how large your nudges are going to be, because if you take too big of a step, you may actually overstep _away_ from the optimal point.\n",
    "\n",
    "Remember, we don't actually know exactly about the loss function. \n",
    "\n",
    "The loss function has all kinds of structure and we only know about the very local dependence of all these parameters on the loss, but if you step too far, then it can step into a part of the loss function that is completely different, and destabilize training, and maybe even cause your loss to blow up even."
   ]
  },
  {
   "cell_type": "code",
   "execution_count": 228,
   "metadata": {},
   "outputs": [
    {
     "name": "stdout",
     "output_type": "stream",
     "text": [
      "Value(data=0.04966003306732808)\n",
      "[Value(data=0.9646803611864846), Value(data=-0.7828246470881502), Value(data=-0.9993171711536978), Value(data=0.9646877356462223)]\n"
     ]
    }
   ],
   "source": [
    "# practically perfect\n",
    "print(loss)\n",
    "print(y_pred)"
   ]
  },
  {
   "cell_type": "markdown",
   "metadata": {},
   "source": [
    "Now, we've basically trained a neural net! from scratch!"
   ]
  },
  {
   "cell_type": "markdown",
   "metadata": {},
   "source": [
    "We should still condense these important steps into a single for loop:"
   ]
  },
  {
   "cell_type": "code",
   "execution_count": 232,
   "metadata": {},
   "outputs": [],
   "source": [
    "xs = [\n",
    "    [2.0, 3.0, -1.0],\n",
    "    [3.0, -1.0, 0.5],\n",
    "    [0.5, 1.0, 1.0],\n",
    "    [1.0, 1.0, -1.0]\n",
    "]\n",
    "ys = [1.0, -1.0, -1.0, 1.0]\n",
    "\n",
    "m = MLP(3, [4, 4, 1])"
   ]
  },
  {
   "cell_type": "code",
   "execution_count": 234,
   "metadata": {},
   "outputs": [
    {
     "name": "stdout",
     "output_type": "stream",
     "text": [
      "epoch: 0 loss: 0.006186628872133896\n",
      "epoch: 1 loss: 0.010184040966859091\n",
      "epoch: 2 loss: 0.020358688686939623\n",
      "epoch: 3 loss: 0.05131003183359485\n",
      "epoch: 4 loss: 0.1897602028379169\n",
      "epoch: 5 loss: 0.11681276371545668\n",
      "epoch: 6 loss: 0.025012067593537548\n",
      "epoch: 7 loss: 0.007990983181506086\n",
      "epoch: 8 loss: 0.0031750245512438113\n",
      "epoch: 9 loss: 0.0012999017212911826\n",
      "epoch: 10 loss: 0.0005260548234815089\n",
      "epoch: 11 loss: 0.00021157719319642865\n",
      "epoch: 12 loss: 8.451984624715359e-05\n",
      "epoch: 13 loss: 3.416036443898478e-05\n",
      "epoch: 14 loss: 1.5147177959408112e-05\n",
      "epoch: 15 loss: 8.649589518740035e-06\n",
      "epoch: 16 loss: 7.139546385529324e-06\n",
      "epoch: 17 loss: 7.87387101889972e-06\n",
      "epoch: 18 loss: 1.0096815446075072e-05\n",
      "epoch: 19 loss: 1.3968326529754001e-05\n"
     ]
    }
   ],
   "source": [
    "step_size = 0.01\n",
    "for epoch in range(20):\n",
    "    # forward pass\n",
    "    y_pred = [m(x) for x in xs]\n",
    "    loss = sum((y_out - y_gt) ** 2 for y_out, y_gt in zip(y_pred, ys))\n",
    "\n",
    "    # backward pass\n",
    "    loss.backward()\n",
    "\n",
    "    # update\n",
    "    for p in m.parameters():\n",
    "        p.data += step_size * -(p.grad)\n",
    "    \n",
    "    print('epoch:', epoch, 'loss:', loss.data)"
   ]
  },
  {
   "cell_type": "markdown",
   "metadata": {},
   "source": [
    "What are we missing here? \n",
    "\n",
    "The gradient descent loop looks great, but there is one mistake that can cause a terrible bug.\n",
    "\n",
    "The answer is that the gradient w.r to each paramter needs to be set to zero before backpropogating through the operations.\n",
    "\n",
    "Why is that?\n",
    "\n",
    "Well, if we don't zero out the gradients, by the way backpropogation is defined the gradient start at zero in the very beginning and start accumulating as we backpropogate through the network.\n",
    "\n",
    "If we don't refresh the gradients, the gradients from the previous backward pass will still be present and the current backward pass will add onto the previous backward pass gradient which is not what we want.\n",
    "\n",
    "We don't want the gradient from the previous pass to contribute to the current one, since we want to see how good of a job the current parameter values affect the loss and nudge them by looking at the current gradient w.r.t to these values, not the current gradient + previous gradients.\n",
    "\n",
    "So, this is how it should actually look like."
   ]
  },
  {
   "cell_type": "code",
   "execution_count": 235,
   "metadata": {},
   "outputs": [
    {
     "name": "stdout",
     "output_type": "stream",
     "text": [
      "epoch: 0 loss: 2.029169531291033e-05\n",
      "epoch: 1 loss: 2.0281228922869235e-05\n",
      "epoch: 2 loss: 2.0270773332820213e-05\n",
      "epoch: 3 loss: 2.026032852608451e-05\n",
      "epoch: 4 loss: 2.0249894486017992e-05\n",
      "epoch: 5 loss: 2.0239471196008058e-05\n",
      "epoch: 6 loss: 2.0229058639478516e-05\n",
      "epoch: 7 loss: 2.021865679988869e-05\n",
      "epoch: 8 loss: 2.0208265660726223e-05\n",
      "epoch: 9 loss: 2.0197885205520108e-05\n",
      "epoch: 10 loss: 2.0187515417828695e-05\n",
      "epoch: 11 loss: 2.0177156281241522e-05\n",
      "epoch: 12 loss: 2.0166807779388334e-05\n",
      "epoch: 13 loss: 2.015646989592713e-05\n",
      "epoch: 14 loss: 2.0146142614551953e-05\n",
      "epoch: 15 loss: 2.0135825918987908e-05\n",
      "epoch: 16 loss: 2.0125519792998213e-05\n",
      "epoch: 17 loss: 2.011522422036902e-05\n",
      "epoch: 18 loss: 2.0104939184935466e-05\n",
      "epoch: 19 loss: 2.0094664670547572e-05\n"
     ]
    }
   ],
   "source": [
    "step_size = 0.01\n",
    "for epoch in range(20):\n",
    "    # forward pass\n",
    "    y_pred = [m(x) for x in xs]\n",
    "    loss = sum((y_out - y_gt) ** 2 for y_out, y_gt in zip(y_pred, ys))\n",
    "\n",
    "    # backward pass\n",
    "    for p in m.parameters():\n",
    "        p.grad = 0.0\n",
    "    loss.backward()\n",
    "\n",
    "    # update\n",
    "    for p in m.parameters():\n",
    "        p.data += step_size * -(p.grad)\n",
    "    \n",
    "    print('epoch:', epoch, 'loss:', loss.data)"
   ]
  },
  {
   "cell_type": "markdown",
   "metadata": {},
   "source": [
    "Now, things should update much more smoothly. \n",
    "\n",
    "If you had a more complex problem, then this bug would of made the model not optimize very well.\n",
    "\n",
    "We were only able to get away with it since it's a smaller problem."
   ]
  },
  {
   "cell_type": "markdown",
   "metadata": {},
   "source": []
  }
 ],
 "metadata": {
  "kernelspec": {
   "display_name": "Python 3.8.10 64-bit",
   "language": "python",
   "name": "python3"
  },
  "language_info": {
   "codemirror_mode": {
    "name": "ipython",
    "version": 3
   },
   "file_extension": ".py",
   "mimetype": "text/x-python",
   "name": "python",
   "nbconvert_exporter": "python",
   "pygments_lexer": "ipython3",
   "version": "3.8.10"
  },
  "orig_nbformat": 4,
  "vscode": {
   "interpreter": {
    "hash": "916dbcbb3f70747c44a77c7bcd40155683ae19c65e1c03b4aa3499c5328201f1"
   }
  }
 },
 "nbformat": 4,
 "nbformat_minor": 2
}
