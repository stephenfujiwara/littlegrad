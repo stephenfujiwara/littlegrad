{
 "cells": [
  {
   "cell_type": "code",
   "execution_count": 18,
   "metadata": {},
   "outputs": [],
   "source": [
    "import matplotlib.pyplot as plt\n",
    "import numpy as np # used only for seed\n",
    "%matplotlib inline"
   ]
  },
  {
   "cell_type": "code",
   "execution_count": 19,
   "metadata": {},
   "outputs": [],
   "source": [
    "from engine import Value"
   ]
  },
  {
   "cell_type": "code",
   "execution_count": 20,
   "metadata": {},
   "outputs": [],
   "source": [
    "# for reproducibility, need to set the seed\n",
    "np.random.seed(42)"
   ]
  },
  {
   "cell_type": "code",
   "execution_count": 21,
   "metadata": {},
   "outputs": [
    {
     "data": {
      "text/plain": [
       "<matplotlib.collections.PathCollection at 0x7f80a4c4c8e0>"
      ]
     },
     "execution_count": 21,
     "metadata": {},
     "output_type": "execute_result"
    },
    {
     "data": {
      "image/png": "[encoded data removed]",
      "text/plain": [
       "<Figure size 432x288 with 1 Axes>"
      ]
     },
     "metadata": {
      "needs_background": "light"
     },
     "output_type": "display_data"
    }
   ],
   "source": [
    "# make a dataset\n",
    "from sklearn.datasets import make_moons\n",
    "\n",
    "X, y = make_moons(n_samples=100, noise = 0.1)\n",
    "first_feature = X[:, 0]\n",
    "second_feature = X[:, 1]\n",
    "\n",
    "# because we are using a loss function called hinge loss that works values that are either -1 or 1,\n",
    "# we need to change 0 to -1 for our classes.\n",
    "\n",
    "y = y*2 - 1\n",
    "\n",
    "plt.scatter(first_feature, second_feature, c=y)"
   ]
  },
  {
   "cell_type": "code",
   "execution_count": 22,
   "metadata": {},
   "outputs": [],
   "source": [
    "# Create a small NN library from our littlegrad engine\n",
    "import random\n",
    "\n",
    "class Module:\n",
    "    def zero_grad(self):\n",
    "        for p in self.parameters():\n",
    "            p.grad = 0\n",
    "    \n",
    "    def parameters(self):\n",
    "        return []\n",
    "\n",
    "class Neuron(Module):\n",
    "    def __init__(self, n_in):\n",
    "        self.w = [Value(random.uniform(-1, 1)) for _ in range(n_in)]\n",
    "        self.b = Value(random.uniform(-1, 1))\n",
    "    \n",
    "    def __call__(self, x):\n",
    "        activation = sum((wi * xi for wi, xi in zip(self.w, x)), self.b)\n",
    "        out = activation.tanh()\n",
    "        return out\n",
    "    \n",
    "    def parameters(self):\n",
    "        return self.w + [self.b]\n",
    "\n",
    "class Layer(Module):\n",
    "    def __init__(self, n_in, n_out):\n",
    "        # create n_out nuerons that take the same n_in inputs\n",
    "        self.neurons = [Neuron(n_in) for _ in range(n_out)]\n",
    "    \n",
    "    def __call__(self, x):\n",
    "        outs = [n(x) for n in self.neurons]\n",
    "        return outs[0] if len(outs) == 1 else outs\n",
    "    \n",
    "    def parameters(self):\n",
    "        return [parameter for neuron in self.neurons for parameter in neuron.parameters()]\n",
    "\n",
    "class MLP(Module):\n",
    "    def __init__(self, n_in, n_outs):\n",
    "        # creates a list of the size of all layers, including the input layer\n",
    "        size = [n_in] + n_outs\n",
    "        self.layers = [Layer(size[i], size[i + 1]) for i in range(len(n_outs))]\n",
    "    \n",
    "    def __call__(self, x):\n",
    "        for layer in self.layers:\n",
    "            x = layer(x)\n",
    "        return x\n",
    "    \n",
    "    def parameters(self):\n",
    "        return [parameter for layer in self.layers for parameter in layer.parameters()]"
   ]
  },
  {
   "cell_type": "code",
   "execution_count": 23,
   "metadata": {},
   "outputs": [
    {
     "name": "stdout",
     "output_type": "stream",
     "text": [
      "This neural net has 641 parameters.\n"
     ]
    }
   ],
   "source": [
    "# initialize a small classification model\n",
    "model = MLP(2, [32, 16, 1])\n",
    "print(\"This neural net has\", len(model.parameters()), \"parameters.\")"
   ]
  },
  {
   "cell_type": "code",
   "execution_count": 24,
   "metadata": {},
   "outputs": [
    {
     "data": {
      "text/plain": [
       "(Value(data=1.230864864498866), 0.38)"
      ]
     },
     "execution_count": 24,
     "metadata": {},
     "output_type": "execute_result"
    }
   ],
   "source": [
    "def loss():\n",
    "    # map() applies a given function to each item of a given iterable\n",
    "    # and returns an iterator of the results\n",
    "    # this basically make the data in each sample into a Value object, so each row is a row of Value objects.\n",
    "    inputs = [list(map(Value, xrow)) for xrow in X]\n",
    "\n",
    "    # forward pass thru the model\n",
    "    # apply model to each sample, then cast to a list\n",
    "    classes = list(map(model, inputs))\n",
    "\n",
    "    # svm hinge loss\n",
    "    # if belongs to class -1, but outputs 1: loss will be 2; if right: loss will be 0.\n",
    "    # if belongs to class 1, but outputs -1: loss will also be 2; if right: loss will be 0.\n",
    "    losses = [(1 + -yi*scorei).relu() for yi, scorei in zip(y, classes)]\n",
    "\n",
    "    data_loss = sum(losses) * (1.0 / len(losses))\n",
    "\n",
    "    accuracy = [(yi > 0) == (scorei.data > 0) for yi, scorei in zip(y, classes)]\n",
    "\n",
    "    return data_loss, sum(accuracy) / len(accuracy)\n",
    "\n",
    "loss()"
   ]
  },
  {
   "cell_type": "code",
   "execution_count": 25,
   "metadata": {},
   "outputs": [
    {
     "name": "stdout",
     "output_type": "stream",
     "text": [
      "step 0 loss 1.230864864498866, accuracy 38.0%\n",
      "step 1 loss 0.8565091363282654, accuracy 50.0%\n",
      "step 2 loss 0.5792892795295584, accuracy 71.0%\n",
      "step 3 loss 0.46118874857668046, accuracy 77.0%\n",
      "step 4 loss 0.3818781940558529, accuracy 82.0%\n",
      "step 5 loss 0.32487930237307466, accuracy 85.0%\n",
      "step 6 loss 0.2834382586193192, accuracy 87.0%\n",
      "step 7 loss 0.25817742815003636, accuracy 89.0%\n",
      "step 8 loss 0.2502434419278918, accuracy 89.0%\n",
      "step 9 loss 0.2614579705734542, accuracy 87.0%\n",
      "step 10 loss 0.24238174437122706, accuracy 90.0%\n",
      "step 11 loss 0.265567478551585, accuracy 87.0%\n",
      "step 12 loss 0.2238293379631289, accuracy 89.0%\n",
      "step 13 loss 0.21930863143847695, accuracy 90.0%\n",
      "step 14 loss 0.21499936331425423, accuracy 89.0%\n",
      "step 15 loss 0.21036954004682606, accuracy 90.0%\n",
      "step 16 loss 0.2057584010356515, accuracy 91.0%\n",
      "step 17 loss 0.20082593187097478, accuracy 90.0%\n",
      "step 18 loss 0.19601511481446618, accuracy 92.0%\n",
      "step 19 loss 0.19145450281026485, accuracy 91.0%\n",
      "step 20 loss 0.19011693467816793, accuracy 91.0%\n",
      "step 21 loss 0.1970042070264509, accuracy 92.0%\n",
      "step 22 loss 0.24833635027643375, accuracy 88.0%\n",
      "step 23 loss 0.1926716073154742, accuracy 91.0%\n",
      "step 24 loss 0.1856045020768289, accuracy 93.0%\n",
      "step 25 loss 0.23007594368521123, accuracy 88.0%\n",
      "step 26 loss 0.18032682367273883, accuracy 92.0%\n",
      "step 27 loss 0.16481965775620747, accuracy 93.0%\n",
      "step 28 loss 0.1826717450124483, accuracy 91.0%\n",
      "step 29 loss 0.14834608387192216, accuracy 94.0%\n",
      "step 30 loss 0.15191723720972533, accuracy 92.0%\n",
      "step 31 loss 0.13942731665476177, accuracy 94.0%\n",
      "step 32 loss 0.1741076008080484, accuracy 93.0%\n",
      "step 33 loss 0.13083296854861814, accuracy 94.0%\n",
      "step 34 loss 0.14548398417708733, accuracy 94.0%\n",
      "step 35 loss 0.11080206189000232, accuracy 96.0%\n",
      "step 36 loss 0.1461045979949804, accuracy 95.0%\n",
      "step 37 loss 0.24622756279170716, accuracy 92.0%\n",
      "step 38 loss 0.5043823787006394, accuracy 75.0%\n",
      "step 39 loss 0.2983372812559346, accuracy 86.0%\n",
      "step 40 loss 0.27480359378135144, accuracy 86.0%\n",
      "step 41 loss 0.24507476052242072, accuracy 89.0%\n",
      "step 42 loss 0.21420174745410298, accuracy 89.0%\n",
      "step 43 loss 0.19206143282740318, accuracy 91.0%\n",
      "step 44 loss 0.18176034690656168, accuracy 92.0%\n",
      "step 45 loss 0.17504917133167883, accuracy 92.0%\n",
      "step 46 loss 0.16807620119224603, accuracy 92.0%\n",
      "step 47 loss 0.15116666820675367, accuracy 93.0%\n",
      "step 48 loss 0.11379578610355072, accuracy 95.0%\n",
      "step 49 loss 0.09533176336533085, accuracy 96.0%\n",
      "step 50 loss 0.08411413826212209, accuracy 96.0%\n",
      "step 51 loss 0.07558030710521706, accuracy 97.0%\n",
      "step 52 loss 0.06836029863035205, accuracy 99.0%\n",
      "step 53 loss 0.06255847489994679, accuracy 99.0%\n",
      "step 54 loss 0.05787517430023004, accuracy 99.0%\n",
      "step 55 loss 0.05397508338089951, accuracy 99.0%\n",
      "step 56 loss 0.050606237263572516, accuracy 99.0%\n",
      "step 57 loss 0.047604418256063305, accuracy 99.0%\n",
      "step 58 loss 0.04486691399626152, accuracy 99.0%\n",
      "step 59 loss 0.04234796223470704, accuracy 99.0%\n",
      "step 60 loss 0.04004570701734456, accuracy 99.0%\n",
      "step 61 loss 0.037975747522758986, accuracy 99.0%\n",
      "step 62 loss 0.03614780589276755, accuracy 100.0%\n",
      "step 63 loss 0.03454939135876754, accuracy 100.0%\n",
      "step 64 loss 0.03315559467906827, accuracy 100.0%\n",
      "step 65 loss 0.03193533270541271, accuracy 100.0%\n",
      "step 66 loss 0.03086040490531553, accuracy 100.0%\n",
      "step 67 loss 0.02990591600264595, accuracy 100.0%\n",
      "step 68 loss 0.02905214000129704, accuracy 100.0%\n",
      "step 69 loss 0.028282799743431352, accuracy 100.0%\n",
      "step 70 loss 0.027585232857946507, accuracy 100.0%\n",
      "step 71 loss 0.02694903414110393, accuracy 100.0%\n",
      "step 72 loss 0.026365995076453617, accuracy 100.0%\n",
      "step 73 loss 0.025829302189108325, accuracy 100.0%\n",
      "step 74 loss 0.025333450686316168, accuracy 100.0%\n",
      "step 75 loss 0.024873816630838676, accuracy 100.0%\n",
      "step 76 loss 0.024446569866057973, accuracy 100.0%\n",
      "step 77 loss 0.024048458150219405, accuracy 100.0%\n",
      "step 78 loss 0.023676730271854757, accuracy 100.0%\n",
      "step 79 loss 0.023329025927077557, accuracy 100.0%\n",
      "step 80 loss 0.023003314993942373, accuracy 100.0%\n",
      "step 81 loss 0.02269783661749379, accuracy 100.0%\n",
      "step 82 loss 0.022411056044085626, accuracy 100.0%\n",
      "step 83 loss 0.022141627819603434, accuracy 100.0%\n",
      "step 84 loss 0.02188836680134212, accuracy 100.0%\n",
      "step 85 loss 0.021650224361127793, accuracy 100.0%\n",
      "step 86 loss 0.021426268919703666, accuracy 100.0%\n",
      "step 87 loss 0.021215669875433153, accuracy 100.0%\n",
      "step 88 loss 0.02101768425297881, accuracy 100.0%\n",
      "step 89 loss 0.02083164555130437, accuracy 100.0%\n",
      "step 90 loss 0.020656954377032518, accuracy 100.0%\n",
      "step 91 loss 0.020493070538429938, accuracy 100.0%\n",
      "step 92 loss 0.020339506340928144, accuracy 100.0%\n",
      "step 93 loss 0.020195820876984866, accuracy 100.0%\n",
      "step 94 loss 0.02006161514348705, accuracy 100.0%\n",
      "step 95 loss 0.019936527851722244, accuracy 100.0%\n",
      "step 96 loss 0.019820231820140973, accuracy 100.0%\n",
      "step 97 loss 0.019712430860201337, accuracy 100.0%\n",
      "step 98 loss 0.01961285708166148, accuracy 100.0%\n",
      "step 99 loss 0.01952126855663779, accuracy 100.0%\n"
     ]
    }
   ],
   "source": [
    "# optimization\n",
    "for epoch in range(50):\n",
    "    \n",
    "    # forward\n",
    "    data_loss, acc = loss()\n",
    "    \n",
    "    # backward\n",
    "    model.zero_grad()\n",
    "    data_loss.backward()\n",
    "    \n",
    "    # update (sgd)\n",
    "    learning_rate = 1.0 - 0.9*epoch/100\n",
    "    for p in model.parameters():\n",
    "        p.data -= learning_rate * p.grad\n",
    "    \n",
    "    if epoch % 1 == 0:\n",
    "        print(f\"step {epoch} loss {data_loss.data}, accuracy {acc*100}%\")"
   ]
  },
  {
   "cell_type": "code",
   "execution_count": 30,
   "metadata": {},
   "outputs": [
    {
     "data": {
      "text/plain": [
       "(-2.1751967779895254, 3.2701838184722294)"
      ]
     },
     "execution_count": 30,
     "metadata": {},
     "output_type": "execute_result"
    }
   ],
   "source": [
    "# visualization of the decision boundary\n",
    "h = 0.25\n",
    "# gets min and max of each variable and add 1 for some extra space to plot\n",
    "x_min, x_max = X[:, 0].min() - 1, X[:, 0].max() + 1\n",
    "y_min, y_max = X[:, 1].min() - 1, X[:, 1].max() + 1\n",
    "x_min, x_max"
   ]
  },
  {
   "cell_type": "code",
   "execution_count": 42,
   "metadata": {},
   "outputs": [
    {
     "data": {
      "text/plain": [
       "(-1.5978882018302847, 2.1521117981697153)"
      ]
     },
     "execution_count": 42,
     "metadata": {},
     "output_type": "execute_result"
    },
    {
     "data": {
      "image/png": "[encoded data removed]",
      "text/plain": [
       "<Figure size 432x288 with 1 Axes>"
      ]
     },
     "metadata": {
      "needs_background": "light"
     },
     "output_type": "display_data"
    }
   ],
   "source": [
    "# creates a grid filled in by values in arguments\n",
    "xx, yy = np.meshgrid(np.arange(x_min, x_max, h),\n",
    "                     np.arange(y_min, y_max, h))\n",
    "# flattens xx and yy and concatenates them along the second axis, columns.\n",
    "Xmesh = np.c_[xx.ravel(), yy.ravel()]\n",
    "\n",
    "# cast each value of data to a Value object\n",
    "inputs = [list(map(Value, xrow)) for xrow in Xmesh]\n",
    "# run each row thru the model\n",
    "scores = list(map(model, inputs))\n",
    "\n",
    "# Z for levels of contour plot\n",
    "Z = np.array([s.data > 0 for s in scores])\n",
    "Z = Z.reshape(xx.shape)\n",
    "\n",
    "plt.contourf(xx, yy, Z)\n",
    "plt.scatter(X[:, 0], X[:, 1], c=y)\n",
    "plt.xlim(xx.min(), xx.max())\n",
    "plt.ylim(yy.min(), yy.max())"
   ]
  },
  {
   "cell_type": "code",
   "execution_count": null,
   "metadata": {},
   "outputs": [],
   "source": []
  }
 ],
 "metadata": {
  "kernelspec": {
   "display_name": "Python 3.8.10 64-bit",
   "language": "python",
   "name": "python3"
  },
  "language_info": {
   "codemirror_mode": {
    "name": "ipython",
    "version": 3
   },
   "file_extension": ".py",
   "mimetype": "text/x-python",
   "name": "python",
   "nbconvert_exporter": "python",
   "pygments_lexer": "ipython3",
   "version": "3.8.10"
  },
  "orig_nbformat": 4,
  "vscode": {
   "interpreter": {
    "hash": "916dbcbb3f70747c44a77c7bcd40155683ae19c65e1c03b4aa3499c5328201f1"
   }
  }
 },
 "nbformat": 4,
 "nbformat_minor": 2
}
