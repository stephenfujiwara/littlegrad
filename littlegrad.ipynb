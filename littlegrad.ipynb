{
 "cells": [
  {
   "cell_type": "code",
   "execution_count": 3,
   "metadata": {},
   "outputs": [],
   "source": [
    "import math\n",
    "import numpy as np\n",
    "import matplotlib.pyplot as plt\n",
    "%matplotlib inline"
   ]
  },
  {
   "cell_type": "code",
   "execution_count": 4,
   "metadata": {},
   "outputs": [],
   "source": [
    "def f(x):\n",
    "    return 3*x**2 - 4*x + 5"
   ]
  },
  {
   "cell_type": "code",
   "execution_count": 5,
   "metadata": {},
   "outputs": [
    {
     "data": {
      "text/plain": [
       "Text(0, 0.5, 'y')"
      ]
     },
     "execution_count": 5,
     "metadata": {},
     "output_type": "execute_result"
    },
    {
     "data": {
      "image/png": "[encoded data removed]",
      "text/plain": [
       "<Figure size 432x288 with 1 Axes>"
      ]
     },
     "metadata": {
      "needs_background": "light"
     },
     "output_type": "display_data"
    }
   ],
   "source": [
    "xs = np.arange(-5, 5, 0.25)\n",
    "ys = f(xs)\n",
    "plt.plot(xs, ys)\n",
    "plt.xlabel(xlabel='x')\n",
    "plt.ylabel(ylabel='y')"
   ]
  },
  {
   "cell_type": "code",
   "execution_count": 6,
   "metadata": {},
   "outputs": [
    {
     "name": "stdout",
     "output_type": "stream",
     "text": [
      "14.00300000000243\n",
      "14.000300000063248\n",
      "14.00003000000538\n",
      "14.000003002223592\n",
      "14.000000305713908\n",
      "14.000000092551085\n",
      "14.000001158365187\n",
      "14.000001158365187\n",
      "14.000178794049125\n",
      "14.001244608152765\n",
      "13.997691894473965\n",
      "14.210854715201993\n",
      "10.658141036401494\n",
      "0.0\n",
      "0.0\n",
      "0.0\n",
      "0.0\n",
      "0.0\n",
      "0.0\n",
      "0.0\n"
     ]
    }
   ],
   "source": [
    "# Let's try to get the derivative numerically (at x = 3)\n",
    "h = 0.01\n",
    "x = 3\n",
    "(f(x + h) - f(x)) / h\n",
    "for i in range(20):\n",
    "    h = h * 0.1\n",
    "    print((f(x + h) - f(x)) / h)\n",
    "# At some point, the answer is incorrect, because of floating point arithmetic \n",
    "# and the memory for the representation of these numbers is finite."
   ]
  },
  {
   "cell_type": "code",
   "execution_count": 7,
   "metadata": {},
   "outputs": [
    {
     "data": {
      "text/plain": [
       "2.9753977059954195e-07"
      ]
     },
     "execution_count": 7,
     "metadata": {},
     "output_type": "execute_result"
    }
   ],
   "source": [
    "# at x = 2/3\n",
    "h = 0.0000001\n",
    "x = 2/3\n",
    "(f(x + h) - f(x)) / h\n",
    "# the derivative approaches 0, so at x = 2/3 there is no response by the function to a change in x."
   ]
  },
  {
   "cell_type": "code",
   "execution_count": 8,
   "metadata": {},
   "outputs": [
    {
     "ename": "TypeError",
     "evalue": "unsupported operand type(s) for +: 'Value' and 'Value'",
     "output_type": "error",
     "traceback": [
      "\u001b[0;31m---------------------------------------------------------------------------\u001b[0m",
      "\u001b[0;31mTypeError\u001b[0m                                 Traceback (most recent call last)",
      "\u001b[1;32m/home/stephen/source/littlegrad/littlegrad.ipynb Cell 6\u001b[0m in \u001b[0;36m<cell line: 12>\u001b[0;34m()\u001b[0m\n\u001b[1;32m     <a href='vscode-notebook-cell://wsl%2Bubuntu/home/stephen/source/littlegrad/littlegrad.ipynb#W5sdnNjb2RlLXJlbW90ZQ%3D%3D?line=9'>10</a>\u001b[0m b \u001b[39m=\u001b[39m Value(\u001b[39m-\u001b[39m\u001b[39m3.0\u001b[39m)\n\u001b[1;32m     <a href='vscode-notebook-cell://wsl%2Bubuntu/home/stephen/source/littlegrad/littlegrad.ipynb#W5sdnNjb2RlLXJlbW90ZQ%3D%3D?line=10'>11</a>\u001b[0m \u001b[39m# a, b are Value objects, we need to define addition for these Value objects.\u001b[39;00m\n\u001b[0;32m---> <a href='vscode-notebook-cell://wsl%2Bubuntu/home/stephen/source/littlegrad/littlegrad.ipynb#W5sdnNjb2RlLXJlbW90ZQ%3D%3D?line=11'>12</a>\u001b[0m a \u001b[39m+\u001b[39;49m b\n",
      "\u001b[0;31mTypeError\u001b[0m: unsupported operand type(s) for +: 'Value' and 'Value'"
     ]
    }
   ],
   "source": [
    "# defining the skeleton of the autograd engine\n",
    "class Value:\n",
    "    def __init__(self, data) -> None:\n",
    "        self.data = data\n",
    "    \n",
    "    def __repr__(self) -> str:\n",
    "        return f\"Value(data={self.data})\"\n",
    "\n",
    "a = Value(2.0)\n",
    "b = Value(-3.0)\n",
    "# a, b are Value objects, we need to define addition for these Value objects.\n",
    "a + b"
   ]
  },
  {
   "cell_type": "code",
   "execution_count": null,
   "metadata": {},
   "outputs": [
    {
     "data": {
      "text/plain": [
       "Value(data=-1.0)"
      ]
     },
     "execution_count": 27,
     "metadata": {},
     "output_type": "execute_result"
    }
   ],
   "source": [
    "# defining the skeleton of the autograd engine\n",
    "class Value:\n",
    "    def __init__(self, data) -> None:\n",
    "        self.data = data\n",
    "    \n",
    "    def __repr__(self) -> str:\n",
    "        return f\"Value(data={self.data})\"\n",
    "    \n",
    "    def __add__(self, other):\n",
    "        return Value(a.data + other.data)\n",
    "\n",
    "# Now addition should work.\n",
    "a = Value(2.0)\n",
    "b = Value(-3.0)\n",
    "a + b"
   ]
  },
  {
   "cell_type": "markdown",
   "metadata": {},
   "source": [
    "Now, let's add some more functionality to cover the basic arithmetical operations."
   ]
  },
  {
   "cell_type": "code",
   "execution_count": null,
   "metadata": {},
   "outputs": [
    {
     "data": {
      "text/plain": [
       "Value(data=-6.0)"
      ]
     },
     "execution_count": 29,
     "metadata": {},
     "output_type": "execute_result"
    }
   ],
   "source": [
    "# defining the skeleton of the autograd engine\n",
    "class Value:\n",
    "    def __init__(self, data) -> None:\n",
    "        self.data = data\n",
    "    \n",
    "    def __repr__(self) -> str:\n",
    "        return f\"Value(data={self.data})\"\n",
    "    \n",
    "    def __add__(self, other):\n",
    "        return Value(self.data + other.data)\n",
    "    \n",
    "    def __mul__(self, other):\n",
    "        return Value(self.data * other.data)\n",
    "\n",
    "# Now addition should work.\n",
    "a = Value(2.0)\n",
    "b = Value(-3.0)\n",
    "a + b\n",
    "a * b\n"
   ]
  },
  {
   "cell_type": "markdown",
   "metadata": {},
   "source": [
    "Now, we need to create the connected tissue that allows us to know what values were used to create other values."
   ]
  },
  {
   "cell_type": "code",
   "execution_count": null,
   "metadata": {},
   "outputs": [
    {
     "name": "stdout",
     "output_type": "stream",
     "text": [
      "Value(data=4.0) children =  {Value(data=-6.0), Value(data=10.0)}\n"
     ]
    }
   ],
   "source": [
    "# defining the skeleton of the autograd engine\n",
    "class Value:\n",
    "    def __init__(self, data, children=()) -> None:\n",
    "        self.data = data\n",
    "        self._prev = set(children)\n",
    "    \n",
    "    def __repr__(self) -> str:\n",
    "        return f\"Value(data={self.data})\"\n",
    "    \n",
    "    def __add__(self, other):\n",
    "        return Value(self.data + other.data, children=(self, other))\n",
    "    \n",
    "    def __mul__(self, other):\n",
    "        return Value(self.data * other.data, children=(self, other))\n",
    "\n",
    "# Now addition should work.\n",
    "a = Value(2.0)\n",
    "b = Value(-3.0)\n",
    "c = Value(10.0)\n",
    "d = a*b + c\n",
    "print(d, \"children = \", d._prev)"
   ]
  },
  {
   "cell_type": "markdown",
   "metadata": {},
   "source": [
    "We still don't have a way of tracking what operation was used to create a Value object, so \n",
    "let's do that. "
   ]
  },
  {
   "cell_type": "code",
   "execution_count": 32,
   "metadata": {},
   "outputs": [
    {
     "name": "stdout",
     "output_type": "stream",
     "text": [
      "Value(data=-6.0) chilren = {Value(data=-3.0), Value(data=2.0)} _op = *\n"
     ]
    }
   ],
   "source": [
    "# defining the skeleton of the autograd engine\n",
    "class Value:\n",
    "    def __init__(self, data, children=(), op=\"\", label='') -> None:\n",
    "        self.data = data\n",
    "        self._prev = set(children)\n",
    "        self._op = op\n",
    "        self.label = label\n",
    "    \n",
    "    def __repr__(self) -> str:\n",
    "        return f\"Value(data={self.data})\"\n",
    "    \n",
    "    def __add__(self, other):\n",
    "        return Value(self.data + other.data, children=(self, other), op='+')\n",
    "    \n",
    "    def __mul__(self, other):\n",
    "        return Value(self.data * other.data, children=(self, other), op='*')\n",
    "\n",
    "# Now addition should work.\n",
    "a = Value(2.0, label='a')\n",
    "b = Value(-3.0, label='b')\n",
    "c = Value(10.0, label = 'c')\n",
    "d = a*b; d.label = 'd'\n",
    "e = d + c; e.label = 'e'\n",
    "f = Value(-2.0, label='f')\n",
    "L = e*f; L.label = 'L'\n",
    "print(d, \"chilren =\", d._prev, \"_op =\", d._op)"
   ]
  },
  {
   "cell_type": "markdown",
   "metadata": {},
   "source": [
    "Now, let's create a way to visualize the graph of interconnected Value objects and their relationships\n",
    "with respect to each other."
   ]
  },
  {
   "cell_type": "code",
   "execution_count": 26,
   "metadata": {},
   "outputs": [
    {
     "data": {
      "text/plain": [
       "({Value(data=-3.0), Value(data=-6.0), Value(data=2.0)},\n",
       " {(Value(data=-3.0), Value(data=-6.0)), (Value(data=2.0), Value(data=-6.0))})"
      ]
     },
     "execution_count": 26,
     "metadata": {},
     "output_type": "execute_result"
    }
   ],
   "source": [
    "from graphviz import Digraph\n",
    "\n",
    "def trace(root):\n",
    "    # keep track of the nodes and edges to form a graph\n",
    "    nodes, edges = set(), set()\n",
    "    def build(v):\n",
    "        if v not in nodes:\n",
    "            nodes.add(v)\n",
    "            for child in v._prev:\n",
    "                edges.add((child, v))\n",
    "                build(child)\n",
    "    build(root)\n",
    "    return nodes, edges\n",
    "\n",
    "trace(d)"
   ]
  },
  {
   "cell_type": "code",
   "execution_count": 37,
   "metadata": {},
   "outputs": [
    {
     "data": {
      "image/svg+xml": "<?xml version=\"1.0\" encoding=\"UTF-8\" standalone=\"no\"?>\n<!DOCTYPE svg PUBLIC \"-//W3C//DTD SVG 1.1//EN\"\n \"http://www.w3.org/Graphics/SVG/1.1/DTD/svg11.dtd\">\n<!-- Generated by graphviz version 2.43.0 (0)\n -->\n<!-- Title: %3 Pages: 1 -->\n<svg width=\"818pt\" height=\"254pt\"\n viewBox=\"0.00 0.00 818.00 254.00\" xmlns=\"http://www.w3.org/2000/svg\" xmlns:xlink=\"http://www.w3.org/1999/xlink\">\n<g id=\"graph0\" class=\"graph\" transform=\"scale(1 1) rotate(0) translate(4 250)\">\n<title>%3</title>\n<polygon fill=\"white\" stroke=\"transparent\" points=\"-4,4 -4,-250 814,-250 814,4 -4,4\"/>\n<!-- 139843396822544 -->\n<g id=\"node1\" class=\"node\">\n<title>139843396822544</title>\n<polygon fill=\"none\" stroke=\"black\" points=\"0,-176.5 0,-245.5 107,-245.5 107,-176.5 0,-176.5\"/>\n<text text-anchor=\"middle\" x=\"53.5\" y=\"-230.3\" font-family=\"Times,serif\" font-size=\"14.00\">b</text>\n<polyline fill=\"none\" stroke=\"black\" points=\"0,-222.5 107,-222.5 \"/>\n<text text-anchor=\"middle\" x=\"53.5\" y=\"-207.3\" font-family=\"Times,serif\" font-size=\"14.00\">data &#45;3.0000</text>\n<polyline fill=\"none\" stroke=\"black\" points=\"0,-199.5 107,-199.5 \"/>\n<text text-anchor=\"middle\" x=\"53.5\" y=\"-184.3\" font-family=\"Times,serif\" font-size=\"14.00\">grad 0.0000</text>\n</g>\n<!-- 139843396821728* -->\n<g id=\"node6\" class=\"node\">\n<title>139843396821728*</title>\n<ellipse fill=\"none\" stroke=\"black\" cx=\"170\" cy=\"-167\" rx=\"27\" ry=\"18\"/>\n<text text-anchor=\"middle\" x=\"170\" y=\"-163.3\" font-family=\"Times,serif\" font-size=\"14.00\">*</text>\n</g>\n<!-- 139843396822544&#45;&gt;139843396821728* -->\n<g id=\"edge7\" class=\"edge\">\n<title>139843396822544&#45;&gt;139843396821728*</title>\n<path fill=\"none\" stroke=\"black\" d=\"M107.06,-190.8C117.16,-186.92 127.46,-182.96 136.68,-179.42\"/>\n<polygon fill=\"black\" stroke=\"black\" points=\"138.13,-182.61 146.21,-175.76 135.62,-176.08 138.13,-182.61\"/>\n</g>\n<!-- 139843032164912 -->\n<g id=\"node2\" class=\"node\">\n<title>139843032164912</title>\n<polygon fill=\"none\" stroke=\"black\" points=\"471.5,-88.5 471.5,-157.5 575.5,-157.5 575.5,-88.5 471.5,-88.5\"/>\n<text text-anchor=\"middle\" x=\"523.5\" y=\"-142.3\" font-family=\"Times,serif\" font-size=\"14.00\">e</text>\n<polyline fill=\"none\" stroke=\"black\" points=\"471.5,-134.5 575.5,-134.5 \"/>\n<text text-anchor=\"middle\" x=\"523.5\" y=\"-119.3\" font-family=\"Times,serif\" font-size=\"14.00\">data 4.0000</text>\n<polyline fill=\"none\" stroke=\"black\" points=\"471.5,-111.5 575.5,-111.5 \"/>\n<text text-anchor=\"middle\" x=\"523.5\" y=\"-96.3\" font-family=\"Times,serif\" font-size=\"14.00\">grad 0.0000</text>\n</g>\n<!-- 139843032163616* -->\n<g id=\"node9\" class=\"node\">\n<title>139843032163616*</title>\n<ellipse fill=\"none\" stroke=\"black\" cx=\"640\" cy=\"-79\" rx=\"27\" ry=\"18\"/>\n<text text-anchor=\"middle\" x=\"640\" y=\"-75.3\" font-family=\"Times,serif\" font-size=\"14.00\">*</text>\n</g>\n<!-- 139843032164912&#45;&gt;139843032163616* -->\n<g id=\"edge9\" class=\"edge\">\n<title>139843032164912&#45;&gt;139843032163616*</title>\n<path fill=\"none\" stroke=\"black\" d=\"M575.72,-103.32C586.24,-99.27 597.03,-95.13 606.66,-91.43\"/>\n<polygon fill=\"black\" stroke=\"black\" points=\"608.13,-94.61 616.21,-87.76 605.62,-88.08 608.13,-94.61\"/>\n</g>\n<!-- 139843032164912+ -->\n<g id=\"node3\" class=\"node\">\n<title>139843032164912+</title>\n<ellipse fill=\"none\" stroke=\"black\" cx=\"407\" cy=\"-123\" rx=\"27\" ry=\"18\"/>\n<text text-anchor=\"middle\" x=\"407\" y=\"-119.3\" font-family=\"Times,serif\" font-size=\"14.00\">+</text>\n</g>\n<!-- 139843032164912+&#45;&gt;139843032164912 -->\n<g id=\"edge1\" class=\"edge\">\n<title>139843032164912+&#45;&gt;139843032164912</title>\n<path fill=\"none\" stroke=\"black\" d=\"M434.27,-123C442.32,-123 451.54,-123 460.91,-123\"/>\n<polygon fill=\"black\" stroke=\"black\" points=\"461.09,-126.5 471.09,-123 461.09,-119.5 461.09,-126.5\"/>\n</g>\n<!-- 139843396821584 -->\n<g id=\"node4\" class=\"node\">\n<title>139843396821584</title>\n<polygon fill=\"none\" stroke=\"black\" points=\"233,-44.5 233,-113.5 344,-113.5 344,-44.5 233,-44.5\"/>\n<text text-anchor=\"middle\" x=\"288.5\" y=\"-98.3\" font-family=\"Times,serif\" font-size=\"14.00\">c</text>\n<polyline fill=\"none\" stroke=\"black\" points=\"233,-90.5 344,-90.5 \"/>\n<text text-anchor=\"middle\" x=\"288.5\" y=\"-75.3\" font-family=\"Times,serif\" font-size=\"14.00\">data 10.0000</text>\n<polyline fill=\"none\" stroke=\"black\" points=\"233,-67.5 344,-67.5 \"/>\n<text text-anchor=\"middle\" x=\"288.5\" y=\"-52.3\" font-family=\"Times,serif\" font-size=\"14.00\">grad 0.0000</text>\n</g>\n<!-- 139843396821584&#45;&gt;139843032164912+ -->\n<g id=\"edge8\" class=\"edge\">\n<title>139843396821584&#45;&gt;139843032164912+</title>\n<path fill=\"none\" stroke=\"black\" d=\"M344.34,-99.71C354.39,-103.51 364.58,-107.36 373.71,-110.8\"/>\n<polygon fill=\"black\" stroke=\"black\" points=\"372.54,-114.1 383.13,-114.36 375.01,-107.56 372.54,-114.1\"/>\n</g>\n<!-- 139843396821728 -->\n<g id=\"node5\" class=\"node\">\n<title>139843396821728</title>\n<polygon fill=\"none\" stroke=\"black\" points=\"235,-132.5 235,-201.5 342,-201.5 342,-132.5 235,-132.5\"/>\n<text text-anchor=\"middle\" x=\"288.5\" y=\"-186.3\" font-family=\"Times,serif\" font-size=\"14.00\">d</text>\n<polyline fill=\"none\" stroke=\"black\" points=\"235,-178.5 342,-178.5 \"/>\n<text text-anchor=\"middle\" x=\"288.5\" y=\"-163.3\" font-family=\"Times,serif\" font-size=\"14.00\">data &#45;6.0000</text>\n<polyline fill=\"none\" stroke=\"black\" points=\"235,-155.5 342,-155.5 \"/>\n<text text-anchor=\"middle\" x=\"288.5\" y=\"-140.3\" font-family=\"Times,serif\" font-size=\"14.00\">grad 0.0000</text>\n</g>\n<!-- 139843396821728&#45;&gt;139843032164912+ -->\n<g id=\"edge6\" class=\"edge\">\n<title>139843396821728&#45;&gt;139843032164912+</title>\n<path fill=\"none\" stroke=\"black\" d=\"M342.3,-147.06C352.93,-143.04 363.81,-138.93 373.5,-135.28\"/>\n<polygon fill=\"black\" stroke=\"black\" points=\"374.99,-138.45 383.1,-131.65 372.51,-131.91 374.99,-138.45\"/>\n</g>\n<!-- 139843396821728*&#45;&gt;139843396821728 -->\n<g id=\"edge2\" class=\"edge\">\n<title>139843396821728*&#45;&gt;139843396821728</title>\n<path fill=\"none\" stroke=\"black\" d=\"M197.14,-167C205.41,-167 214.93,-167 224.62,-167\"/>\n<polygon fill=\"black\" stroke=\"black\" points=\"224.74,-170.5 234.74,-167 224.74,-163.5 224.74,-170.5\"/>\n</g>\n<!-- 139843032164096 -->\n<g id=\"node7\" class=\"node\">\n<title>139843032164096</title>\n<polygon fill=\"none\" stroke=\"black\" points=\"470,-0.5 470,-69.5 577,-69.5 577,-0.5 470,-0.5\"/>\n<text text-anchor=\"middle\" x=\"523.5\" y=\"-54.3\" font-family=\"Times,serif\" font-size=\"14.00\">f</text>\n<polyline fill=\"none\" stroke=\"black\" points=\"470,-46.5 577,-46.5 \"/>\n<text text-anchor=\"middle\" x=\"523.5\" y=\"-31.3\" font-family=\"Times,serif\" font-size=\"14.00\">data &#45;2.0000</text>\n<polyline fill=\"none\" stroke=\"black\" points=\"470,-23.5 577,-23.5 \"/>\n<text text-anchor=\"middle\" x=\"523.5\" y=\"-8.3\" font-family=\"Times,serif\" font-size=\"14.00\">grad 0.0000</text>\n</g>\n<!-- 139843032164096&#45;&gt;139843032163616* -->\n<g id=\"edge4\" class=\"edge\">\n<title>139843032164096&#45;&gt;139843032163616*</title>\n<path fill=\"none\" stroke=\"black\" d=\"M577.06,-55.2C587.16,-59.08 597.46,-63.04 606.68,-66.58\"/>\n<polygon fill=\"black\" stroke=\"black\" points=\"605.62,-69.92 616.21,-70.24 608.13,-63.39 605.62,-69.92\"/>\n</g>\n<!-- 139843032163616 -->\n<g id=\"node8\" class=\"node\">\n<title>139843032163616</title>\n<polygon fill=\"none\" stroke=\"black\" points=\"703,-44.5 703,-113.5 810,-113.5 810,-44.5 703,-44.5\"/>\n<text text-anchor=\"middle\" x=\"756.5\" y=\"-98.3\" font-family=\"Times,serif\" font-size=\"14.00\">L</text>\n<polyline fill=\"none\" stroke=\"black\" points=\"703,-90.5 810,-90.5 \"/>\n<text text-anchor=\"middle\" x=\"756.5\" y=\"-75.3\" font-family=\"Times,serif\" font-size=\"14.00\">data &#45;8.0000</text>\n<polyline fill=\"none\" stroke=\"black\" points=\"703,-67.5 810,-67.5 \"/>\n<text text-anchor=\"middle\" x=\"756.5\" y=\"-52.3\" font-family=\"Times,serif\" font-size=\"14.00\">grad 0.0000</text>\n</g>\n<!-- 139843032163616*&#45;&gt;139843032163616 -->\n<g id=\"edge3\" class=\"edge\">\n<title>139843032163616*&#45;&gt;139843032163616</title>\n<path fill=\"none\" stroke=\"black\" d=\"M667.27,-79C674.94,-79 683.68,-79 692.61,-79\"/>\n<polygon fill=\"black\" stroke=\"black\" points=\"692.71,-82.5 702.71,-79 692.71,-75.5 692.71,-82.5\"/>\n</g>\n<!-- 139843396822448 -->\n<g id=\"node10\" class=\"node\">\n<title>139843396822448</title>\n<polygon fill=\"none\" stroke=\"black\" points=\"1.5,-88.5 1.5,-157.5 105.5,-157.5 105.5,-88.5 1.5,-88.5\"/>\n<text text-anchor=\"middle\" x=\"53.5\" y=\"-142.3\" font-family=\"Times,serif\" font-size=\"14.00\">a</text>\n<polyline fill=\"none\" stroke=\"black\" points=\"1.5,-134.5 105.5,-134.5 \"/>\n<text text-anchor=\"middle\" x=\"53.5\" y=\"-119.3\" font-family=\"Times,serif\" font-size=\"14.00\">data 2.0000</text>\n<polyline fill=\"none\" stroke=\"black\" points=\"1.5,-111.5 105.5,-111.5 \"/>\n<text text-anchor=\"middle\" x=\"53.5\" y=\"-96.3\" font-family=\"Times,serif\" font-size=\"14.00\">grad 0.0000</text>\n</g>\n<!-- 139843396822448&#45;&gt;139843396821728* -->\n<g id=\"edge5\" class=\"edge\">\n<title>139843396822448&#45;&gt;139843396821728*</title>\n<path fill=\"none\" stroke=\"black\" d=\"M105.72,-142.68C116.24,-146.73 127.03,-150.87 136.66,-154.57\"/>\n<polygon fill=\"black\" stroke=\"black\" points=\"135.62,-157.92 146.21,-158.24 138.13,-151.39 135.62,-157.92\"/>\n</g>\n</g>\n</svg>\n",
      "text/plain": [
       "<graphviz.graphs.Digraph at 0x7f2fbe478880>"
      ]
     },
     "execution_count": 37,
     "metadata": {},
     "output_type": "execute_result"
    }
   ],
   "source": [
    "def draw_dot(root):\n",
    "    dot = Digraph(format='svg', graph_attr={'rankdir' : 'LR'}) # graph will be layed out from left to right\n",
    "\n",
    "    nodes, edges = trace(root)\n",
    "    for node in nodes:\n",
    "        uid = str(id(node)) # retrieves unique id of each object\n",
    "        dot.node(name = uid, label = f\"{node.label} | data {node.data:.4f} | grad {node.grad:.4f}\", shape='record')\n",
    "        if node._op:\n",
    "            # if the value is a result of an operation, create a node for the operation\n",
    "            dot.node(name = uid + node._op, label=node._op)\n",
    "            # connect the op node to the resulting value\n",
    "            dot.edge(uid + node._op, uid)\n",
    "    \n",
    "    for node1, node2 in edges:\n",
    "        # connect node1 to the op node of op2\n",
    "        dot.edge(str(id(node1)), str(id(node2)) + node2._op)\n",
    "\n",
    "    return dot\n",
    "draw_dot(L)"
   ]
  },
  {
   "cell_type": "markdown",
   "metadata": {},
   "source": [
    "Now, we still don't have a way of tracking the gradient. So, we introduce a new variable called `grad` in the Value object to keep the derivative with respect\n",
    "to its child nodes."
   ]
  },
  {
   "cell_type": "code",
   "execution_count": 36,
   "metadata": {},
   "outputs": [
    {
     "name": "stdout",
     "output_type": "stream",
     "text": [
      "Value(data=-6.0) chilren = {Value(data=-3.0), Value(data=2.0)} _op = *\n"
     ]
    }
   ],
   "source": [
    "# defining the skeleton of the autograd engine\n",
    "class Value:\n",
    "    def __init__(self, data, children=(), op=\"\", label='') -> None:\n",
    "        self.data = data\n",
    "        self.grad = 0\n",
    "        self._prev = set(children)\n",
    "        self._op = op\n",
    "        self.label = label\n",
    "    \n",
    "    def __repr__(self) -> str:\n",
    "        return f\"Value(data={self.data})\"\n",
    "    \n",
    "    def __add__(self, other):\n",
    "        return Value(self.data + other.data, children=(self, other), op='+')\n",
    "    \n",
    "    def __mul__(self, other):\n",
    "        return Value(self.data * other.data, children=(self, other), op='*')\n",
    "\n",
    "# Now addition should work.\n",
    "a = Value(2.0, label='a')\n",
    "b = Value(-3.0, label='b')\n",
    "c = Value(10.0, label = 'c')\n",
    "d = a*b; d.label = 'd'\n",
    "e = d + c; e.label = 'e'\n",
    "f = Value(-2.0, label='f')\n",
    "L = e*f; L.label = 'L'\n",
    "print(d, \"chilren =\", d._prev, \"_op =\", d._op)"
   ]
  },
  {
   "cell_type": "markdown",
   "metadata": {},
   "source": [
    "We can first try to do backpropogation manually and see how each of the inputs affect the final output.\n",
    "\n",
    "The key here is to abide by the chain rule where the rate of change of a variable $z$ with respect to $x$, through\n",
    "an intermediate variable $y$ is:\n",
    "\n",
    "$ \\frac{dz}{dx} = \\frac{dz}{dy}\\cdot\\frac{dy}{dz}$"
   ]
  },
  {
   "cell_type": "code",
   "execution_count": 52,
   "metadata": {},
   "outputs": [],
   "source": [
    "# dL/dL = 1\n",
    "L.grad = 1\n",
    "# dL/df = e\n",
    "f.grad = 4.0\n",
    "#dL/de = f\n",
    "e.grad = -2.0\n",
    "# dL/dd = dL/de * de/dd (Chain Rule is important here)\n",
    "d.grad = -2.0 * 1.0\n",
    "# dL/dc = dL/de * de/dc\n",
    "c.grad = -2.0 * 1.0\n",
    "# dL/db = dL/dd * dd/db\n",
    "b.grad = -2.0 * 2.0\n",
    "# dL/da = dL/dd * dd/da\n",
    "a.grad = -2.0 * -3.0"
   ]
  },
  {
   "cell_type": "markdown",
   "metadata": {},
   "source": [
    "Now, we can plot our graph and see how each variable affects the final output.\n",
    "\n",
    "Take notice of the addition operation/node; it simply routes the derivative backwards, since it's local gradient is 1."
   ]
  },
  {
   "cell_type": "code",
   "execution_count": 53,
   "metadata": {},
   "outputs": [
    {
     "data": {
      "image/svg+xml": "<?xml version=\"1.0\" encoding=\"UTF-8\" standalone=\"no\"?>\n<!DOCTYPE svg PUBLIC \"-//W3C//DTD SVG 1.1//EN\"\n \"http://www.w3.org/Graphics/SVG/1.1/DTD/svg11.dtd\">\n<!-- Generated by graphviz version 2.43.0 (0)\n -->\n<!-- Title: %3 Pages: 1 -->\n<svg width=\"820pt\" height=\"254pt\"\n viewBox=\"0.00 0.00 820.00 254.00\" xmlns=\"http://www.w3.org/2000/svg\" xmlns:xlink=\"http://www.w3.org/1999/xlink\">\n<g id=\"graph0\" class=\"graph\" transform=\"scale(1 1) rotate(0) translate(4 250)\">\n<title>%3</title>\n<polygon fill=\"white\" stroke=\"transparent\" points=\"-4,4 -4,-250 816,-250 816,4 -4,4\"/>\n<!-- 139843396822544 -->\n<g id=\"node1\" class=\"node\">\n<title>139843396822544</title>\n<polygon fill=\"none\" stroke=\"black\" points=\"0,-176.5 0,-245.5 108,-245.5 108,-176.5 0,-176.5\"/>\n<text text-anchor=\"middle\" x=\"54\" y=\"-230.3\" font-family=\"Times,serif\" font-size=\"14.00\">b</text>\n<polyline fill=\"none\" stroke=\"black\" points=\"0,-222.5 108,-222.5 \"/>\n<text text-anchor=\"middle\" x=\"54\" y=\"-207.3\" font-family=\"Times,serif\" font-size=\"14.00\">data &#45;3.0000</text>\n<polyline fill=\"none\" stroke=\"black\" points=\"0,-199.5 108,-199.5 \"/>\n<text text-anchor=\"middle\" x=\"54\" y=\"-184.3\" font-family=\"Times,serif\" font-size=\"14.00\">grad &#45;4.0000</text>\n</g>\n<!-- 139843396821728* -->\n<g id=\"node6\" class=\"node\">\n<title>139843396821728*</title>\n<ellipse fill=\"none\" stroke=\"black\" cx=\"171\" cy=\"-167\" rx=\"27\" ry=\"18\"/>\n<text text-anchor=\"middle\" x=\"171\" y=\"-163.3\" font-family=\"Times,serif\" font-size=\"14.00\">*</text>\n</g>\n<!-- 139843396822544&#45;&gt;139843396821728* -->\n<g id=\"edge7\" class=\"edge\">\n<title>139843396822544&#45;&gt;139843396821728*</title>\n<path fill=\"none\" stroke=\"black\" d=\"M108.12,-190.67C118.24,-186.8 128.53,-182.87 137.75,-179.34\"/>\n<polygon fill=\"black\" stroke=\"black\" points=\"139.17,-182.54 147.26,-175.7 136.67,-176 139.17,-182.54\"/>\n</g>\n<!-- 139843032164912 -->\n<g id=\"node2\" class=\"node\">\n<title>139843032164912</title>\n<polygon fill=\"none\" stroke=\"black\" points=\"471,-88.5 471,-157.5 579,-157.5 579,-88.5 471,-88.5\"/>\n<text text-anchor=\"middle\" x=\"525\" y=\"-142.3\" font-family=\"Times,serif\" font-size=\"14.00\">e</text>\n<polyline fill=\"none\" stroke=\"black\" points=\"471,-134.5 579,-134.5 \"/>\n<text text-anchor=\"middle\" x=\"525\" y=\"-119.3\" font-family=\"Times,serif\" font-size=\"14.00\">data 4.0000</text>\n<polyline fill=\"none\" stroke=\"black\" points=\"471,-111.5 579,-111.5 \"/>\n<text text-anchor=\"middle\" x=\"525\" y=\"-96.3\" font-family=\"Times,serif\" font-size=\"14.00\">grad &#45;2.0000</text>\n</g>\n<!-- 139843032163616* -->\n<g id=\"node9\" class=\"node\">\n<title>139843032163616*</title>\n<ellipse fill=\"none\" stroke=\"black\" cx=\"642\" cy=\"-79\" rx=\"27\" ry=\"18\"/>\n<text text-anchor=\"middle\" x=\"642\" y=\"-75.3\" font-family=\"Times,serif\" font-size=\"14.00\">*</text>\n</g>\n<!-- 139843032164912&#45;&gt;139843032163616* -->\n<g id=\"edge9\" class=\"edge\">\n<title>139843032164912&#45;&gt;139843032163616*</title>\n<path fill=\"none\" stroke=\"black\" d=\"M579.12,-102.67C589.24,-98.8 599.53,-94.87 608.75,-91.34\"/>\n<polygon fill=\"black\" stroke=\"black\" points=\"610.17,-94.54 618.26,-87.7 607.67,-88 610.17,-94.54\"/>\n</g>\n<!-- 139843032164912+ -->\n<g id=\"node3\" class=\"node\">\n<title>139843032164912+</title>\n<ellipse fill=\"none\" stroke=\"black\" cx=\"408\" cy=\"-123\" rx=\"27\" ry=\"18\"/>\n<text text-anchor=\"middle\" x=\"408\" y=\"-119.3\" font-family=\"Times,serif\" font-size=\"14.00\">+</text>\n</g>\n<!-- 139843032164912+&#45;&gt;139843032164912 -->\n<g id=\"edge1\" class=\"edge\">\n<title>139843032164912+&#45;&gt;139843032164912</title>\n<path fill=\"none\" stroke=\"black\" d=\"M435.1,-123C442.8,-123 451.59,-123 460.57,-123\"/>\n<polygon fill=\"black\" stroke=\"black\" points=\"460.75,-126.5 470.75,-123 460.75,-119.5 460.75,-126.5\"/>\n</g>\n<!-- 139843396821584 -->\n<g id=\"node4\" class=\"node\">\n<title>139843396821584</title>\n<polygon fill=\"none\" stroke=\"black\" points=\"234,-44.5 234,-113.5 345,-113.5 345,-44.5 234,-44.5\"/>\n<text text-anchor=\"middle\" x=\"289.5\" y=\"-98.3\" font-family=\"Times,serif\" font-size=\"14.00\">c</text>\n<polyline fill=\"none\" stroke=\"black\" points=\"234,-90.5 345,-90.5 \"/>\n<text text-anchor=\"middle\" x=\"289.5\" y=\"-75.3\" font-family=\"Times,serif\" font-size=\"14.00\">data 10.0000</text>\n<polyline fill=\"none\" stroke=\"black\" points=\"234,-67.5 345,-67.5 \"/>\n<text text-anchor=\"middle\" x=\"289.5\" y=\"-52.3\" font-family=\"Times,serif\" font-size=\"14.00\">grad &#45;2.0000</text>\n</g>\n<!-- 139843396821584&#45;&gt;139843032164912+ -->\n<g id=\"edge8\" class=\"edge\">\n<title>139843396821584&#45;&gt;139843032164912+</title>\n<path fill=\"none\" stroke=\"black\" d=\"M345.34,-99.71C355.39,-103.51 365.58,-107.36 374.71,-110.8\"/>\n<polygon fill=\"black\" stroke=\"black\" points=\"373.54,-114.1 384.13,-114.36 376.01,-107.56 373.54,-114.1\"/>\n</g>\n<!-- 139843396821728 -->\n<g id=\"node5\" class=\"node\">\n<title>139843396821728</title>\n<polygon fill=\"none\" stroke=\"black\" points=\"235.5,-132.5 235.5,-201.5 343.5,-201.5 343.5,-132.5 235.5,-132.5\"/>\n<text text-anchor=\"middle\" x=\"289.5\" y=\"-186.3\" font-family=\"Times,serif\" font-size=\"14.00\">d</text>\n<polyline fill=\"none\" stroke=\"black\" points=\"235.5,-178.5 343.5,-178.5 \"/>\n<text text-anchor=\"middle\" x=\"289.5\" y=\"-163.3\" font-family=\"Times,serif\" font-size=\"14.00\">data &#45;6.0000</text>\n<polyline fill=\"none\" stroke=\"black\" points=\"235.5,-155.5 343.5,-155.5 \"/>\n<text text-anchor=\"middle\" x=\"289.5\" y=\"-140.3\" font-family=\"Times,serif\" font-size=\"14.00\">grad &#45;2.0000</text>\n</g>\n<!-- 139843396821728&#45;&gt;139843032164912+ -->\n<g id=\"edge6\" class=\"edge\">\n<title>139843396821728&#45;&gt;139843032164912+</title>\n<path fill=\"none\" stroke=\"black\" d=\"M343.64,-146.93C354.24,-142.93 365.06,-138.84 374.7,-135.2\"/>\n<polygon fill=\"black\" stroke=\"black\" points=\"376.14,-138.4 384.25,-131.59 373.66,-131.85 376.14,-138.4\"/>\n</g>\n<!-- 139843396821728*&#45;&gt;139843396821728 -->\n<g id=\"edge2\" class=\"edge\">\n<title>139843396821728*&#45;&gt;139843396821728</title>\n<path fill=\"none\" stroke=\"black\" d=\"M198.14,-167C206.22,-167 215.5,-167 224.97,-167\"/>\n<polygon fill=\"black\" stroke=\"black\" points=\"225.27,-170.5 235.27,-167 225.27,-163.5 225.27,-170.5\"/>\n</g>\n<!-- 139843032164096 -->\n<g id=\"node7\" class=\"node\">\n<title>139843032164096</title>\n<polygon fill=\"none\" stroke=\"black\" points=\"471.5,-0.5 471.5,-69.5 578.5,-69.5 578.5,-0.5 471.5,-0.5\"/>\n<text text-anchor=\"middle\" x=\"525\" y=\"-54.3\" font-family=\"Times,serif\" font-size=\"14.00\">f</text>\n<polyline fill=\"none\" stroke=\"black\" points=\"471.5,-46.5 578.5,-46.5 \"/>\n<text text-anchor=\"middle\" x=\"525\" y=\"-31.3\" font-family=\"Times,serif\" font-size=\"14.00\">data &#45;2.0000</text>\n<polyline fill=\"none\" stroke=\"black\" points=\"471.5,-23.5 578.5,-23.5 \"/>\n<text text-anchor=\"middle\" x=\"525\" y=\"-8.3\" font-family=\"Times,serif\" font-size=\"14.00\">grad 4.0000</text>\n</g>\n<!-- 139843032164096&#45;&gt;139843032163616* -->\n<g id=\"edge4\" class=\"edge\">\n<title>139843032164096&#45;&gt;139843032163616*</title>\n<path fill=\"none\" stroke=\"black\" d=\"M578.79,-55.2C588.93,-59.08 599.28,-63.04 608.54,-66.58\"/>\n<polygon fill=\"black\" stroke=\"black\" points=\"607.52,-69.94 618.11,-70.24 610.03,-63.4 607.52,-69.94\"/>\n</g>\n<!-- 139843032163616 -->\n<g id=\"node8\" class=\"node\">\n<title>139843032163616</title>\n<polygon fill=\"none\" stroke=\"black\" points=\"705,-44.5 705,-113.5 812,-113.5 812,-44.5 705,-44.5\"/>\n<text text-anchor=\"middle\" x=\"758.5\" y=\"-98.3\" font-family=\"Times,serif\" font-size=\"14.00\">L</text>\n<polyline fill=\"none\" stroke=\"black\" points=\"705,-90.5 812,-90.5 \"/>\n<text text-anchor=\"middle\" x=\"758.5\" y=\"-75.3\" font-family=\"Times,serif\" font-size=\"14.00\">data &#45;8.0000</text>\n<polyline fill=\"none\" stroke=\"black\" points=\"705,-67.5 812,-67.5 \"/>\n<text text-anchor=\"middle\" x=\"758.5\" y=\"-52.3\" font-family=\"Times,serif\" font-size=\"14.00\">grad 1.0000</text>\n</g>\n<!-- 139843032163616*&#45;&gt;139843032163616 -->\n<g id=\"edge3\" class=\"edge\">\n<title>139843032163616*&#45;&gt;139843032163616</title>\n<path fill=\"none\" stroke=\"black\" d=\"M669.27,-79C676.94,-79 685.68,-79 694.61,-79\"/>\n<polygon fill=\"black\" stroke=\"black\" points=\"694.71,-82.5 704.71,-79 694.71,-75.5 694.71,-82.5\"/>\n</g>\n<!-- 139843396822448 -->\n<g id=\"node10\" class=\"node\">\n<title>139843396822448</title>\n<polygon fill=\"none\" stroke=\"black\" points=\"2,-88.5 2,-157.5 106,-157.5 106,-88.5 2,-88.5\"/>\n<text text-anchor=\"middle\" x=\"54\" y=\"-142.3\" font-family=\"Times,serif\" font-size=\"14.00\">a</text>\n<polyline fill=\"none\" stroke=\"black\" points=\"2,-134.5 106,-134.5 \"/>\n<text text-anchor=\"middle\" x=\"54\" y=\"-119.3\" font-family=\"Times,serif\" font-size=\"14.00\">data 2.0000</text>\n<polyline fill=\"none\" stroke=\"black\" points=\"2,-111.5 106,-111.5 \"/>\n<text text-anchor=\"middle\" x=\"54\" y=\"-96.3\" font-family=\"Times,serif\" font-size=\"14.00\">grad 6.0000</text>\n</g>\n<!-- 139843396822448&#45;&gt;139843396821728* -->\n<g id=\"edge5\" class=\"edge\">\n<title>139843396822448&#45;&gt;139843396821728*</title>\n<path fill=\"none\" stroke=\"black\" d=\"M106.11,-142.56C116.91,-146.69 128.01,-150.93 137.87,-154.71\"/>\n<polygon fill=\"black\" stroke=\"black\" points=\"136.66,-157.99 147.25,-158.3 139.16,-151.45 136.66,-157.99\"/>\n</g>\n</g>\n</svg>\n",
      "text/plain": [
       "<graphviz.graphs.Digraph at 0x7f2fbe41a490>"
      ]
     },
     "execution_count": 53,
     "metadata": {},
     "output_type": "execute_result"
    }
   ],
   "source": [
    "draw_dot(L)"
   ]
  },
  {
   "cell_type": "markdown",
   "metadata": {},
   "source": [
    "Now, manually backpropogating is a bit cumbersome. \n",
    "\n",
    "So, we can implement a function to do these derivative calculations and do the backpropogation for us, for each operation we perform.\n",
    "\n",
    "This function is the `_backward` function, this function will be called when we are going backwards through the graph and help us basically \n",
    "apply the chain rule.\n",
    "\n",
    "For each operation, the `_backward` function will leave a \"fingerprint\" of the operation in the resulting output.\n",
    "\n",
    "We can then call this \"fingerprint\" function on the output of the operation to see the gradients of the inputs with respect to the output."
   ]
  },
  {
   "cell_type": "code",
   "execution_count": 81,
   "metadata": {},
   "outputs": [],
   "source": [
    "# defining the skeleton of the autograd engine\n",
    "class Value:\n",
    "    def __init__(self, data, children=(), op=\"\", label='') -> None:\n",
    "        self.data = data\n",
    "        self.grad = 0\n",
    "        self._backward = lambda:None\n",
    "        self._prev = set(children)\n",
    "        self._op = op\n",
    "        self.label = label\n",
    "    \n",
    "    def __repr__(self) -> str:\n",
    "        return f\"Value(data={self.data})\"\n",
    "    \n",
    "    def __add__(self, other):\n",
    "        out = Value(self.data + other.data, children=(self, other), op='+')\n",
    "\n",
    "        def _backward():\n",
    "            self.grad = 1.0 * out.grad\n",
    "            other.grad = 1.0 * out.grad\n",
    "        out._backward = _backward         # we are not calling _backward, they return None, we are storing the function itself.\n",
    "\n",
    "        return out\n",
    "    \n",
    "    def __mul__(self, other):\n",
    "        out = Value(self.data * other.data, children=(self, other), op='*')\n",
    "\n",
    "        def _backward():\n",
    "            self.grad = other.data * out.grad\n",
    "            other.grad = self.data * out.grad\n",
    "        out._backward =_backward\n",
    "\n",
    "        return out\n",
    "    \n",
    "    def tanh(self):\n",
    "        x = self.data\n",
    "        t = (math.exp(2*x) - 1) / (math.exp(2*x) + 1)\n",
    "        out = Value(t, children=(self, ), op='tanh')\n",
    "\n",
    "        def _backward():\n",
    "            self.grad = (1 - t**2) * out.grad\n",
    "        out._backward = _backward\n",
    "        \n",
    "        return out\n"
   ]
  },
  {
   "cell_type": "code",
   "execution_count": 86,
   "metadata": {},
   "outputs": [
    {
     "data": {
      "image/svg+xml": "<?xml version=\"1.0\" encoding=\"UTF-8\" standalone=\"no\"?>\n<!DOCTYPE svg PUBLIC \"-//W3C//DTD SVG 1.1//EN\"\n \"http://www.w3.org/Graphics/SVG/1.1/DTD/svg11.dtd\">\n<!-- Generated by graphviz version 2.43.0 (0)\n -->\n<!-- Title: %3 Pages: 1 -->\n<svg width=\"342pt\" height=\"166pt\"\n viewBox=\"0.00 0.00 342.00 166.00\" xmlns=\"http://www.w3.org/2000/svg\" xmlns:xlink=\"http://www.w3.org/1999/xlink\">\n<g id=\"graph0\" class=\"graph\" transform=\"scale(1 1) rotate(0) translate(4 162)\">\n<title>%3</title>\n<polygon fill=\"white\" stroke=\"transparent\" points=\"-4,4 -4,-162 338,-162 338,4 -4,4\"/>\n<!-- 139843396176768 -->\n<g id=\"node1\" class=\"node\">\n<title>139843396176768</title>\n<polygon fill=\"none\" stroke=\"black\" points=\"230,-44.5 230,-113.5 334,-113.5 334,-44.5 230,-44.5\"/>\n<text text-anchor=\"middle\" x=\"282\" y=\"-98.3\" font-family=\"Times,serif\" font-size=\"14.00\">c</text>\n<polyline fill=\"none\" stroke=\"black\" points=\"230,-90.5 334,-90.5 \"/>\n<text text-anchor=\"middle\" x=\"282\" y=\"-75.3\" font-family=\"Times,serif\" font-size=\"14.00\">data 6.0000</text>\n<polyline fill=\"none\" stroke=\"black\" points=\"230,-67.5 334,-67.5 \"/>\n<text text-anchor=\"middle\" x=\"282\" y=\"-52.3\" font-family=\"Times,serif\" font-size=\"14.00\">grad 1.0000</text>\n</g>\n<!-- 139843396176768* -->\n<g id=\"node2\" class=\"node\">\n<title>139843396176768*</title>\n<ellipse fill=\"none\" stroke=\"black\" cx=\"167\" cy=\"-79\" rx=\"27\" ry=\"18\"/>\n<text text-anchor=\"middle\" x=\"167\" y=\"-75.3\" font-family=\"Times,serif\" font-size=\"14.00\">*</text>\n</g>\n<!-- 139843396176768*&#45;&gt;139843396176768 -->\n<g id=\"edge1\" class=\"edge\">\n<title>139843396176768*&#45;&gt;139843396176768</title>\n<path fill=\"none\" stroke=\"black\" d=\"M194.21,-79C201.88,-79 210.62,-79 219.51,-79\"/>\n<polygon fill=\"black\" stroke=\"black\" points=\"219.58,-82.5 229.58,-79 219.58,-75.5 219.58,-82.5\"/>\n</g>\n<!-- 139843396176000 -->\n<g id=\"node3\" class=\"node\">\n<title>139843396176000</title>\n<polygon fill=\"none\" stroke=\"black\" points=\"0,-88.5 0,-157.5 104,-157.5 104,-88.5 0,-88.5\"/>\n<text text-anchor=\"middle\" x=\"52\" y=\"-142.3\" font-family=\"Times,serif\" font-size=\"14.00\">a</text>\n<polyline fill=\"none\" stroke=\"black\" points=\"0,-134.5 104,-134.5 \"/>\n<text text-anchor=\"middle\" x=\"52\" y=\"-119.3\" font-family=\"Times,serif\" font-size=\"14.00\">data 2.0000</text>\n<polyline fill=\"none\" stroke=\"black\" points=\"0,-111.5 104,-111.5 \"/>\n<text text-anchor=\"middle\" x=\"52\" y=\"-96.3\" font-family=\"Times,serif\" font-size=\"14.00\">grad 3.0000</text>\n</g>\n<!-- 139843396176000&#45;&gt;139843396176768* -->\n<g id=\"edge2\" class=\"edge\">\n<title>139843396176000&#45;&gt;139843396176768*</title>\n<path fill=\"none\" stroke=\"black\" d=\"M104.21,-103.06C114.24,-99.15 124.5,-95.16 133.71,-91.57\"/>\n<polygon fill=\"black\" stroke=\"black\" points=\"135.17,-94.76 143.22,-87.87 132.63,-88.24 135.17,-94.76\"/>\n</g>\n<!-- 139843032550896 -->\n<g id=\"node4\" class=\"node\">\n<title>139843032550896</title>\n<polygon fill=\"none\" stroke=\"black\" points=\"0,-0.5 0,-69.5 104,-69.5 104,-0.5 0,-0.5\"/>\n<text text-anchor=\"middle\" x=\"52\" y=\"-54.3\" font-family=\"Times,serif\" font-size=\"14.00\">b</text>\n<polyline fill=\"none\" stroke=\"black\" points=\"0,-46.5 104,-46.5 \"/>\n<text text-anchor=\"middle\" x=\"52\" y=\"-31.3\" font-family=\"Times,serif\" font-size=\"14.00\">data 3.0000</text>\n<polyline fill=\"none\" stroke=\"black\" points=\"0,-23.5 104,-23.5 \"/>\n<text text-anchor=\"middle\" x=\"52\" y=\"-8.3\" font-family=\"Times,serif\" font-size=\"14.00\">grad 2.0000</text>\n</g>\n<!-- 139843032550896&#45;&gt;139843396176768* -->\n<g id=\"edge3\" class=\"edge\">\n<title>139843032550896&#45;&gt;139843396176768*</title>\n<path fill=\"none\" stroke=\"black\" d=\"M104.21,-54.94C114.24,-58.85 124.5,-62.84 133.71,-66.43\"/>\n<polygon fill=\"black\" stroke=\"black\" points=\"132.63,-69.76 143.22,-70.13 135.17,-63.24 132.63,-69.76\"/>\n</g>\n</g>\n</svg>\n",
      "text/plain": [
       "<graphviz.graphs.Digraph at 0x7f2fd3f40c10>"
      ]
     },
     "execution_count": 86,
     "metadata": {},
     "output_type": "execute_result"
    }
   ],
   "source": [
    "a = Value(2.0, label='a')\n",
    "b = Value(3.0, label='b')\n",
    "c = a*b; c.label = 'c'\n",
    "c.grad = 1.0\n",
    "c._backward()\n",
    "draw_dot(c)"
   ]
  },
  {
   "cell_type": "markdown",
   "metadata": {},
   "source": [
    "With this help, we can try to backpropogate on a slightly different set of operations: the mathematical model of the Neuron."
   ]
  },
  {
   "cell_type": "code",
   "execution_count": 68,
   "metadata": {},
   "outputs": [],
   "source": [
    "# simple neuron with two inputs, and thus 2 weights, and a bias\n",
    "# inputs x1, x2\n",
    "x1 = Value(2.0, label='x1')\n",
    "x2 = Value(0.0, label='x2')\n",
    "# weights w1, w2\n",
    "w1 = Value(-3.0, label='w1')\n",
    "w2 = Value(1.0, label='w2')\n",
    "# bias value of the neuron\n",
    "b = Value(6.881373, label='b')\n",
    "#x1*w1 + x2*w2 + b = n\n",
    "x1w1 = x1*w1; x1w1.label='x1w1'\n",
    "x2w2 = x2*w2; x2w2.label='x2w2'\n",
    "x1w1x2w2 = x1w1 + x2w2; x1w1x2w2.label='x1w1 + x2w2'\n",
    "n = x1w1x2w2 + b; n.label = 'n'\n",
    "# output = tanh(n)\n",
    "o = n.tanh(); o.label ='o'"
   ]
  },
  {
   "cell_type": "code",
   "execution_count": 80,
   "metadata": {},
   "outputs": [
    {
     "data": {
      "image/svg+xml": "<?xml version=\"1.0\" encoding=\"UTF-8\" standalone=\"no\"?>\n<!DOCTYPE svg PUBLIC \"-//W3C//DTD SVG 1.1//EN\"\n \"http://www.w3.org/Graphics/SVG/1.1/DTD/svg11.dtd\">\n<!-- Generated by graphviz version 2.43.0 (0)\n -->\n<!-- Title: %3 Pages: 1 -->\n<svg width=\"1059pt\" height=\"342pt\"\n viewBox=\"0.00 0.00 1058.69 342.00\" xmlns=\"http://www.w3.org/2000/svg\" xmlns:xlink=\"http://www.w3.org/1999/xlink\">\n<g id=\"graph0\" class=\"graph\" transform=\"scale(1 1) rotate(0) translate(4 338)\">\n<title>%3</title>\n<polygon fill=\"white\" stroke=\"transparent\" points=\"-4,4 -4,-338 1054.69,-338 1054.69,4 -4,4\"/>\n<!-- 139843396798544 -->\n<g id=\"node1\" class=\"node\">\n<title>139843396798544</title>\n<polygon fill=\"none\" stroke=\"black\" points=\"2,-264.5 2,-333.5 106,-333.5 106,-264.5 2,-264.5\"/>\n<text text-anchor=\"middle\" x=\"54\" y=\"-318.3\" font-family=\"Times,serif\" font-size=\"14.00\">x2</text>\n<polyline fill=\"none\" stroke=\"black\" points=\"2,-310.5 106,-310.5 \"/>\n<text text-anchor=\"middle\" x=\"54\" y=\"-295.3\" font-family=\"Times,serif\" font-size=\"14.00\">data 0.0000</text>\n<polyline fill=\"none\" stroke=\"black\" points=\"2,-287.5 106,-287.5 \"/>\n<text text-anchor=\"middle\" x=\"54\" y=\"-272.3\" font-family=\"Times,serif\" font-size=\"14.00\">grad 0.5000</text>\n</g>\n<!-- 139843396800272* -->\n<g id=\"node10\" class=\"node\">\n<title>139843396800272*</title>\n<ellipse fill=\"none\" stroke=\"black\" cx=\"171\" cy=\"-211\" rx=\"27\" ry=\"18\"/>\n<text text-anchor=\"middle\" x=\"171\" y=\"-207.3\" font-family=\"Times,serif\" font-size=\"14.00\">*</text>\n</g>\n<!-- 139843396798544&#45;&gt;139843396800272* -->\n<g id=\"edge12\" class=\"edge\">\n<title>139843396798544&#45;&gt;139843396800272*</title>\n<path fill=\"none\" stroke=\"black\" d=\"M100.12,-264.47C115.19,-252.94 131.46,-240.49 144.5,-230.51\"/>\n<polygon fill=\"black\" stroke=\"black\" points=\"146.74,-233.2 152.56,-224.35 142.49,-227.64 146.74,-233.2\"/>\n</g>\n<!-- 139843396799072 -->\n<g id=\"node2\" class=\"node\">\n<title>139843396799072</title>\n<polygon fill=\"none\" stroke=\"black\" points=\"2,-176.5 2,-245.5 106,-245.5 106,-176.5 2,-176.5\"/>\n<text text-anchor=\"middle\" x=\"54\" y=\"-230.3\" font-family=\"Times,serif\" font-size=\"14.00\">w2</text>\n<polyline fill=\"none\" stroke=\"black\" points=\"2,-222.5 106,-222.5 \"/>\n<text text-anchor=\"middle\" x=\"54\" y=\"-207.3\" font-family=\"Times,serif\" font-size=\"14.00\">data 1.0000</text>\n<polyline fill=\"none\" stroke=\"black\" points=\"2,-199.5 106,-199.5 \"/>\n<text text-anchor=\"middle\" x=\"54\" y=\"-184.3\" font-family=\"Times,serif\" font-size=\"14.00\">grad 0.0000</text>\n</g>\n<!-- 139843396799072&#45;&gt;139843396800272* -->\n<g id=\"edge13\" class=\"edge\">\n<title>139843396799072&#45;&gt;139843396800272*</title>\n<path fill=\"none\" stroke=\"black\" d=\"M106.11,-211C115.41,-211 124.93,-211 133.69,-211\"/>\n<polygon fill=\"black\" stroke=\"black\" points=\"133.93,-214.5 143.93,-211 133.93,-207.5 133.93,-214.5\"/>\n</g>\n<!-- 139843396797536 -->\n<g id=\"node3\" class=\"node\">\n<title>139843396797536</title>\n<polygon fill=\"none\" stroke=\"black\" points=\"472,-44.5 472,-113.5 576,-113.5 576,-44.5 472,-44.5\"/>\n<text text-anchor=\"middle\" x=\"524\" y=\"-98.3\" font-family=\"Times,serif\" font-size=\"14.00\">b</text>\n<polyline fill=\"none\" stroke=\"black\" points=\"472,-90.5 576,-90.5 \"/>\n<text text-anchor=\"middle\" x=\"524\" y=\"-75.3\" font-family=\"Times,serif\" font-size=\"14.00\">data 6.8814</text>\n<polyline fill=\"none\" stroke=\"black\" points=\"472,-67.5 576,-67.5 \"/>\n<text text-anchor=\"middle\" x=\"524\" y=\"-52.3\" font-family=\"Times,serif\" font-size=\"14.00\">grad 0.5000</text>\n</g>\n<!-- 139843396391696+ -->\n<g id=\"node8\" class=\"node\">\n<title>139843396391696+</title>\n<ellipse fill=\"none\" stroke=\"black\" cx=\"644\" cy=\"-123\" rx=\"27\" ry=\"18\"/>\n<text text-anchor=\"middle\" x=\"644\" y=\"-119.3\" font-family=\"Times,serif\" font-size=\"14.00\">+</text>\n</g>\n<!-- 139843396797536&#45;&gt;139843396391696+ -->\n<g id=\"edge11\" class=\"edge\">\n<title>139843396797536&#45;&gt;139843396391696+</title>\n<path fill=\"none\" stroke=\"black\" d=\"M576.07,-98.04C587.68,-102.37 599.71,-106.86 610.31,-110.81\"/>\n<polygon fill=\"black\" stroke=\"black\" points=\"609.39,-114.2 619.98,-114.42 611.84,-107.64 609.39,-114.2\"/>\n</g>\n<!-- 139843396391552 -->\n<g id=\"node4\" class=\"node\">\n<title>139843396391552</title>\n<polygon fill=\"none\" stroke=\"black\" points=\"946.69,-88.5 946.69,-157.5 1050.69,-157.5 1050.69,-88.5 946.69,-88.5\"/>\n<text text-anchor=\"middle\" x=\"998.69\" y=\"-142.3\" font-family=\"Times,serif\" font-size=\"14.00\">o</text>\n<polyline fill=\"none\" stroke=\"black\" points=\"946.69,-134.5 1050.69,-134.5 \"/>\n<text text-anchor=\"middle\" x=\"998.69\" y=\"-119.3\" font-family=\"Times,serif\" font-size=\"14.00\">data 0.7071</text>\n<polyline fill=\"none\" stroke=\"black\" points=\"946.69,-111.5 1050.69,-111.5 \"/>\n<text text-anchor=\"middle\" x=\"998.69\" y=\"-96.3\" font-family=\"Times,serif\" font-size=\"14.00\">grad 1.0000</text>\n</g>\n<!-- 139843396391552tanh -->\n<g id=\"node5\" class=\"node\">\n<title>139843396391552tanh</title>\n<ellipse fill=\"none\" stroke=\"black\" cx=\"878.85\" cy=\"-123\" rx=\"31.7\" ry=\"18\"/>\n<text text-anchor=\"middle\" x=\"878.85\" y=\"-119.3\" font-family=\"Times,serif\" font-size=\"14.00\">tanh</text>\n</g>\n<!-- 139843396391552tanh&#45;&gt;139843396391552 -->\n<g id=\"edge1\" class=\"edge\">\n<title>139843396391552tanh&#45;&gt;139843396391552</title>\n<path fill=\"none\" stroke=\"black\" d=\"M910.81,-123C918.74,-123 927.54,-123 936.42,-123\"/>\n<polygon fill=\"black\" stroke=\"black\" points=\"936.43,-126.5 946.43,-123 936.43,-119.5 936.43,-126.5\"/>\n</g>\n<!-- 139843396798640 -->\n<g id=\"node6\" class=\"node\">\n<title>139843396798640</title>\n<polygon fill=\"none\" stroke=\"black\" points=\"0.5,-88.5 0.5,-157.5 107.5,-157.5 107.5,-88.5 0.5,-88.5\"/>\n<text text-anchor=\"middle\" x=\"54\" y=\"-142.3\" font-family=\"Times,serif\" font-size=\"14.00\">w1</text>\n<polyline fill=\"none\" stroke=\"black\" points=\"0.5,-134.5 107.5,-134.5 \"/>\n<text text-anchor=\"middle\" x=\"54\" y=\"-119.3\" font-family=\"Times,serif\" font-size=\"14.00\">data &#45;3.0000</text>\n<polyline fill=\"none\" stroke=\"black\" points=\"0.5,-111.5 107.5,-111.5 \"/>\n<text text-anchor=\"middle\" x=\"54\" y=\"-96.3\" font-family=\"Times,serif\" font-size=\"14.00\">grad 1.0000</text>\n</g>\n<!-- 139843396797776* -->\n<g id=\"node13\" class=\"node\">\n<title>139843396797776*</title>\n<ellipse fill=\"none\" stroke=\"black\" cx=\"171\" cy=\"-123\" rx=\"27\" ry=\"18\"/>\n<text text-anchor=\"middle\" x=\"171\" y=\"-119.3\" font-family=\"Times,serif\" font-size=\"14.00\">*</text>\n</g>\n<!-- 139843396798640&#45;&gt;139843396797776* -->\n<g id=\"edge10\" class=\"edge\">\n<title>139843396798640&#45;&gt;139843396797776*</title>\n<path fill=\"none\" stroke=\"black\" d=\"M107.79,-123C116.59,-123 125.54,-123 133.8,-123\"/>\n<polygon fill=\"black\" stroke=\"black\" points=\"133.85,-126.5 143.85,-123 133.85,-119.5 133.85,-126.5\"/>\n</g>\n<!-- 139843396391696 -->\n<g id=\"node7\" class=\"node\">\n<title>139843396391696</title>\n<polygon fill=\"none\" stroke=\"black\" points=\"707,-88.5 707,-157.5 811,-157.5 811,-88.5 707,-88.5\"/>\n<text text-anchor=\"middle\" x=\"759\" y=\"-142.3\" font-family=\"Times,serif\" font-size=\"14.00\">n</text>\n<polyline fill=\"none\" stroke=\"black\" points=\"707,-134.5 811,-134.5 \"/>\n<text text-anchor=\"middle\" x=\"759\" y=\"-119.3\" font-family=\"Times,serif\" font-size=\"14.00\">data 0.8814</text>\n<polyline fill=\"none\" stroke=\"black\" points=\"707,-111.5 811,-111.5 \"/>\n<text text-anchor=\"middle\" x=\"759\" y=\"-96.3\" font-family=\"Times,serif\" font-size=\"14.00\">grad 0.5000</text>\n</g>\n<!-- 139843396391696&#45;&gt;139843396391552tanh -->\n<g id=\"edge9\" class=\"edge\">\n<title>139843396391696&#45;&gt;139843396391552tanh</title>\n<path fill=\"none\" stroke=\"black\" d=\"M811,-123C819.58,-123 828.38,-123 836.66,-123\"/>\n<polygon fill=\"black\" stroke=\"black\" points=\"836.82,-126.5 846.82,-123 836.82,-119.5 836.82,-126.5\"/>\n</g>\n<!-- 139843396391696+&#45;&gt;139843396391696 -->\n<g id=\"edge2\" class=\"edge\">\n<title>139843396391696+&#45;&gt;139843396391696</title>\n<path fill=\"none\" stroke=\"black\" d=\"M671.21,-123C678.88,-123 687.62,-123 696.51,-123\"/>\n<polygon fill=\"black\" stroke=\"black\" points=\"696.58,-126.5 706.58,-123 696.58,-119.5 696.58,-126.5\"/>\n</g>\n<!-- 139843396800272 -->\n<g id=\"node9\" class=\"node\">\n<title>139843396800272</title>\n<polygon fill=\"none\" stroke=\"black\" points=\"235.5,-176.5 235.5,-245.5 339.5,-245.5 339.5,-176.5 235.5,-176.5\"/>\n<text text-anchor=\"middle\" x=\"287.5\" y=\"-230.3\" font-family=\"Times,serif\" font-size=\"14.00\">x2w2</text>\n<polyline fill=\"none\" stroke=\"black\" points=\"235.5,-222.5 339.5,-222.5 \"/>\n<text text-anchor=\"middle\" x=\"287.5\" y=\"-207.3\" font-family=\"Times,serif\" font-size=\"14.00\">data 0.0000</text>\n<polyline fill=\"none\" stroke=\"black\" points=\"235.5,-199.5 339.5,-199.5 \"/>\n<text text-anchor=\"middle\" x=\"287.5\" y=\"-184.3\" font-family=\"Times,serif\" font-size=\"14.00\">grad 0.5000</text>\n</g>\n<!-- 139843396798400+ -->\n<g id=\"node15\" class=\"node\">\n<title>139843396798400+</title>\n<ellipse fill=\"none\" stroke=\"black\" cx=\"404\" cy=\"-167\" rx=\"27\" ry=\"18\"/>\n<text text-anchor=\"middle\" x=\"404\" y=\"-163.3\" font-family=\"Times,serif\" font-size=\"14.00\">+</text>\n</g>\n<!-- 139843396800272&#45;&gt;139843396798400+ -->\n<g id=\"edge6\" class=\"edge\">\n<title>139843396800272&#45;&gt;139843396798400+</title>\n<path fill=\"none\" stroke=\"black\" d=\"M339.72,-191.32C350.24,-187.27 361.03,-183.13 370.66,-179.43\"/>\n<polygon fill=\"black\" stroke=\"black\" points=\"372.13,-182.61 380.21,-175.76 369.62,-176.08 372.13,-182.61\"/>\n</g>\n<!-- 139843396800272*&#45;&gt;139843396800272 -->\n<g id=\"edge3\" class=\"edge\">\n<title>139843396800272*&#45;&gt;139843396800272</title>\n<path fill=\"none\" stroke=\"black\" d=\"M198.27,-211C206.32,-211 215.54,-211 224.91,-211\"/>\n<polygon fill=\"black\" stroke=\"black\" points=\"225.09,-214.5 235.09,-211 225.09,-207.5 225.09,-214.5\"/>\n</g>\n<!-- 139843396797728 -->\n<g id=\"node11\" class=\"node\">\n<title>139843396797728</title>\n<polygon fill=\"none\" stroke=\"black\" points=\"0,-0.5 0,-69.5 108,-69.5 108,-0.5 0,-0.5\"/>\n<text text-anchor=\"middle\" x=\"54\" y=\"-54.3\" font-family=\"Times,serif\" font-size=\"14.00\">x1</text>\n<polyline fill=\"none\" stroke=\"black\" points=\"0,-46.5 108,-46.5 \"/>\n<text text-anchor=\"middle\" x=\"54\" y=\"-31.3\" font-family=\"Times,serif\" font-size=\"14.00\">data 2.0000</text>\n<polyline fill=\"none\" stroke=\"black\" points=\"0,-23.5 108,-23.5 \"/>\n<text text-anchor=\"middle\" x=\"54\" y=\"-8.3\" font-family=\"Times,serif\" font-size=\"14.00\">grad &#45;1.5000</text>\n</g>\n<!-- 139843396797728&#45;&gt;139843396797776* -->\n<g id=\"edge8\" class=\"edge\">\n<title>139843396797728&#45;&gt;139843396797776*</title>\n<path fill=\"none\" stroke=\"black\" d=\"M100.12,-69.53C115.19,-81.06 131.46,-93.51 144.5,-103.49\"/>\n<polygon fill=\"black\" stroke=\"black\" points=\"142.49,-106.36 152.56,-109.65 146.74,-100.8 142.49,-106.36\"/>\n</g>\n<!-- 139843396797776 -->\n<g id=\"node12\" class=\"node\">\n<title>139843396797776</title>\n<polygon fill=\"none\" stroke=\"black\" points=\"234,-88.5 234,-157.5 341,-157.5 341,-88.5 234,-88.5\"/>\n<text text-anchor=\"middle\" x=\"287.5\" y=\"-142.3\" font-family=\"Times,serif\" font-size=\"14.00\">x1w1</text>\n<polyline fill=\"none\" stroke=\"black\" points=\"234,-134.5 341,-134.5 \"/>\n<text text-anchor=\"middle\" x=\"287.5\" y=\"-119.3\" font-family=\"Times,serif\" font-size=\"14.00\">data &#45;6.0000</text>\n<polyline fill=\"none\" stroke=\"black\" points=\"234,-111.5 341,-111.5 \"/>\n<text text-anchor=\"middle\" x=\"287.5\" y=\"-96.3\" font-family=\"Times,serif\" font-size=\"14.00\">grad 0.5000</text>\n</g>\n<!-- 139843396797776&#45;&gt;139843396798400+ -->\n<g id=\"edge14\" class=\"edge\">\n<title>139843396797776&#45;&gt;139843396798400+</title>\n<path fill=\"none\" stroke=\"black\" d=\"M341.06,-143.2C351.16,-147.08 361.46,-151.04 370.68,-154.58\"/>\n<polygon fill=\"black\" stroke=\"black\" points=\"369.62,-157.92 380.21,-158.24 372.13,-151.39 369.62,-157.92\"/>\n</g>\n<!-- 139843396797776*&#45;&gt;139843396797776 -->\n<g id=\"edge4\" class=\"edge\">\n<title>139843396797776*&#45;&gt;139843396797776</title>\n<path fill=\"none\" stroke=\"black\" d=\"M198.27,-123C205.94,-123 214.68,-123 223.61,-123\"/>\n<polygon fill=\"black\" stroke=\"black\" points=\"223.71,-126.5 233.71,-123 223.71,-119.5 223.71,-126.5\"/>\n</g>\n<!-- 139843396798400 -->\n<g id=\"node14\" class=\"node\">\n<title>139843396798400</title>\n<polygon fill=\"none\" stroke=\"black\" points=\"467,-132.5 467,-201.5 581,-201.5 581,-132.5 467,-132.5\"/>\n<text text-anchor=\"middle\" x=\"524\" y=\"-186.3\" font-family=\"Times,serif\" font-size=\"14.00\">x1w1 + x2w2</text>\n<polyline fill=\"none\" stroke=\"black\" points=\"467,-178.5 581,-178.5 \"/>\n<text text-anchor=\"middle\" x=\"524\" y=\"-163.3\" font-family=\"Times,serif\" font-size=\"14.00\">data &#45;6.0000</text>\n<polyline fill=\"none\" stroke=\"black\" points=\"467,-155.5 581,-155.5 \"/>\n<text text-anchor=\"middle\" x=\"524\" y=\"-140.3\" font-family=\"Times,serif\" font-size=\"14.00\">grad 0.5000</text>\n</g>\n<!-- 139843396798400&#45;&gt;139843396391696+ -->\n<g id=\"edge7\" class=\"edge\">\n<title>139843396798400&#45;&gt;139843396391696+</title>\n<path fill=\"none\" stroke=\"black\" d=\"M581.24,-146.03C591.35,-142.26 601.57,-138.45 610.71,-135.04\"/>\n<polygon fill=\"black\" stroke=\"black\" points=\"612,-138.3 620.14,-131.52 609.55,-131.74 612,-138.3\"/>\n</g>\n<!-- 139843396798400+&#45;&gt;139843396798400 -->\n<g id=\"edge5\" class=\"edge\">\n<title>139843396798400+&#45;&gt;139843396798400</title>\n<path fill=\"none\" stroke=\"black\" d=\"M431.19,-167C438.88,-167 447.67,-167 456.69,-167\"/>\n<polygon fill=\"black\" stroke=\"black\" points=\"456.93,-170.5 466.93,-167 456.93,-163.5 456.93,-170.5\"/>\n</g>\n</g>\n</svg>\n",
      "text/plain": [
       "<graphviz.graphs.Digraph at 0x7f2fd3f40850>"
      ]
     },
     "execution_count": 80,
     "metadata": {},
     "output_type": "execute_result"
    }
   ],
   "source": [
    "o.grad = 1.0 # since the gradient of o w.r.t o is just 1.\n",
    "draw_dot(o)"
   ]
  },
  {
   "cell_type": "code",
   "execution_count": 76,
   "metadata": {},
   "outputs": [],
   "source": [
    "o._backward()\n",
    "n._backward()"
   ]
  },
  {
   "cell_type": "code",
   "execution_count": 77,
   "metadata": {},
   "outputs": [],
   "source": [
    "b._backward() # won't return anything since it is not the result of an operation\n",
    "x1w1x2w2._backward()"
   ]
  },
  {
   "cell_type": "code",
   "execution_count": 79,
   "metadata": {},
   "outputs": [],
   "source": [
    "x2w2._backward()\n",
    "x1w1._backward()"
   ]
  },
  {
   "cell_type": "markdown",
   "metadata": {},
   "source": [
    "Even still, calling _backward() manually is a bit cumbersome as well, although less cumbersome than the manual differentiation.\n",
    "\n",
    "We can instead, organize the nodes in a particular order, so that the leaf nodes ( inputs that aren't the result of an operation ) are last and the root node is first. \n",
    "\n",
    "Then, recursively apply the _backward function from the root node to the leaf nodes. \n",
    "\n",
    "We can do this by doing a topological sort, then reversing the result. \n",
    "From my understanding, a topological sort makes sure that every node is ordered such that for every edge between nodes A and B, A comes before B."
   ]
  },
  {
   "cell_type": "code",
   "execution_count": null,
   "metadata": {},
   "outputs": [],
   "source": [
    "# topological sort\n",
    "def topological_sort():"
   ]
  },
  {
   "cell_type": "code",
   "execution_count": null,
   "metadata": {},
   "outputs": [],
   "source": [
    "# defining the skeleton of the autograd engine\n",
    "class Value:\n",
    "    def __init__(self, data, children=(), op=\"\", label='') -> None:\n",
    "        self.data = data\n",
    "        self.grad = 0\n",
    "        self._backward = lambda:None\n",
    "        self._prev = set(children)\n",
    "        self._op = op\n",
    "        self.label = label\n",
    "    \n",
    "    def __repr__(self) -> str:\n",
    "        return f\"Value(data={self.data})\"\n",
    "    \n",
    "    def __add__(self, other):\n",
    "        out = Value(self.data + other.data, children=(self, other), op='+')\n",
    "\n",
    "        def _backward():\n",
    "            self.grad = 1.0 * out.grad\n",
    "            other.grad = 1.0 * out.grad\n",
    "        out._backward = _backward         # we are not calling _backward, they return None, we are storing the function itself.\n",
    "\n",
    "        return out\n",
    "    \n",
    "    def __mul__(self, other):\n",
    "        out = Value(self.data * other.data, children=(self, other), op='*')\n",
    "\n",
    "        def _backward():\n",
    "            self.grad = other.data * out.grad\n",
    "            other.grad = self.data * out.grad\n",
    "        out._backward =_backward\n",
    "\n",
    "        return out\n",
    "    \n",
    "    def tanh(self):\n",
    "        x = self.data\n",
    "        t = (math.exp(2*x) - 1) / (math.exp(2*x) + 1)\n",
    "        out = Value(t, children=(self, ), op='tanh')\n",
    "\n",
    "        def _backward():\n",
    "            self.grad = (1 - t**2) * out.grad\n",
    "        out._backward = _backward\n",
    "        \n",
    "        return out\n"
   ]
  }
 ],
 "metadata": {
  "kernelspec": {
   "display_name": "Python 3.8.10 64-bit",
   "language": "python",
   "name": "python3"
  },
  "language_info": {
   "codemirror_mode": {
    "name": "ipython",
    "version": 3
   },
   "file_extension": ".py",
   "mimetype": "text/x-python",
   "name": "python",
   "nbconvert_exporter": "python",
   "pygments_lexer": "ipython3",
   "version": "3.8.10"
  },
  "orig_nbformat": 4,
  "vscode": {
   "interpreter": {
    "hash": "916dbcbb3f70747c44a77c7bcd40155683ae19c65e1c03b4aa3499c5328201f1"
   }
  }
 },
 "nbformat": 4,
 "nbformat_minor": 2
}
